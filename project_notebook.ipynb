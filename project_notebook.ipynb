{
 "metadata": {
  "kernelspec": {
   "name": "python3",
   "display_name": "Python 3.9.6 64-bit ('snlp': venv)"
  },
  "language_info": {
   "name": "python",
   "version": "3.9.6",
   "mimetype": "text/x-python",
   "codemirror_mode": {
    "name": "ipython",
    "version": 3
   },
   "pygments_lexer": "ipython3",
   "nbconvert_exporter": "python",
   "file_extension": ".py"
  },
  "interpreter": {
   "hash": "f0a7245247b824f88e8cdc9749c4ec8d41cad3b6de9273672e84a39a1c855c1d"
  }
 },
 "nbformat": 4,
 "nbformat_minor": 2,
 "cells": [
  {
   "cell_type": "markdown",
   "source": [
    "# English - Alice in wonderland\n",
    "\n",
    "## Data preparation"
   ],
   "metadata": {}
  },
  {
   "cell_type": "code",
   "execution_count": 1,
   "source": [
    "from importlib import reload\n",
    "\n",
    "import nltk\n",
    "nltk.download('punkt')"
   ],
   "outputs": [
    {
     "output_type": "stream",
     "name": "stderr",
     "text": [
      "[nltk_data] Downloading package punkt to /home/pavlem/nltk_data...\n",
      "[nltk_data]   Package punkt is already up-to-date!\n"
     ]
    },
    {
     "output_type": "execute_result",
     "data": {
      "text/plain": [
       "True"
      ]
     },
     "metadata": {},
     "execution_count": 1
    }
   ],
   "metadata": {}
  },
  {
   "cell_type": "code",
   "execution_count": 36,
   "source": [
    "import preprocessor\n",
    "preprocessor = reload(preprocessor)\n",
    "\n",
    "\n",
    "pp = preprocessor.Preprocessor(\"data/original/alice_in_wonderland.txt\", \"eng\", False)\n",
    "cleaned_corpus = pp.process()\n",
    "pp.split(cleaned_corpus)"
   ],
   "outputs": [
    {
     "output_type": "stream",
     "name": "stdout",
     "text": [
      "[later editions continued as follows When the sands are all dry, he is gay as a lark, And will talk in contemptuous tones of the Shark, But, when the tide rises and sharks are around, His voice has a timid and tremulous sound.].\n",
      "[later editions continued as follows The Panther took pie-crust, and gravy, and meat, While the Owl had the dish as its share of the treat.\n",
      "Number of unique characters: 35\n",
      "Number of characters: 367\n",
      "dict_keys(['[', 'l', 'a', 't', 'e', 'r', ' ', 'd', 'i', 'o', 'n', 's', 'c', 'u', 'f', 'w', 'W', 'h', 'y', ',', 'g', 'k', 'A', 'm', 'p', 'S', 'B', 'H', 'v', '.', ']', 'T', 'P', '-', 'O'])\n"
     ]
    }
   ],
   "metadata": {}
  },
  {
   "cell_type": "markdown",
   "source": [
    "## Subword segmentation"
   ],
   "metadata": {}
  },
  {
   "cell_type": "code",
   "execution_count": 2,
   "source": [
    "import sentpiece\n",
    "sentpiece = reload(sentpiece)\n",
    "\n",
    "# Character level train vocabular size = 68\n",
    "# Character level test vocabular size = 68\n",
    "\n",
    "\n",
    "NUM_CHARS = 2500\n",
    "TRAIN_DATA_PATH = \"data/processed/eng_test.txt\"\n",
    "MODEL_NAME = \"eng_model_lrg_base\"\n",
    "TYPE = \"_train\""
   ],
   "outputs": [],
   "metadata": {}
  },
  {
   "cell_type": "code",
   "execution_count": 41,
   "source": [
    "sentpiece.train_model(TRAIN_DATA_PATH, MODEL_NAME + TYPE, NUM_CHARS)"
   ],
   "outputs": [
    {
     "output_type": "stream",
     "name": "stderr",
     "text": [
      "sentencepiece_trainer.cc(77) LOG(INFO) Starts training with : \n",
      "trainer_spec {\n",
      "  input: data/processed/eng_test.txt\n",
      "  input_format: \n",
      "  model_prefix: eng_model_lrg_base_test\n",
      "  model_type: BPE\n",
      "  vocab_size: 2500\n",
      "  self_test_sample_size: 0\n",
      "  character_coverage: 1\n",
      "  input_sentence_size: 0\n",
      "  shuffle_input_sentence: 1\n",
      "  seed_sentencepiece_size: 1000000\n",
      "  shrinking_factor: 0.75\n",
      "  max_sentence_length: 4192\n",
      "  num_threads: 16\n",
      "  num_sub_iterations: 2\n",
      "  max_sentencepiece_length: 16\n",
      "  split_by_unicode_script: 1\n",
      "  split_by_number: 1\n",
      "  split_by_whitespace: 1\n",
      "  split_digits: 0\n",
      "  treat_whitespace_as_suffix: 0\n",
      "  allow_whitespace_only_pieces: 0\n",
      "  required_chars: \n",
      "  byte_fallback: 0\n",
      "  vocabulary_output_piece_score: 1\n",
      "  train_extremely_large_corpus: 0\n",
      "  hard_vocab_limit: 1\n",
      "  use_all_vocab: 0\n",
      "  unk_id: 0\n",
      "  bos_id: 1\n",
      "  eos_id: 2\n",
      "  pad_id: -1\n",
      "  unk_piece: <unk>\n",
      "  bos_piece: <s>\n",
      "  eos_piece: </s>\n",
      "  pad_piece: <pad>\n",
      "  unk_surface:  ⁇ \n",
      "}\n",
      "normalizer_spec {\n",
      "  name: nmt_nfkc\n",
      "  add_dummy_prefix: 1\n",
      "  remove_extra_whitespaces: 1\n",
      "  escape_whitespaces: 1\n",
      "  normalization_rule_tsv: \n",
      "}\n",
      "denormalizer_spec {}\n",
      "trainer_interface.cc(329) LOG(INFO) SentenceIterator is not specified. Using MultiFileSentenceIterator.\n",
      "trainer_interface.cc(178) LOG(INFO) Loading corpus: data/processed/eng_test.txt\n",
      "trainer_interface.cc(385) LOG(INFO) Loaded all 272 sentences\n",
      "trainer_interface.cc(400) LOG(INFO) Adding meta_piece: <unk>\n",
      "trainer_interface.cc(400) LOG(INFO) Adding meta_piece: <s>\n",
      "trainer_interface.cc(400) LOG(INFO) Adding meta_piece: </s>\n",
      "trainer_interface.cc(405) LOG(INFO) Normalizing sentences...\n",
      "trainer_interface.cc(466) LOG(INFO) all chars count=29527\n",
      "trainer_interface.cc(487) LOG(INFO) Alphabet size=65\n",
      "trainer_interface.cc(488) LOG(INFO) Final character coverage=1\n",
      "trainer_interface.cc(520) LOG(INFO) Done! preprocessed 272 sentences.\n",
      "trainer_interface.cc(526) LOG(INFO) Tokenizing input sentences with whitespace: 272\n",
      "trainer_interface.cc(537) LOG(INFO) Done! 1762\n",
      "bpe_model_trainer.cc(167) LOG(INFO) Updating active symbols. max_freq=899 min_freq=1\n",
      "bpe_model_trainer.cc(258) LOG(INFO) Added: freq=155 size=20 all=1005 active=940 piece=▁c\n",
      "bpe_model_trainer.cc(258) LOG(INFO) Added: freq=98 size=40 all=1226 active=1161 piece=▁in\n",
      "bpe_model_trainer.cc(258) LOG(INFO) Added: freq=76 size=60 all=1488 active=1423 piece='.\n",
      "bpe_model_trainer.cc(258) LOG(INFO) Added: freq=56 size=80 all=1652 active=1587 piece=ter\n",
      "bpe_model_trainer.cc(258) LOG(INFO) Added: freq=42 size=100 all=1774 active=1709 piece=ent\n",
      "bpe_model_trainer.cc(167) LOG(INFO) Updating active symbols. max_freq=42 min_freq=2\n",
      "bpe_model_trainer.cc(258) LOG(INFO) Added: freq=34 size=120 all=1928 active=1134 piece=our\n",
      "bpe_model_trainer.cc(258) LOG(INFO) Added: freq=26 size=140 all=2025 active=1231 piece=ain\n",
      "bpe_model_trainer.cc(258) LOG(INFO) Added: freq=22 size=160 all=2071 active=1277 piece=▁Q\n",
      "bpe_model_trainer.cc(258) LOG(INFO) Added: freq=20 size=180 all=2135 active=1341 piece=▁what\n",
      "bpe_model_trainer.cc(258) LOG(INFO) Added: freq=18 size=200 all=2189 active=1395 piece=▁little\n",
      "bpe_model_trainer.cc(167) LOG(INFO) Updating active symbols. max_freq=17 min_freq=2\n",
      "bpe_model_trainer.cc(258) LOG(INFO) Added: freq=16 size=220 all=2241 active=1053 piece=▁\"\n",
      "bpe_model_trainer.cc(258) LOG(INFO) Added: freq=14 size=240 all=2294 active=1106 piece=mb\n",
      "bpe_model_trainer.cc(258) LOG(INFO) Added: freq=13 size=260 all=2375 active=1187 piece=ne\n",
      "bpe_model_trainer.cc(258) LOG(INFO) Added: freq=12 size=280 all=2432 active=1244 piece=It\n",
      "bpe_model_trainer.cc(258) LOG(INFO) Added: freq=11 size=300 all=2486 active=1298 piece=ded\n",
      "bpe_model_trainer.cc(167) LOG(INFO) Updating active symbols. max_freq=11 min_freq=2\n",
      "bpe_model_trainer.cc(258) LOG(INFO) Added: freq=11 size=320 all=2540 active=1053 piece=▁Soup\n",
      "bpe_model_trainer.cc(258) LOG(INFO) Added: freq=10 size=340 all=2583 active=1096 piece=ther\n",
      "bpe_model_trainer.cc(258) LOG(INFO) Added: freq=9 size=360 all=2615 active=1128 piece=▁L\n",
      "bpe_model_trainer.cc(258) LOG(INFO) Added: freq=9 size=380 all=2638 active=1151 piece=▁tone\n",
      "bpe_model_trainer.cc(258) LOG(INFO) Added: freq=8 size=400 all=2650 active=1163 piece=▁into\n",
      "bpe_model_trainer.cc(167) LOG(INFO) Updating active symbols. max_freq=8 min_freq=1\n",
      "bpe_model_trainer.cc(258) LOG(INFO) Added: freq=7 size=420 all=2665 active=1016 piece=ear\n",
      "bpe_model_trainer.cc(258) LOG(INFO) Added: freq=7 size=440 all=2715 active=1066 piece=▁sis\n",
      "bpe_model_trainer.cc(258) LOG(INFO) Added: freq=6 size=460 all=2722 active=1073 piece=iz\n",
      "bpe_model_trainer.cc(258) LOG(INFO) Added: freq=6 size=480 all=2767 active=1118 piece=▁we\n",
      "bpe_model_trainer.cc(258) LOG(INFO) Added: freq=6 size=500 all=2784 active=1135 piece=▁back\n",
      "bpe_model_trainer.cc(167) LOG(INFO) Updating active symbols. max_freq=6 min_freq=1\n",
      "bpe_model_trainer.cc(258) LOG(INFO) Added: freq=6 size=520 all=2779 active=996 piece=▁explain\n",
      "bpe_model_trainer.cc(258) LOG(INFO) Added: freq=5 size=540 all=2804 active=1021 piece=ile\n",
      "bpe_model_trainer.cc(258) LOG(INFO) Added: freq=5 size=560 all=2842 active=1059 piece=▁Liz\n",
      "bpe_model_trainer.cc(258) LOG(INFO) Added: freq=5 size=580 all=2844 active=1061 piece=butter\n",
      "bpe_model_trainer.cc(258) LOG(INFO) Added: freq=5 size=600 all=2837 active=1054 piece=▁evening\n",
      "bpe_model_trainer.cc(167) LOG(INFO) Updating active symbols. max_freq=5 min_freq=1\n",
      "bpe_model_trainer.cc(258) LOG(INFO) Added: freq=4 size=620 all=2849 active=1013 piece=ick\n",
      "bpe_model_trainer.cc(258) LOG(INFO) Added: freq=4 size=640 all=2889 active=1053 piece=OULD\n",
      "bpe_model_trainer.cc(258) LOG(INFO) Added: freq=4 size=660 all=2913 active=1077 piece=▁cro\n",
      "bpe_model_trainer.cc(258) LOG(INFO) Added: freq=4 size=680 all=2922 active=1086 piece=▁come\n",
      "bpe_model_trainer.cc(258) LOG(INFO) Added: freq=4 size=700 all=2913 active=1077 piece=iously\n",
      "bpe_model_trainer.cc(167) LOG(INFO) Updating active symbols. max_freq=4 min_freq=1\n",
      "bpe_model_trainer.cc(258) LOG(INFO) Added: freq=4 size=720 all=2908 active=994 piece=▁mouths\n",
      "bpe_model_trainer.cc(258) LOG(INFO) Added: freq=4 size=740 all=2893 active=979 piece=▁interrupted\n",
      "bpe_model_trainer.cc(258) LOG(INFO) Added: freq=3 size=760 all=2913 active=999 piece=AVE\n",
      "bpe_model_trainer.cc(258) LOG(INFO) Added: freq=3 size=780 all=2942 active=1028 piece=lse\n",
      "bpe_model_trainer.cc(258) LOG(INFO) Added: freq=3 size=800 all=2965 active=1051 piece=▁sc\n",
      "bpe_model_trainer.cc(167) LOG(INFO) Updating active symbols. max_freq=3 min_freq=1\n",
      "bpe_model_trainer.cc(258) LOG(INFO) Added: freq=3 size=820 all=2981 active=1015 piece=pigs\n",
      "bpe_model_trainer.cc(258) LOG(INFO) Added: freq=3 size=840 all=2989 active=1023 piece=▁run\n",
      "bpe_model_trainer.cc(258) LOG(INFO) Added: freq=3 size=860 all=2996 active=1030 piece=▁Here\n",
      "bpe_model_trainer.cc(258) LOG(INFO) Added: freq=3 size=880 all=2986 active=1020 piece=▁nerv\n",
      "bpe_model_trainer.cc(258) LOG(INFO) Added: freq=3 size=900 all=2981 active=1015 piece=▁often\n",
      "bpe_model_trainer.cc(167) LOG(INFO) Updating active symbols. max_freq=3 min_freq=1\n",
      "bpe_model_trainer.cc(258) LOG(INFO) Added: freq=3 size=920 all=2973 active=993 piece=▁confus\n",
      "bpe_model_trainer.cc(258) LOG(INFO) Added: freq=3 size=940 all=2958 active=978 piece=▁written\n",
      "bpe_model_trainer.cc(258) LOG(INFO) Added: freq=2 size=960 all=2945 active=965 piece=NE\n",
      "bpe_model_trainer.cc(258) LOG(INFO) Added: freq=2 size=980 all=2966 active=986 piece=And\n",
      "bpe_model_trainer.cc(258) LOG(INFO) Added: freq=2 size=1000 all=2975 active=995 piece=esn\n",
      "bpe_model_trainer.cc(167) LOG(INFO) Updating active symbols. max_freq=2 min_freq=1\n",
      "bpe_model_trainer.cc(258) LOG(INFO) Added: freq=2 size=1020 all=2998 active=1023 piece=uad\n",
      "bpe_model_trainer.cc(258) LOG(INFO) Added: freq=2 size=1040 all=2996 active=1021 piece=cted\n",
      "bpe_model_trainer.cc(258) LOG(INFO) Added: freq=2 size=1060 all=3004 active=1029 piece=▁ALL\n",
      "bpe_model_trainer.cc(258) LOG(INFO) Added: freq=2 size=1080 all=3002 active=1027 piece=▁fit\n",
      "bpe_model_trainer.cc(258) LOG(INFO) Added: freq=2 size=1100 all=2998 active=1023 piece=arden\n",
      "bpe_model_trainer.cc(167) LOG(INFO) Updating active symbols. max_freq=2 min_freq=1\n",
      "bpe_model_trainer.cc(258) LOG(INFO) Added: freq=2 size=1120 all=3003 active=1005 piece=▁MUST\n",
      "bpe_model_trainer.cc(258) LOG(INFO) Added: freq=2 size=1140 all=2989 active=991 piece=▁full\n",
      "bpe_model_trainer.cc(258) LOG(INFO) Added: freq=2 size=1160 all=2979 active=981 piece=▁pick\n",
      "bpe_model_trainer.cc(258) LOG(INFO) Added: freq=2 size=1180 all=2968 active=970 piece=itions\n",
      "bpe_model_trainer.cc(258) LOG(INFO) Added: freq=2 size=1200 all=2957 active=959 piece=▁grave\n",
      "bpe_model_trainer.cc(167) LOG(INFO) Updating active symbols. max_freq=2 min_freq=1\n",
      "bpe_model_trainer.cc(258) LOG(INFO) Added: freq=2 size=1220 all=2947 active=990 piece=▁watch\n",
      "bpe_model_trainer.cc(258) LOG(INFO) Added: freq=2 size=1240 all=2932 active=975 piece=▁fright\n",
      "bpe_model_trainer.cc(258) LOG(INFO) Added: freq=2 size=1260 all=2917 active=960 piece=▁waving\n",
      "bpe_model_trainer.cc(258) LOG(INFO) Added: freq=2 size=1280 all=2897 active=940 piece=▁through\n",
      "bpe_model_trainer.cc(258) LOG(INFO) Added: freq=2 size=1300 all=2880 active=923 piece=▁neighbour\n",
      "bpe_model_trainer.cc(167) LOG(INFO) Updating active symbols. max_freq=2 min_freq=1\n",
      "bpe_model_trainer.cc(258) LOG(INFO) Added: freq=1 size=1320 all=2861 active=981 piece=.\"\n",
      "bpe_model_trainer.cc(258) LOG(INFO) Added: freq=1 size=1340 all=2864 active=984 piece=UR\n",
      "bpe_model_trainer.cc(258) LOG(INFO) Added: freq=1 size=1360 all=2870 active=990 piece=ra\n",
      "bpe_model_trainer.cc(258) LOG(INFO) Added: freq=1 size=1380 all=2870 active=990 piece=Her\n",
      "bpe_model_trainer.cc(258) LOG(INFO) Added: freq=1 size=1400 all=2865 active=985 piece=Tis\n",
      "bpe_model_trainer.cc(167) LOG(INFO) Updating active symbols. max_freq=1 min_freq=1\n",
      "bpe_model_trainer.cc(258) LOG(INFO) Added: freq=1 size=1420 all=2861 active=997 piece=bec\n",
      "bpe_model_trainer.cc(258) LOG(INFO) Added: freq=1 size=1440 all=2870 active=1006 piece=gar\n",
      "bpe_model_trainer.cc(258) LOG(INFO) Added: freq=1 size=1460 all=2877 active=1013 piece=jur\n",
      "bpe_model_trainer.cc(258) LOG(INFO) Added: freq=1 size=1480 all=2882 active=1018 piece=ppl\n",
      "bpe_model_trainer.cc(258) LOG(INFO) Added: freq=1 size=1500 all=2890 active=1026 piece=wsp\n",
      "bpe_model_trainer.cc(167) LOG(INFO) Updating active symbols. max_freq=1 min_freq=0\n",
      "bpe_model_trainer.cc(258) LOG(INFO) Added: freq=1 size=1520 all=2884 active=993 piece=▁Su\n",
      "bpe_model_trainer.cc(258) LOG(INFO) Added: freq=1 size=1540 all=2879 active=988 piece=?\"'.\n",
      "bpe_model_trainer.cc(258) LOG(INFO) Added: freq=1 size=1560 all=2870 active=979 piece=VERY\n",
      "bpe_model_trainer.cc(258) LOG(INFO) Added: freq=1 size=1580 all=2868 active=977 piece=ddle\n",
      "bpe_model_trainer.cc(258) LOG(INFO) Added: freq=1 size=1600 all=2875 active=984 piece=inch\n",
      "bpe_model_trainer.cc(167) LOG(INFO) Updating active symbols. max_freq=1 min_freq=0\n",
      "bpe_model_trainer.cc(258) LOG(INFO) Added: freq=1 size=1620 all=2874 active=999 piece=raid\n",
      "bpe_model_trainer.cc(258) LOG(INFO) Added: freq=1 size=1640 all=2871 active=996 piece=very\n",
      "bpe_model_trainer.cc(258) LOG(INFO) Added: freq=1 size=1660 all=2857 active=982 piece=▁SIT\n",
      "bpe_model_trainer.cc(258) LOG(INFO) Added: freq=1 size=1680 all=2843 active=968 piece=▁fid\n",
      "bpe_model_trainer.cc(258) LOG(INFO) Added: freq=1 size=1700 all=2838 active=963 piece=▁our\n",
      "bpe_model_trainer.cc(167) LOG(INFO) Updating active symbols. max_freq=1 min_freq=0\n",
      "bpe_model_trainer.cc(258) LOG(INFO) Added: freq=1 size=1720 all=2827 active=989 piece=Sixte\n",
      "bpe_model_trainer.cc(258) LOG(INFO) Added: freq=1 size=1740 all=2823 active=985 piece=ardbo\n",
      "bpe_model_trainer.cc(258) LOG(INFO) Added: freq=1 size=1760 all=2824 active=986 piece=grily\n",
      "bpe_model_trainer.cc(258) LOG(INFO) Added: freq=1 size=1780 all=2824 active=986 piece=pherd\n",
      "bpe_model_trainer.cc(258) LOG(INFO) Added: freq=1 size=1800 all=2821 active=983 piece=▁Game\n",
      "bpe_model_trainer.cc(167) LOG(INFO) Updating active symbols. max_freq=1 min_freq=0\n",
      "bpe_model_trainer.cc(258) LOG(INFO) Added: freq=1 size=1820 all=2803 active=983 piece=▁ache\n",
      "bpe_model_trainer.cc(258) LOG(INFO) Added: freq=1 size=1840 all=2789 active=969 piece=▁dull\n",
      "bpe_model_trainer.cc(258) LOG(INFO) Added: freq=1 size=1860 all=2774 active=954 piece=▁joys\n",
      "bpe_model_trainer.cc(258) LOG(INFO) Added: freq=1 size=1880 all=2759 active=939 piece=▁rose\n",
      "bpe_model_trainer.cc(258) LOG(INFO) Added: freq=1 size=1900 all=2746 active=926 piece=▁tiny\n",
      "bpe_model_trainer.cc(167) LOG(INFO) Updating active symbols. max_freq=1 min_freq=0\n",
      "bpe_model_trainer.cc(258) LOG(INFO) Added: freq=1 size=1920 all=2730 active=985 piece=Herald\n",
      "bpe_model_trainer.cc(258) LOG(INFO) Added: freq=1 size=1940 all=2719 active=974 piece=fectly\n",
      "bpe_model_trainer.cc(258) LOG(INFO) Added: freq=1 size=1960 all=2719 active=974 piece=tempts\n",
      "bpe_model_trainer.cc(258) LOG(INFO) Added: freq=1 size=1980 all=2707 active=962 piece=▁VOICE\n",
      "bpe_model_trainer.cc(258) LOG(INFO) Added: freq=1 size=2000 all=2691 active=946 piece=▁faces\n",
      "bpe_model_trainer.cc(167) LOG(INFO) Updating active symbols. max_freq=1 min_freq=0\n",
      "bpe_model_trainer.cc(258) LOG(INFO) Added: freq=1 size=2020 all=2673 active=983 piece=▁means\n",
      "bpe_model_trainer.cc(258) LOG(INFO) Added: freq=1 size=2040 all=2657 active=967 piece=▁saves\n",
      "bpe_model_trainer.cc(258) LOG(INFO) Added: freq=1 size=2060 all=2639 active=949 piece=▁tried\n",
      "bpe_model_trainer.cc(258) LOG(INFO) Added: freq=1 size=2080 all=2623 active=933 piece=reading\n",
      "bpe_model_trainer.cc(258) LOG(INFO) Added: freq=1 size=2100 all=2607 active=917 piece=▁cannot\n",
      "bpe_model_trainer.cc(167) LOG(INFO) Updating active symbols. max_freq=1 min_freq=0\n",
      "bpe_model_trainer.cc(258) LOG(INFO) Added: freq=1 size=2120 all=2588 active=982 piece=▁filled\n",
      "bpe_model_trainer.cc(258) LOG(INFO) Added: freq=1 size=2140 all=2568 active=962 piece=▁lasted\n",
      "bpe_model_trainer.cc(258) LOG(INFO) Added: freq=1 size=2160 all=2548 active=942 piece=▁person\n",
      "bpe_model_trainer.cc(258) LOG(INFO) Added: freq=1 size=2180 all=2528 active=922 piece=▁sighed\n",
      "bpe_model_trainer.cc(258) LOG(INFO) Added: freq=1 size=2200 all=2511 active=905 piece=fortable\n",
      "bpe_model_trainer.cc(167) LOG(INFO) Updating active symbols. max_freq=1 min_freq=0\n",
      "bpe_model_trainer.cc(258) LOG(INFO) Added: freq=1 size=2220 all=2494 active=983 piece=▁clamour\n",
      "bpe_model_trainer.cc(258) LOG(INFO) Added: freq=1 size=2240 all=2474 active=963 piece=▁guessed\n",
      "bpe_model_trainer.cc(258) LOG(INFO) Added: freq=1 size=2260 all=2454 active=943 piece=▁reality\n",
      "bpe_model_trainer.cc(258) LOG(INFO) Added: freq=1 size=2280 all=2435 active=924 piece=▁stopped\n",
      "bpe_model_trainer.cc(258) LOG(INFO) Added: freq=1 size=2300 all=2416 active=905 piece=▁WHATEVER\n",
      "bpe_model_trainer.cc(167) LOG(INFO) Updating active symbols. max_freq=1 min_freq=0\n",
      "bpe_model_trainer.cc(258) LOG(INFO) Added: freq=1 size=2320 all=2396 active=981 piece=▁fidgeted\n",
      "bpe_model_trainer.cc(258) LOG(INFO) Added: freq=1 size=2340 all=2377 active=962 piece=▁returned\n",
      "bpe_model_trainer.cc(258) LOG(INFO) Added: freq=1 size=2360 all=2357 active=942 piece=▁watching\n",
      "bpe_model_trainer.cc(258) LOG(INFO) Added: freq=1 size=2380 all=2338 active=923 piece=▁everybody\n",
      "bpe_model_trainer.cc(258) LOG(INFO) Added: freq=1 size=2400 all=2318 active=903 piece=▁signifies\n",
      "bpe_model_trainer.cc(167) LOG(INFO) Updating active symbols. max_freq=1 min_freq=0\n",
      "bpe_model_trainer.cc(258) LOG(INFO) Added: freq=1 size=2420 all=2298 active=981 piece=▁forgetting\n",
      "trainer_interface.cc(615) LOG(INFO) Saving model: eng_model_lrg_base_test.model\n",
      "trainer_interface.cc(626) LOG(INFO) Saving vocabs: eng_model_lrg_base_test.vocab\n"
     ]
    }
   ],
   "metadata": {}
  },
  {
   "cell_type": "code",
   "execution_count": 42,
   "source": [
    "!mv $MODEL_NAME* spm_models/"
   ],
   "outputs": [],
   "metadata": {}
  },
  {
   "cell_type": "code",
   "execution_count": 43,
   "source": [
    "SEG_DATA_FILE = \"eng_lrg_base_test.txt\"\n",
    "\n",
    "\n",
    "sentpiece.segmentation(TRAIN_DATA_PATH, MODEL_NAME + TYPE, SEG_DATA_FILE)"
   ],
   "outputs": [],
   "metadata": {}
  },
  {
   "cell_type": "markdown",
   "source": [
    "## Train LM"
   ],
   "metadata": {}
  },
  {
   "cell_type": "code",
   "execution_count": 47,
   "source": [
    "TRAIN_SEG_DATA_PATH = \"data/segmented/eng_lrg_base_train.txt\"\n",
    "TEST_SEG_DATA_PATH = \"data/segmented/eng_lrg_base_test.txt\"\n",
    "NUM_LAYERS = 60\n",
    "CLASS = 2400\n",
    "BPTT = 3\n",
    "\n",
    "\n",
    "!bash train_script.sh $TRAIN_SEG_DATA_PATH $TEST_SEG_DATA_PATH $NUM_LAYERS $CLASS $BPTT"
   ],
   "outputs": [
    {
     "output_type": "stream",
     "name": "stdout",
     "text": [
      "rm: cannot remove 'rnnlm/models/model': No such file or directory\n",
      "rm: cannot remove 'rnnlm/models/model.output.txt': No such file or directory\n",
      "debug mode: 2\n",
      "train file: data/segmented/eng_lrg_base_train.txt\n",
      "valid file: data/segmented/eng_lrg_base_test.txt\n",
      "class size: 2400\n",
      "Hidden layer size: 60\n",
      "BPTT: 3\n",
      "Rand seed: 1\n",
      "rnnlm file: model\n",
      "Starting training using file data/segmented/eng_lrg_base_train.txt\n",
      "Vocab size: 2224\n",
      "Words in train file: 29551\n",
      "WARNING: number of classes exceeds vocabulary size!\n",
      "Iter:   0\tAlpha: 0.100000\t   TRAIN entropy: 8.6827    Words/sec: 2747.9   VALID entropy: 7.8984\n",
      "Iter:   1\tAlpha: 0.100000\t   TRAIN entropy: 7.9714    Words/sec: 2827.0   VALID entropy: 7.4885\n",
      "Iter:   2\tAlpha: 0.100000\t   TRAIN entropy: 7.5295    Words/sec: 2906.3   VALID entropy: 7.3258\n",
      "Iter:   3\tAlpha: 0.100000\t   TRAIN entropy: 7.2084    Words/sec: 2841.0   VALID entropy: 7.2263\n",
      "Iter:   4\tAlpha: 0.100000\t   TRAIN entropy: 6.9551    Words/sec: 3138.2   VALID entropy: 7.1319\n",
      "Iter:   5\tAlpha: 0.100000\t   TRAIN entropy: 6.7439    Words/sec: 3090.6   VALID entropy: 7.0878\n",
      "Iter:   6\tAlpha: 0.100000\t   TRAIN entropy: 6.5603    Words/sec: 3179.7   VALID entropy: 7.0635\n",
      "Iter:   7\tAlpha: 0.100000\t   TRAIN entropy: 6.3915    Words/sec: 3122.1   VALID entropy: 7.0866\n",
      "Iter:   8\tAlpha: 0.050000\t   TRAIN entropy: 6.3141    Words/sec: 3134.3   VALID entropy: 6.8485\n",
      "Iter:   9\tAlpha: 0.025000\t   TRAIN entropy: 6.1748    Words/sec: 2850.5   VALID entropy: 6.5759\n",
      "Iter:  10\tAlpha: 0.012500\t   TRAIN entropy: 6.1026    Words/sec: 3091.4   VALID entropy: 6.3332\n",
      "Iter:  11\tAlpha: 0.006250\t   TRAIN entropy: 6.0680    Words/sec: 2689.0   VALID entropy: 6.1623\n",
      "Iter:  12\tAlpha: 0.003125\t   TRAIN entropy: 6.0514    Words/sec: 2870.7   VALID entropy: 6.0137\n",
      "Iter:  13\tAlpha: 0.001563\t   TRAIN entropy: 6.0423    Words/sec: 2830.7   VALID entropy: 5.9279\n",
      "Iter:  14\tAlpha: 0.000781\t   TRAIN entropy: 6.0361    Words/sec: 3056.5   VALID entropy: 5.9031\n",
      "Iter:  15\tAlpha: 0.000391\t   TRAIN entropy: 6.0314    Words/sec: 2993.9   VALID entropy: 5.8992\n",
      "\n",
      "real\t2m48.706s\n",
      "user\t2m48.308s\n",
      "sys\t0m0.176s\n"
     ]
    }
   ],
   "metadata": {}
  },
  {
   "cell_type": "code",
   "execution_count": 45,
   "source": [
    "MODEL_OUTPUT = MODEL_NAME + \".output.txt\"\n",
    "\n",
    "!mv model $MODEL_NAME\n",
    "!mv model.output.txt $MODEL_OUTPUT\n",
    "\n",
    "!mv $MODEL_NAME $MODEL_OUTPUT rnnlm_models/"
   ],
   "outputs": [],
   "metadata": {}
  },
  {
   "cell_type": "markdown",
   "source": [
    "## Data generation"
   ],
   "metadata": {}
  },
  {
   "cell_type": "code",
   "execution_count": 3,
   "source": [
    "GEN_DATA_PATH = f\"data/generated/{MODEL_NAME}/\"\n",
    "MODEL_PATH = f\"./rnnlm_models/{MODEL_NAME}\"\n",
    "\n",
    "!bash gen_script.sh $GEN_DATA_PATH $MODEL_PATH"
   ],
   "outputs": [],
   "metadata": {}
  },
  {
   "cell_type": "code",
   "execution_count": 26,
   "source": [
    "# Decoding generated texts\n",
    "\n",
    "for i in range(1, 8):\n",
    "    size = 10**i\n",
    "    sentpiece.desegmentation(f\"data/generated/eng_model_lrg_ft/{size}.txt\", MODEL_NAME + TYPE)"
   ],
   "outputs": [],
   "metadata": {}
  },
  {
   "cell_type": "markdown",
   "source": [
    "## Out-of-vocabulary results"
   ],
   "metadata": {}
  },
  {
   "cell_type": "code",
   "execution_count": 2,
   "source": [
    "import oov_eng\n",
    "oov_module = reload(oov_eng)"
   ],
   "outputs": [],
   "metadata": {}
  },
  {
   "cell_type": "code",
   "execution_count": 3,
   "source": [
    "# Initiate OOV object\n",
    "\n",
    "comparer = oov_module.OOV()"
   ],
   "outputs": [
    {
     "output_type": "stream",
     "name": "stdout",
     "text": [
      "==============================\n",
      "Baseline OOV rate\n",
      "Number of unseen words: 379.0\n",
      "Total number of test words: 5415.0\n",
      "OOV rate: 7.0%\n",
      "==============================\n"
     ]
    }
   ],
   "metadata": {}
  },
  {
   "cell_type": "code",
   "execution_count": 4,
   "source": [
    "oov_rates = comparer.check_oov()\n",
    "\n",
    "for key, values in sorted(oov_rates.items()):\n",
    "    print(f\"{key}: {round(values[-1][1] * 100, 2)}%\")"
   ],
   "outputs": [
    {
     "output_type": "stream",
     "name": "stdout",
     "text": [
      "eng_model_chr_base: 4.95%\n",
      "eng_model_chr_ft: 4.71%\n",
      "eng_model_lrg_base: 5.3%\n",
      "eng_model_lrg_ft: 5.13%\n",
      "eng_model_sml_base: 4.73%\n",
      "eng_model_sml_ft: 4.71%\n"
     ]
    }
   ],
   "metadata": {}
  },
  {
   "cell_type": "code",
   "execution_count": 5,
   "source": [
    "# comparer.plot_oov_rates({value[0]: value[1] for value in oov_rates[\"eng_model_chr_ft\"]})\n",
    "comparer.plot_oov_rates({value[0]: value[1] for value in oov_rates[\"eng_model_chr_ft\"]})"
   ],
   "outputs": [
    {
     "output_type": "stream",
     "name": "stderr",
     "text": [
      "No handles with labels found to put in legend.\n"
     ]
    },
    {
     "output_type": "display_data",
     "data": {
      "text/plain": [
       "<Figure size 432x288 with 1 Axes>"
      ],
      "image/svg+xml": "<?xml version=\"1.0\" encoding=\"utf-8\" standalone=\"no\"?>\n<!DOCTYPE svg PUBLIC \"-//W3C//DTD SVG 1.1//EN\"\n  \"http://www.w3.org/Graphics/SVG/1.1/DTD/svg11.dtd\">\n<svg height=\"262.19625pt\" version=\"1.1\" viewBox=\"0 0 410.378125 262.19625\" width=\"410.378125pt\" xmlns=\"http://www.w3.org/2000/svg\" xmlns:xlink=\"http://www.w3.org/1999/xlink\">\n <metadata>\n  <rdf:RDF xmlns:cc=\"http://creativecommons.org/ns#\" xmlns:dc=\"http://purl.org/dc/elements/1.1/\" xmlns:rdf=\"http://www.w3.org/1999/02/22-rdf-syntax-ns#\">\n   <cc:Work>\n    <dc:type rdf:resource=\"http://purl.org/dc/dcmitype/StillImage\"/>\n    <dc:date>2021-08-20T17:27:31.663628</dc:date>\n    <dc:format>image/svg+xml</dc:format>\n    <dc:creator>\n     <cc:Agent>\n      <dc:title>Matplotlib v3.4.3, https://matplotlib.org/</dc:title>\n     </cc:Agent>\n    </dc:creator>\n   </cc:Work>\n  </rdf:RDF>\n </metadata>\n <defs>\n  <style type=\"text/css\">*{stroke-linecap:butt;stroke-linejoin:round;}</style>\n </defs>\n <g id=\"figure_1\">\n  <g id=\"patch_1\">\n   <path d=\"M 0 262.19625 \nL 410.378125 262.19625 \nL 410.378125 0 \nL 0 0 \nz\n\" style=\"fill:none;\"/>\n  </g>\n  <g id=\"axes_1\">\n   <g id=\"patch_2\">\n    <path d=\"M 68.378125 224.64 \nL 403.178125 224.64 \nL 403.178125 7.2 \nL 68.378125 7.2 \nz\n\" style=\"fill:#ffffff;\"/>\n   </g>\n   <g id=\"matplotlib.axis_1\">\n    <g id=\"xtick_1\">\n     <g id=\"line2d_1\">\n      <defs>\n       <path d=\"M 0 0 \nL 0 3.5 \n\" id=\"m2aca89698a\" style=\"stroke:#000000;stroke-width:0.8;\"/>\n      </defs>\n      <g>\n       <use style=\"stroke:#000000;stroke-width:0.8;\" x=\"83.596307\" xlink:href=\"#m2aca89698a\" y=\"224.64\"/>\n      </g>\n     </g>\n     <g id=\"text_1\">\n      <!-- $\\mathdefault{10^{1}}$ -->\n      <g transform=\"translate(74.796307 239.238437)scale(0.1 -0.1)\">\n       <defs>\n        <path d=\"M 794 531 \nL 1825 531 \nL 1825 4091 \nL 703 3866 \nL 703 4441 \nL 1819 4666 \nL 2450 4666 \nL 2450 531 \nL 3481 531 \nL 3481 0 \nL 794 0 \nL 794 531 \nz\n\" id=\"DejaVuSans-31\" transform=\"scale(0.015625)\"/>\n        <path d=\"M 2034 4250 \nQ 1547 4250 1301 3770 \nQ 1056 3291 1056 2328 \nQ 1056 1369 1301 889 \nQ 1547 409 2034 409 \nQ 2525 409 2770 889 \nQ 3016 1369 3016 2328 \nQ 3016 3291 2770 3770 \nQ 2525 4250 2034 4250 \nz\nM 2034 4750 \nQ 2819 4750 3233 4129 \nQ 3647 3509 3647 2328 \nQ 3647 1150 3233 529 \nQ 2819 -91 2034 -91 \nQ 1250 -91 836 529 \nQ 422 1150 422 2328 \nQ 422 3509 836 4129 \nQ 1250 4750 2034 4750 \nz\n\" id=\"DejaVuSans-30\" transform=\"scale(0.015625)\"/>\n       </defs>\n       <use transform=\"translate(0 0.684375)\" xlink:href=\"#DejaVuSans-31\"/>\n       <use transform=\"translate(63.623047 0.684375)\" xlink:href=\"#DejaVuSans-30\"/>\n       <use transform=\"translate(128.203125 38.965625)scale(0.7)\" xlink:href=\"#DejaVuSans-31\"/>\n      </g>\n     </g>\n    </g>\n    <g id=\"xtick_2\">\n     <g id=\"line2d_2\">\n      <g>\n       <use style=\"stroke:#000000;stroke-width:0.8;\" x=\"134.32358\" xlink:href=\"#m2aca89698a\" y=\"224.64\"/>\n      </g>\n     </g>\n     <g id=\"text_2\">\n      <!-- $\\mathdefault{10^{2}}$ -->\n      <g transform=\"translate(125.52358 239.238437)scale(0.1 -0.1)\">\n       <defs>\n        <path d=\"M 1228 531 \nL 3431 531 \nL 3431 0 \nL 469 0 \nL 469 531 \nQ 828 903 1448 1529 \nQ 2069 2156 2228 2338 \nQ 2531 2678 2651 2914 \nQ 2772 3150 2772 3378 \nQ 2772 3750 2511 3984 \nQ 2250 4219 1831 4219 \nQ 1534 4219 1204 4116 \nQ 875 4013 500 3803 \nL 500 4441 \nQ 881 4594 1212 4672 \nQ 1544 4750 1819 4750 \nQ 2544 4750 2975 4387 \nQ 3406 4025 3406 3419 \nQ 3406 3131 3298 2873 \nQ 3191 2616 2906 2266 \nQ 2828 2175 2409 1742 \nQ 1991 1309 1228 531 \nz\n\" id=\"DejaVuSans-32\" transform=\"scale(0.015625)\"/>\n       </defs>\n       <use transform=\"translate(0 0.765625)\" xlink:href=\"#DejaVuSans-31\"/>\n       <use transform=\"translate(63.623047 0.765625)\" xlink:href=\"#DejaVuSans-30\"/>\n       <use transform=\"translate(128.203125 39.046875)scale(0.7)\" xlink:href=\"#DejaVuSans-32\"/>\n      </g>\n     </g>\n    </g>\n    <g id=\"xtick_3\">\n     <g id=\"line2d_3\">\n      <g>\n       <use style=\"stroke:#000000;stroke-width:0.8;\" x=\"185.050852\" xlink:href=\"#m2aca89698a\" y=\"224.64\"/>\n      </g>\n     </g>\n     <g id=\"text_3\">\n      <!-- $\\mathdefault{10^{3}}$ -->\n      <g transform=\"translate(176.250852 239.238437)scale(0.1 -0.1)\">\n       <defs>\n        <path d=\"M 2597 2516 \nQ 3050 2419 3304 2112 \nQ 3559 1806 3559 1356 \nQ 3559 666 3084 287 \nQ 2609 -91 1734 -91 \nQ 1441 -91 1130 -33 \nQ 819 25 488 141 \nL 488 750 \nQ 750 597 1062 519 \nQ 1375 441 1716 441 \nQ 2309 441 2620 675 \nQ 2931 909 2931 1356 \nQ 2931 1769 2642 2001 \nQ 2353 2234 1838 2234 \nL 1294 2234 \nL 1294 2753 \nL 1863 2753 \nQ 2328 2753 2575 2939 \nQ 2822 3125 2822 3475 \nQ 2822 3834 2567 4026 \nQ 2313 4219 1838 4219 \nQ 1578 4219 1281 4162 \nQ 984 4106 628 3988 \nL 628 4550 \nQ 988 4650 1302 4700 \nQ 1616 4750 1894 4750 \nQ 2613 4750 3031 4423 \nQ 3450 4097 3450 3541 \nQ 3450 3153 3228 2886 \nQ 3006 2619 2597 2516 \nz\n\" id=\"DejaVuSans-33\" transform=\"scale(0.015625)\"/>\n       </defs>\n       <use transform=\"translate(0 0.765625)\" xlink:href=\"#DejaVuSans-31\"/>\n       <use transform=\"translate(63.623047 0.765625)\" xlink:href=\"#DejaVuSans-30\"/>\n       <use transform=\"translate(128.203125 39.046875)scale(0.7)\" xlink:href=\"#DejaVuSans-33\"/>\n      </g>\n     </g>\n    </g>\n    <g id=\"xtick_4\">\n     <g id=\"line2d_4\">\n      <g>\n       <use style=\"stroke:#000000;stroke-width:0.8;\" x=\"235.778125\" xlink:href=\"#m2aca89698a\" y=\"224.64\"/>\n      </g>\n     </g>\n     <g id=\"text_4\">\n      <!-- $\\mathdefault{10^{4}}$ -->\n      <g transform=\"translate(226.978125 239.238437)scale(0.1 -0.1)\">\n       <defs>\n        <path d=\"M 2419 4116 \nL 825 1625 \nL 2419 1625 \nL 2419 4116 \nz\nM 2253 4666 \nL 3047 4666 \nL 3047 1625 \nL 3713 1625 \nL 3713 1100 \nL 3047 1100 \nL 3047 0 \nL 2419 0 \nL 2419 1100 \nL 313 1100 \nL 313 1709 \nL 2253 4666 \nz\n\" id=\"DejaVuSans-34\" transform=\"scale(0.015625)\"/>\n       </defs>\n       <use transform=\"translate(0 0.684375)\" xlink:href=\"#DejaVuSans-31\"/>\n       <use transform=\"translate(63.623047 0.684375)\" xlink:href=\"#DejaVuSans-30\"/>\n       <use transform=\"translate(128.203125 38.965625)scale(0.7)\" xlink:href=\"#DejaVuSans-34\"/>\n      </g>\n     </g>\n    </g>\n    <g id=\"xtick_5\">\n     <g id=\"line2d_5\">\n      <g>\n       <use style=\"stroke:#000000;stroke-width:0.8;\" x=\"286.505398\" xlink:href=\"#m2aca89698a\" y=\"224.64\"/>\n      </g>\n     </g>\n     <g id=\"text_5\">\n      <!-- $\\mathdefault{10^{5}}$ -->\n      <g transform=\"translate(277.705398 239.238437)scale(0.1 -0.1)\">\n       <defs>\n        <path d=\"M 691 4666 \nL 3169 4666 \nL 3169 4134 \nL 1269 4134 \nL 1269 2991 \nQ 1406 3038 1543 3061 \nQ 1681 3084 1819 3084 \nQ 2600 3084 3056 2656 \nQ 3513 2228 3513 1497 \nQ 3513 744 3044 326 \nQ 2575 -91 1722 -91 \nQ 1428 -91 1123 -41 \nQ 819 9 494 109 \nL 494 744 \nQ 775 591 1075 516 \nQ 1375 441 1709 441 \nQ 2250 441 2565 725 \nQ 2881 1009 2881 1497 \nQ 2881 1984 2565 2268 \nQ 2250 2553 1709 2553 \nQ 1456 2553 1204 2497 \nQ 953 2441 691 2322 \nL 691 4666 \nz\n\" id=\"DejaVuSans-35\" transform=\"scale(0.015625)\"/>\n       </defs>\n       <use transform=\"translate(0 0.684375)\" xlink:href=\"#DejaVuSans-31\"/>\n       <use transform=\"translate(63.623047 0.684375)\" xlink:href=\"#DejaVuSans-30\"/>\n       <use transform=\"translate(128.203125 38.965625)scale(0.7)\" xlink:href=\"#DejaVuSans-35\"/>\n      </g>\n     </g>\n    </g>\n    <g id=\"xtick_6\">\n     <g id=\"line2d_6\">\n      <g>\n       <use style=\"stroke:#000000;stroke-width:0.8;\" x=\"337.23267\" xlink:href=\"#m2aca89698a\" y=\"224.64\"/>\n      </g>\n     </g>\n     <g id=\"text_6\">\n      <!-- $\\mathdefault{10^{6}}$ -->\n      <g transform=\"translate(328.43267 239.238437)scale(0.1 -0.1)\">\n       <defs>\n        <path d=\"M 2113 2584 \nQ 1688 2584 1439 2293 \nQ 1191 2003 1191 1497 \nQ 1191 994 1439 701 \nQ 1688 409 2113 409 \nQ 2538 409 2786 701 \nQ 3034 994 3034 1497 \nQ 3034 2003 2786 2293 \nQ 2538 2584 2113 2584 \nz\nM 3366 4563 \nL 3366 3988 \nQ 3128 4100 2886 4159 \nQ 2644 4219 2406 4219 \nQ 1781 4219 1451 3797 \nQ 1122 3375 1075 2522 \nQ 1259 2794 1537 2939 \nQ 1816 3084 2150 3084 \nQ 2853 3084 3261 2657 \nQ 3669 2231 3669 1497 \nQ 3669 778 3244 343 \nQ 2819 -91 2113 -91 \nQ 1303 -91 875 529 \nQ 447 1150 447 2328 \nQ 447 3434 972 4092 \nQ 1497 4750 2381 4750 \nQ 2619 4750 2861 4703 \nQ 3103 4656 3366 4563 \nz\n\" id=\"DejaVuSans-36\" transform=\"scale(0.015625)\"/>\n       </defs>\n       <use transform=\"translate(0 0.765625)\" xlink:href=\"#DejaVuSans-31\"/>\n       <use transform=\"translate(63.623047 0.765625)\" xlink:href=\"#DejaVuSans-30\"/>\n       <use transform=\"translate(128.203125 39.046875)scale(0.7)\" xlink:href=\"#DejaVuSans-36\"/>\n      </g>\n     </g>\n    </g>\n    <g id=\"xtick_7\">\n     <g id=\"line2d_7\">\n      <g>\n       <use style=\"stroke:#000000;stroke-width:0.8;\" x=\"387.959943\" xlink:href=\"#m2aca89698a\" y=\"224.64\"/>\n      </g>\n     </g>\n     <g id=\"text_7\">\n      <!-- $\\mathdefault{10^{7}}$ -->\n      <g transform=\"translate(379.159943 239.238437)scale(0.1 -0.1)\">\n       <defs>\n        <path d=\"M 525 4666 \nL 3525 4666 \nL 3525 4397 \nL 1831 0 \nL 1172 0 \nL 2766 4134 \nL 525 4134 \nL 525 4666 \nz\n\" id=\"DejaVuSans-37\" transform=\"scale(0.015625)\"/>\n       </defs>\n       <use transform=\"translate(0 0.684375)\" xlink:href=\"#DejaVuSans-31\"/>\n       <use transform=\"translate(63.623047 0.684375)\" xlink:href=\"#DejaVuSans-30\"/>\n       <use transform=\"translate(128.203125 38.965625)scale(0.7)\" xlink:href=\"#DejaVuSans-37\"/>\n      </g>\n     </g>\n    </g>\n    <g id=\"xtick_8\">\n     <g id=\"line2d_8\">\n      <defs>\n       <path d=\"M 0 0 \nL 0 2 \n\" id=\"me7a443d21f\" style=\"stroke:#000000;stroke-width:0.6;\"/>\n      </defs>\n      <g>\n       <use style=\"stroke:#000000;stroke-width:0.6;\" x=\"72.342525\" xlink:href=\"#me7a443d21f\" y=\"224.64\"/>\n      </g>\n     </g>\n    </g>\n    <g id=\"xtick_9\">\n     <g id=\"line2d_9\">\n      <g>\n       <use style=\"stroke:#000000;stroke-width:0.6;\" x=\"75.738553\" xlink:href=\"#me7a443d21f\" y=\"224.64\"/>\n      </g>\n     </g>\n    </g>\n    <g id=\"xtick_10\">\n     <g id=\"line2d_10\">\n      <g>\n       <use style=\"stroke:#000000;stroke-width:0.6;\" x=\"78.680326\" xlink:href=\"#me7a443d21f\" y=\"224.64\"/>\n      </g>\n     </g>\n    </g>\n    <g id=\"xtick_11\">\n     <g id=\"line2d_11\">\n      <g>\n       <use style=\"stroke:#000000;stroke-width:0.6;\" x=\"81.275154\" xlink:href=\"#me7a443d21f\" y=\"224.64\"/>\n      </g>\n     </g>\n    </g>\n    <g id=\"xtick_12\">\n     <g id=\"line2d_12\">\n      <g>\n       <use style=\"stroke:#000000;stroke-width:0.6;\" x=\"98.866738\" xlink:href=\"#me7a443d21f\" y=\"224.64\"/>\n      </g>\n     </g>\n    </g>\n    <g id=\"xtick_13\">\n     <g id=\"line2d_13\">\n      <g>\n       <use style=\"stroke:#000000;stroke-width:0.6;\" x=\"107.799367\" xlink:href=\"#me7a443d21f\" y=\"224.64\"/>\n      </g>\n     </g>\n    </g>\n    <g id=\"xtick_14\">\n     <g id=\"line2d_14\">\n      <g>\n       <use style=\"stroke:#000000;stroke-width:0.6;\" x=\"114.137168\" xlink:href=\"#me7a443d21f\" y=\"224.64\"/>\n      </g>\n     </g>\n    </g>\n    <g id=\"xtick_15\">\n     <g id=\"line2d_15\">\n      <g>\n       <use style=\"stroke:#000000;stroke-width:0.6;\" x=\"119.053149\" xlink:href=\"#me7a443d21f\" y=\"224.64\"/>\n      </g>\n     </g>\n    </g>\n    <g id=\"xtick_16\">\n     <g id=\"line2d_16\">\n      <g>\n       <use style=\"stroke:#000000;stroke-width:0.6;\" x=\"123.069798\" xlink:href=\"#me7a443d21f\" y=\"224.64\"/>\n      </g>\n     </g>\n    </g>\n    <g id=\"xtick_17\">\n     <g id=\"line2d_17\">\n      <g>\n       <use style=\"stroke:#000000;stroke-width:0.6;\" x=\"126.465826\" xlink:href=\"#me7a443d21f\" y=\"224.64\"/>\n      </g>\n     </g>\n    </g>\n    <g id=\"xtick_18\">\n     <g id=\"line2d_18\">\n      <g>\n       <use style=\"stroke:#000000;stroke-width:0.6;\" x=\"129.407599\" xlink:href=\"#me7a443d21f\" y=\"224.64\"/>\n      </g>\n     </g>\n    </g>\n    <g id=\"xtick_19\">\n     <g id=\"line2d_19\">\n      <g>\n       <use style=\"stroke:#000000;stroke-width:0.6;\" x=\"132.002427\" xlink:href=\"#me7a443d21f\" y=\"224.64\"/>\n      </g>\n     </g>\n    </g>\n    <g id=\"xtick_20\">\n     <g id=\"line2d_20\">\n      <g>\n       <use style=\"stroke:#000000;stroke-width:0.6;\" x=\"149.59401\" xlink:href=\"#me7a443d21f\" y=\"224.64\"/>\n      </g>\n     </g>\n    </g>\n    <g id=\"xtick_21\">\n     <g id=\"line2d_21\">\n      <g>\n       <use style=\"stroke:#000000;stroke-width:0.6;\" x=\"158.52664\" xlink:href=\"#me7a443d21f\" y=\"224.64\"/>\n      </g>\n     </g>\n    </g>\n    <g id=\"xtick_22\">\n     <g id=\"line2d_22\">\n      <g>\n       <use style=\"stroke:#000000;stroke-width:0.6;\" x=\"164.864441\" xlink:href=\"#me7a443d21f\" y=\"224.64\"/>\n      </g>\n     </g>\n    </g>\n    <g id=\"xtick_23\">\n     <g id=\"line2d_23\">\n      <g>\n       <use style=\"stroke:#000000;stroke-width:0.6;\" x=\"169.780422\" xlink:href=\"#me7a443d21f\" y=\"224.64\"/>\n      </g>\n     </g>\n    </g>\n    <g id=\"xtick_24\">\n     <g id=\"line2d_24\">\n      <g>\n       <use style=\"stroke:#000000;stroke-width:0.6;\" x=\"173.79707\" xlink:href=\"#me7a443d21f\" y=\"224.64\"/>\n      </g>\n     </g>\n    </g>\n    <g id=\"xtick_25\">\n     <g id=\"line2d_25\">\n      <g>\n       <use style=\"stroke:#000000;stroke-width:0.6;\" x=\"177.193098\" xlink:href=\"#me7a443d21f\" y=\"224.64\"/>\n      </g>\n     </g>\n    </g>\n    <g id=\"xtick_26\">\n     <g id=\"line2d_26\">\n      <g>\n       <use style=\"stroke:#000000;stroke-width:0.6;\" x=\"180.134872\" xlink:href=\"#me7a443d21f\" y=\"224.64\"/>\n      </g>\n     </g>\n    </g>\n    <g id=\"xtick_27\">\n     <g id=\"line2d_27\">\n      <g>\n       <use style=\"stroke:#000000;stroke-width:0.6;\" x=\"182.7297\" xlink:href=\"#me7a443d21f\" y=\"224.64\"/>\n      </g>\n     </g>\n    </g>\n    <g id=\"xtick_28\">\n     <g id=\"line2d_28\">\n      <g>\n       <use style=\"stroke:#000000;stroke-width:0.6;\" x=\"200.321283\" xlink:href=\"#me7a443d21f\" y=\"224.64\"/>\n      </g>\n     </g>\n    </g>\n    <g id=\"xtick_29\">\n     <g id=\"line2d_29\">\n      <g>\n       <use style=\"stroke:#000000;stroke-width:0.6;\" x=\"209.253912\" xlink:href=\"#me7a443d21f\" y=\"224.64\"/>\n      </g>\n     </g>\n    </g>\n    <g id=\"xtick_30\">\n     <g id=\"line2d_30\">\n      <g>\n       <use style=\"stroke:#000000;stroke-width:0.6;\" x=\"215.591714\" xlink:href=\"#me7a443d21f\" y=\"224.64\"/>\n      </g>\n     </g>\n    </g>\n    <g id=\"xtick_31\">\n     <g id=\"line2d_31\">\n      <g>\n       <use style=\"stroke:#000000;stroke-width:0.6;\" x=\"220.507694\" xlink:href=\"#me7a443d21f\" y=\"224.64\"/>\n      </g>\n     </g>\n    </g>\n    <g id=\"xtick_32\">\n     <g id=\"line2d_32\">\n      <g>\n       <use style=\"stroke:#000000;stroke-width:0.6;\" x=\"224.524343\" xlink:href=\"#me7a443d21f\" y=\"224.64\"/>\n      </g>\n     </g>\n    </g>\n    <g id=\"xtick_33\">\n     <g id=\"line2d_33\">\n      <g>\n       <use style=\"stroke:#000000;stroke-width:0.6;\" x=\"227.920371\" xlink:href=\"#me7a443d21f\" y=\"224.64\"/>\n      </g>\n     </g>\n    </g>\n    <g id=\"xtick_34\">\n     <g id=\"line2d_34\">\n      <g>\n       <use style=\"stroke:#000000;stroke-width:0.6;\" x=\"230.862144\" xlink:href=\"#me7a443d21f\" y=\"224.64\"/>\n      </g>\n     </g>\n    </g>\n    <g id=\"xtick_35\">\n     <g id=\"line2d_35\">\n      <g>\n       <use style=\"stroke:#000000;stroke-width:0.6;\" x=\"233.456972\" xlink:href=\"#me7a443d21f\" y=\"224.64\"/>\n      </g>\n     </g>\n    </g>\n    <g id=\"xtick_36\">\n     <g id=\"line2d_36\">\n      <g>\n       <use style=\"stroke:#000000;stroke-width:0.6;\" x=\"251.048556\" xlink:href=\"#me7a443d21f\" y=\"224.64\"/>\n      </g>\n     </g>\n    </g>\n    <g id=\"xtick_37\">\n     <g id=\"line2d_37\">\n      <g>\n       <use style=\"stroke:#000000;stroke-width:0.6;\" x=\"259.981185\" xlink:href=\"#me7a443d21f\" y=\"224.64\"/>\n      </g>\n     </g>\n    </g>\n    <g id=\"xtick_38\">\n     <g id=\"line2d_38\">\n      <g>\n       <use style=\"stroke:#000000;stroke-width:0.6;\" x=\"266.318986\" xlink:href=\"#me7a443d21f\" y=\"224.64\"/>\n      </g>\n     </g>\n    </g>\n    <g id=\"xtick_39\">\n     <g id=\"line2d_39\">\n      <g>\n       <use style=\"stroke:#000000;stroke-width:0.6;\" x=\"271.234967\" xlink:href=\"#me7a443d21f\" y=\"224.64\"/>\n      </g>\n     </g>\n    </g>\n    <g id=\"xtick_40\">\n     <g id=\"line2d_40\">\n      <g>\n       <use style=\"stroke:#000000;stroke-width:0.6;\" x=\"275.251616\" xlink:href=\"#me7a443d21f\" y=\"224.64\"/>\n      </g>\n     </g>\n    </g>\n    <g id=\"xtick_41\">\n     <g id=\"line2d_41\">\n      <g>\n       <use style=\"stroke:#000000;stroke-width:0.6;\" x=\"278.647644\" xlink:href=\"#me7a443d21f\" y=\"224.64\"/>\n      </g>\n     </g>\n    </g>\n    <g id=\"xtick_42\">\n     <g id=\"line2d_42\">\n      <g>\n       <use style=\"stroke:#000000;stroke-width:0.6;\" x=\"281.589417\" xlink:href=\"#me7a443d21f\" y=\"224.64\"/>\n      </g>\n     </g>\n    </g>\n    <g id=\"xtick_43\">\n     <g id=\"line2d_43\">\n      <g>\n       <use style=\"stroke:#000000;stroke-width:0.6;\" x=\"284.184245\" xlink:href=\"#me7a443d21f\" y=\"224.64\"/>\n      </g>\n     </g>\n    </g>\n    <g id=\"xtick_44\">\n     <g id=\"line2d_44\">\n      <g>\n       <use style=\"stroke:#000000;stroke-width:0.6;\" x=\"301.775828\" xlink:href=\"#me7a443d21f\" y=\"224.64\"/>\n      </g>\n     </g>\n    </g>\n    <g id=\"xtick_45\">\n     <g id=\"line2d_45\">\n      <g>\n       <use style=\"stroke:#000000;stroke-width:0.6;\" x=\"310.708458\" xlink:href=\"#me7a443d21f\" y=\"224.64\"/>\n      </g>\n     </g>\n    </g>\n    <g id=\"xtick_46\">\n     <g id=\"line2d_46\">\n      <g>\n       <use style=\"stroke:#000000;stroke-width:0.6;\" x=\"317.046259\" xlink:href=\"#me7a443d21f\" y=\"224.64\"/>\n      </g>\n     </g>\n    </g>\n    <g id=\"xtick_47\">\n     <g id=\"line2d_47\">\n      <g>\n       <use style=\"stroke:#000000;stroke-width:0.6;\" x=\"321.96224\" xlink:href=\"#me7a443d21f\" y=\"224.64\"/>\n      </g>\n     </g>\n    </g>\n    <g id=\"xtick_48\">\n     <g id=\"line2d_48\">\n      <g>\n       <use style=\"stroke:#000000;stroke-width:0.6;\" x=\"325.978888\" xlink:href=\"#me7a443d21f\" y=\"224.64\"/>\n      </g>\n     </g>\n    </g>\n    <g id=\"xtick_49\">\n     <g id=\"line2d_49\">\n      <g>\n       <use style=\"stroke:#000000;stroke-width:0.6;\" x=\"329.374916\" xlink:href=\"#me7a443d21f\" y=\"224.64\"/>\n      </g>\n     </g>\n    </g>\n    <g id=\"xtick_50\">\n     <g id=\"line2d_50\">\n      <g>\n       <use style=\"stroke:#000000;stroke-width:0.6;\" x=\"332.31669\" xlink:href=\"#me7a443d21f\" y=\"224.64\"/>\n      </g>\n     </g>\n    </g>\n    <g id=\"xtick_51\">\n     <g id=\"line2d_51\">\n      <g>\n       <use style=\"stroke:#000000;stroke-width:0.6;\" x=\"334.911518\" xlink:href=\"#me7a443d21f\" y=\"224.64\"/>\n      </g>\n     </g>\n    </g>\n    <g id=\"xtick_52\">\n     <g id=\"line2d_52\">\n      <g>\n       <use style=\"stroke:#000000;stroke-width:0.6;\" x=\"352.503101\" xlink:href=\"#me7a443d21f\" y=\"224.64\"/>\n      </g>\n     </g>\n    </g>\n    <g id=\"xtick_53\">\n     <g id=\"line2d_53\">\n      <g>\n       <use style=\"stroke:#000000;stroke-width:0.6;\" x=\"361.43573\" xlink:href=\"#me7a443d21f\" y=\"224.64\"/>\n      </g>\n     </g>\n    </g>\n    <g id=\"xtick_54\">\n     <g id=\"line2d_54\">\n      <g>\n       <use style=\"stroke:#000000;stroke-width:0.6;\" x=\"367.773532\" xlink:href=\"#me7a443d21f\" y=\"224.64\"/>\n      </g>\n     </g>\n    </g>\n    <g id=\"xtick_55\">\n     <g id=\"line2d_55\">\n      <g>\n       <use style=\"stroke:#000000;stroke-width:0.6;\" x=\"372.689512\" xlink:href=\"#me7a443d21f\" y=\"224.64\"/>\n      </g>\n     </g>\n    </g>\n    <g id=\"xtick_56\">\n     <g id=\"line2d_56\">\n      <g>\n       <use style=\"stroke:#000000;stroke-width:0.6;\" x=\"376.706161\" xlink:href=\"#me7a443d21f\" y=\"224.64\"/>\n      </g>\n     </g>\n    </g>\n    <g id=\"xtick_57\">\n     <g id=\"line2d_57\">\n      <g>\n       <use style=\"stroke:#000000;stroke-width:0.6;\" x=\"380.102189\" xlink:href=\"#me7a443d21f\" y=\"224.64\"/>\n      </g>\n     </g>\n    </g>\n    <g id=\"xtick_58\">\n     <g id=\"line2d_58\">\n      <g>\n       <use style=\"stroke:#000000;stroke-width:0.6;\" x=\"383.043963\" xlink:href=\"#me7a443d21f\" y=\"224.64\"/>\n      </g>\n     </g>\n    </g>\n    <g id=\"xtick_59\">\n     <g id=\"line2d_59\">\n      <g>\n       <use style=\"stroke:#000000;stroke-width:0.6;\" x=\"385.63879\" xlink:href=\"#me7a443d21f\" y=\"224.64\"/>\n      </g>\n     </g>\n    </g>\n    <g id=\"text_8\">\n     <!-- vocab size -->\n     <g transform=\"translate(209.488281 252.916562)scale(0.1 -0.1)\">\n      <defs>\n       <path d=\"M 191 3500 \nL 800 3500 \nL 1894 563 \nL 2988 3500 \nL 3597 3500 \nL 2284 0 \nL 1503 0 \nL 191 3500 \nz\n\" id=\"DejaVuSans-76\" transform=\"scale(0.015625)\"/>\n       <path d=\"M 1959 3097 \nQ 1497 3097 1228 2736 \nQ 959 2375 959 1747 \nQ 959 1119 1226 758 \nQ 1494 397 1959 397 \nQ 2419 397 2687 759 \nQ 2956 1122 2956 1747 \nQ 2956 2369 2687 2733 \nQ 2419 3097 1959 3097 \nz\nM 1959 3584 \nQ 2709 3584 3137 3096 \nQ 3566 2609 3566 1747 \nQ 3566 888 3137 398 \nQ 2709 -91 1959 -91 \nQ 1206 -91 779 398 \nQ 353 888 353 1747 \nQ 353 2609 779 3096 \nQ 1206 3584 1959 3584 \nz\n\" id=\"DejaVuSans-6f\" transform=\"scale(0.015625)\"/>\n       <path d=\"M 3122 3366 \nL 3122 2828 \nQ 2878 2963 2633 3030 \nQ 2388 3097 2138 3097 \nQ 1578 3097 1268 2742 \nQ 959 2388 959 1747 \nQ 959 1106 1268 751 \nQ 1578 397 2138 397 \nQ 2388 397 2633 464 \nQ 2878 531 3122 666 \nL 3122 134 \nQ 2881 22 2623 -34 \nQ 2366 -91 2075 -91 \nQ 1284 -91 818 406 \nQ 353 903 353 1747 \nQ 353 2603 823 3093 \nQ 1294 3584 2113 3584 \nQ 2378 3584 2631 3529 \nQ 2884 3475 3122 3366 \nz\n\" id=\"DejaVuSans-63\" transform=\"scale(0.015625)\"/>\n       <path d=\"M 2194 1759 \nQ 1497 1759 1228 1600 \nQ 959 1441 959 1056 \nQ 959 750 1161 570 \nQ 1363 391 1709 391 \nQ 2188 391 2477 730 \nQ 2766 1069 2766 1631 \nL 2766 1759 \nL 2194 1759 \nz\nM 3341 1997 \nL 3341 0 \nL 2766 0 \nL 2766 531 \nQ 2569 213 2275 61 \nQ 1981 -91 1556 -91 \nQ 1019 -91 701 211 \nQ 384 513 384 1019 \nQ 384 1609 779 1909 \nQ 1175 2209 1959 2209 \nL 2766 2209 \nL 2766 2266 \nQ 2766 2663 2505 2880 \nQ 2244 3097 1772 3097 \nQ 1472 3097 1187 3025 \nQ 903 2953 641 2809 \nL 641 3341 \nQ 956 3463 1253 3523 \nQ 1550 3584 1831 3584 \nQ 2591 3584 2966 3190 \nQ 3341 2797 3341 1997 \nz\n\" id=\"DejaVuSans-61\" transform=\"scale(0.015625)\"/>\n       <path d=\"M 3116 1747 \nQ 3116 2381 2855 2742 \nQ 2594 3103 2138 3103 \nQ 1681 3103 1420 2742 \nQ 1159 2381 1159 1747 \nQ 1159 1113 1420 752 \nQ 1681 391 2138 391 \nQ 2594 391 2855 752 \nQ 3116 1113 3116 1747 \nz\nM 1159 2969 \nQ 1341 3281 1617 3432 \nQ 1894 3584 2278 3584 \nQ 2916 3584 3314 3078 \nQ 3713 2572 3713 1747 \nQ 3713 922 3314 415 \nQ 2916 -91 2278 -91 \nQ 1894 -91 1617 61 \nQ 1341 213 1159 525 \nL 1159 0 \nL 581 0 \nL 581 4863 \nL 1159 4863 \nL 1159 2969 \nz\n\" id=\"DejaVuSans-62\" transform=\"scale(0.015625)\"/>\n       <path id=\"DejaVuSans-20\" transform=\"scale(0.015625)\"/>\n       <path d=\"M 2834 3397 \nL 2834 2853 \nQ 2591 2978 2328 3040 \nQ 2066 3103 1784 3103 \nQ 1356 3103 1142 2972 \nQ 928 2841 928 2578 \nQ 928 2378 1081 2264 \nQ 1234 2150 1697 2047 \nL 1894 2003 \nQ 2506 1872 2764 1633 \nQ 3022 1394 3022 966 \nQ 3022 478 2636 193 \nQ 2250 -91 1575 -91 \nQ 1294 -91 989 -36 \nQ 684 19 347 128 \nL 347 722 \nQ 666 556 975 473 \nQ 1284 391 1588 391 \nQ 1994 391 2212 530 \nQ 2431 669 2431 922 \nQ 2431 1156 2273 1281 \nQ 2116 1406 1581 1522 \nL 1381 1569 \nQ 847 1681 609 1914 \nQ 372 2147 372 2553 \nQ 372 3047 722 3315 \nQ 1072 3584 1716 3584 \nQ 2034 3584 2315 3537 \nQ 2597 3491 2834 3397 \nz\n\" id=\"DejaVuSans-73\" transform=\"scale(0.015625)\"/>\n       <path d=\"M 603 3500 \nL 1178 3500 \nL 1178 0 \nL 603 0 \nL 603 3500 \nz\nM 603 4863 \nL 1178 4863 \nL 1178 4134 \nL 603 4134 \nL 603 4863 \nz\n\" id=\"DejaVuSans-69\" transform=\"scale(0.015625)\"/>\n       <path d=\"M 353 3500 \nL 3084 3500 \nL 3084 2975 \nL 922 459 \nL 3084 459 \nL 3084 0 \nL 275 0 \nL 275 525 \nL 2438 3041 \nL 353 3041 \nL 353 3500 \nz\n\" id=\"DejaVuSans-7a\" transform=\"scale(0.015625)\"/>\n       <path d=\"M 3597 1894 \nL 3597 1613 \nL 953 1613 \nQ 991 1019 1311 708 \nQ 1631 397 2203 397 \nQ 2534 397 2845 478 \nQ 3156 559 3463 722 \nL 3463 178 \nQ 3153 47 2828 -22 \nQ 2503 -91 2169 -91 \nQ 1331 -91 842 396 \nQ 353 884 353 1716 \nQ 353 2575 817 3079 \nQ 1281 3584 2069 3584 \nQ 2775 3584 3186 3129 \nQ 3597 2675 3597 1894 \nz\nM 3022 2063 \nQ 3016 2534 2758 2815 \nQ 2500 3097 2075 3097 \nQ 1594 3097 1305 2825 \nQ 1016 2553 972 2059 \nL 3022 2063 \nz\n\" id=\"DejaVuSans-65\" transform=\"scale(0.015625)\"/>\n      </defs>\n      <use xlink:href=\"#DejaVuSans-76\"/>\n      <use x=\"59.179688\" xlink:href=\"#DejaVuSans-6f\"/>\n      <use x=\"120.361328\" xlink:href=\"#DejaVuSans-63\"/>\n      <use x=\"175.341797\" xlink:href=\"#DejaVuSans-61\"/>\n      <use x=\"236.621094\" xlink:href=\"#DejaVuSans-62\"/>\n      <use x=\"300.097656\" xlink:href=\"#DejaVuSans-20\"/>\n      <use x=\"331.884766\" xlink:href=\"#DejaVuSans-73\"/>\n      <use x=\"383.984375\" xlink:href=\"#DejaVuSans-69\"/>\n      <use x=\"411.767578\" xlink:href=\"#DejaVuSans-7a\"/>\n      <use x=\"464.257812\" xlink:href=\"#DejaVuSans-65\"/>\n     </g>\n    </g>\n   </g>\n   <g id=\"matplotlib.axis_2\">\n    <g id=\"ytick_1\">\n     <g id=\"line2d_60\">\n      <defs>\n       <path d=\"M 0 0 \nL -2 0 \n\" id=\"m978efdfae1\" style=\"stroke:#000000;stroke-width:0.6;\"/>\n      </defs>\n      <g>\n       <use style=\"stroke:#000000;stroke-width:0.6;\" x=\"68.378125\" xlink:href=\"#m978efdfae1\" y=\"184.860309\"/>\n      </g>\n     </g>\n     <g id=\"text_9\">\n      <!-- $\\mathdefault{5\\times10^{-2}}$ -->\n      <g transform=\"translate(20.878125 188.659527)scale(0.1 -0.1)\">\n       <defs>\n        <path d=\"M 4488 3438 \nL 3059 2003 \nL 4488 575 \nL 4116 197 \nL 2681 1631 \nL 1247 197 \nL 878 575 \nL 2303 2003 \nL 878 3438 \nL 1247 3816 \nL 2681 2381 \nL 4116 3816 \nL 4488 3438 \nz\n\" id=\"DejaVuSans-d7\" transform=\"scale(0.015625)\"/>\n        <path d=\"M 678 2272 \nL 4684 2272 \nL 4684 1741 \nL 678 1741 \nL 678 2272 \nz\n\" id=\"DejaVuSans-2212\" transform=\"scale(0.015625)\"/>\n       </defs>\n       <use transform=\"translate(0 0.765625)\" xlink:href=\"#DejaVuSans-35\"/>\n       <use transform=\"translate(83.105469 0.765625)\" xlink:href=\"#DejaVuSans-d7\"/>\n       <use transform=\"translate(186.376953 0.765625)\" xlink:href=\"#DejaVuSans-31\"/>\n       <use transform=\"translate(250 0.765625)\" xlink:href=\"#DejaVuSans-30\"/>\n       <use transform=\"translate(314.580078 39.046875)scale(0.7)\" xlink:href=\"#DejaVuSans-2212\"/>\n       <use transform=\"translate(373.232422 39.046875)scale(0.7)\" xlink:href=\"#DejaVuSans-32\"/>\n      </g>\n     </g>\n    </g>\n    <g id=\"ytick_2\">\n     <g id=\"line2d_61\">\n      <g>\n       <use style=\"stroke:#000000;stroke-width:0.6;\" x=\"68.378125\" xlink:href=\"#m978efdfae1\" y=\"93.91283\"/>\n      </g>\n     </g>\n     <g id=\"text_10\">\n      <!-- $\\mathdefault{6\\times10^{-2}}$ -->\n      <g transform=\"translate(20.878125 97.712048)scale(0.1 -0.1)\">\n       <use transform=\"translate(0 0.765625)\" xlink:href=\"#DejaVuSans-36\"/>\n       <use transform=\"translate(83.105469 0.765625)\" xlink:href=\"#DejaVuSans-d7\"/>\n       <use transform=\"translate(186.376953 0.765625)\" xlink:href=\"#DejaVuSans-31\"/>\n       <use transform=\"translate(250 0.765625)\" xlink:href=\"#DejaVuSans-30\"/>\n       <use transform=\"translate(314.580078 39.046875)scale(0.7)\" xlink:href=\"#DejaVuSans-2212\"/>\n       <use transform=\"translate(373.232422 39.046875)scale(0.7)\" xlink:href=\"#DejaVuSans-32\"/>\n      </g>\n     </g>\n    </g>\n    <g id=\"ytick_3\">\n     <g id=\"line2d_62\">\n      <g>\n       <use style=\"stroke:#000000;stroke-width:0.6;\" x=\"68.378125\" xlink:href=\"#m978efdfae1\" y=\"17.017832\"/>\n      </g>\n     </g>\n     <g id=\"text_11\">\n      <!-- $\\mathdefault{7\\times10^{-2}}$ -->\n      <g transform=\"translate(20.878125 20.817051)scale(0.1 -0.1)\">\n       <use transform=\"translate(0 0.765625)\" xlink:href=\"#DejaVuSans-37\"/>\n       <use transform=\"translate(83.105469 0.765625)\" xlink:href=\"#DejaVuSans-d7\"/>\n       <use transform=\"translate(186.376953 0.765625)\" xlink:href=\"#DejaVuSans-31\"/>\n       <use transform=\"translate(250 0.765625)\" xlink:href=\"#DejaVuSans-30\"/>\n       <use transform=\"translate(314.580078 39.046875)scale(0.7)\" xlink:href=\"#DejaVuSans-2212\"/>\n       <use transform=\"translate(373.232422 39.046875)scale(0.7)\" xlink:href=\"#DejaVuSans-32\"/>\n      </g>\n     </g>\n    </g>\n    <g id=\"text_12\">\n     <!-- OOV rate -->\n     <g transform=\"translate(14.798438 138.87)rotate(-90)scale(0.1 -0.1)\">\n      <defs>\n       <path d=\"M 2522 4238 \nQ 1834 4238 1429 3725 \nQ 1025 3213 1025 2328 \nQ 1025 1447 1429 934 \nQ 1834 422 2522 422 \nQ 3209 422 3611 934 \nQ 4013 1447 4013 2328 \nQ 4013 3213 3611 3725 \nQ 3209 4238 2522 4238 \nz\nM 2522 4750 \nQ 3503 4750 4090 4092 \nQ 4678 3434 4678 2328 \nQ 4678 1225 4090 567 \nQ 3503 -91 2522 -91 \nQ 1538 -91 948 565 \nQ 359 1222 359 2328 \nQ 359 3434 948 4092 \nQ 1538 4750 2522 4750 \nz\n\" id=\"DejaVuSans-4f\" transform=\"scale(0.015625)\"/>\n       <path d=\"M 1831 0 \nL 50 4666 \nL 709 4666 \nL 2188 738 \nL 3669 4666 \nL 4325 4666 \nL 2547 0 \nL 1831 0 \nz\n\" id=\"DejaVuSans-56\" transform=\"scale(0.015625)\"/>\n       <path d=\"M 2631 2963 \nQ 2534 3019 2420 3045 \nQ 2306 3072 2169 3072 \nQ 1681 3072 1420 2755 \nQ 1159 2438 1159 1844 \nL 1159 0 \nL 581 0 \nL 581 3500 \nL 1159 3500 \nL 1159 2956 \nQ 1341 3275 1631 3429 \nQ 1922 3584 2338 3584 \nQ 2397 3584 2469 3576 \nQ 2541 3569 2628 3553 \nL 2631 2963 \nz\n\" id=\"DejaVuSans-72\" transform=\"scale(0.015625)\"/>\n       <path d=\"M 1172 4494 \nL 1172 3500 \nL 2356 3500 \nL 2356 3053 \nL 1172 3053 \nL 1172 1153 \nQ 1172 725 1289 603 \nQ 1406 481 1766 481 \nL 2356 481 \nL 2356 0 \nL 1766 0 \nQ 1100 0 847 248 \nQ 594 497 594 1153 \nL 594 3053 \nL 172 3053 \nL 172 3500 \nL 594 3500 \nL 594 4494 \nL 1172 4494 \nz\n\" id=\"DejaVuSans-74\" transform=\"scale(0.015625)\"/>\n      </defs>\n      <use xlink:href=\"#DejaVuSans-4f\"/>\n      <use x=\"78.710938\" xlink:href=\"#DejaVuSans-4f\"/>\n      <use x=\"155.671875\" xlink:href=\"#DejaVuSans-56\"/>\n      <use x=\"224.080078\" xlink:href=\"#DejaVuSans-20\"/>\n      <use x=\"255.867188\" xlink:href=\"#DejaVuSans-72\"/>\n      <use x=\"296.980469\" xlink:href=\"#DejaVuSans-61\"/>\n      <use x=\"358.259766\" xlink:href=\"#DejaVuSans-74\"/>\n      <use x=\"397.46875\" xlink:href=\"#DejaVuSans-65\"/>\n     </g>\n    </g>\n   </g>\n   <g id=\"line2d_63\">\n    <path clip-path=\"url(#p74f47ccbc5)\" d=\"M 83.596307 17.083636 \nL 134.32358 17.083636 \nL 185.050852 17.083636 \nL 235.778125 17.083636 \nL 286.505398 31.775812 \nL 337.23267 96.838528 \nL 387.959943 214.756364 \n\" style=\"fill:none;stroke:#1f77b4;stroke-linecap:square;stroke-width:1.5;\"/>\n   </g>\n   <g id=\"patch_3\">\n    <path d=\"M 68.378125 224.64 \nL 68.378125 7.2 \n\" style=\"fill:none;stroke:#000000;stroke-linecap:square;stroke-linejoin:miter;stroke-width:0.8;\"/>\n   </g>\n   <g id=\"patch_4\">\n    <path d=\"M 403.178125 224.64 \nL 403.178125 7.2 \n\" style=\"fill:none;stroke:#000000;stroke-linecap:square;stroke-linejoin:miter;stroke-width:0.8;\"/>\n   </g>\n   <g id=\"patch_5\">\n    <path d=\"M 68.378125 224.64 \nL 403.178125 224.64 \n\" style=\"fill:none;stroke:#000000;stroke-linecap:square;stroke-linejoin:miter;stroke-width:0.8;\"/>\n   </g>\n   <g id=\"patch_6\">\n    <path d=\"M 68.378125 7.2 \nL 403.178125 7.2 \n\" style=\"fill:none;stroke:#000000;stroke-linecap:square;stroke-linejoin:miter;stroke-width:0.8;\"/>\n   </g>\n   <g id=\"legend_1\">\n    <g id=\"patch_7\">\n     <path d=\"M 392.178125 20.2 \nL 396.178125 20.2 \nQ 398.178125 20.2 398.178125 18.2 \nL 398.178125 14.2 \nQ 398.178125 12.2 396.178125 12.2 \nL 392.178125 12.2 \nQ 390.178125 12.2 390.178125 14.2 \nL 390.178125 18.2 \nQ 390.178125 20.2 392.178125 20.2 \nz\n\" style=\"fill:#ffffff;opacity:0.8;stroke:#cccccc;stroke-linejoin:miter;\"/>\n    </g>\n   </g>\n  </g>\n </g>\n <defs>\n  <clipPath id=\"p74f47ccbc5\">\n   <rect height=\"217.44\" width=\"334.8\" x=\"68.378125\" y=\"7.2\"/>\n  </clipPath>\n </defs>\n</svg>\n",
      "image/png": "[encoded data removed]"
     },
     "metadata": {
      "needs_background": "light"
     }
    }
   ],
   "metadata": {}
  },
  {
   "cell_type": "code",
   "execution_count": 6,
   "source": [
    "# comparer.plot_oov_rates({value[0]: value[1] for value in oov_rates[\"eng_model_sml_base\"]})\n",
    "comparer.plot_oov_rates({value[0]: value[1] for value in oov_rates[\"eng_model_sml_ft\"]})"
   ],
   "outputs": [
    {
     "output_type": "stream",
     "name": "stderr",
     "text": [
      "No handles with labels found to put in legend.\n"
     ]
    },
    {
     "output_type": "display_data",
     "data": {
      "text/plain": [
       "<Figure size 432x288 with 1 Axes>"
      ],
      "image/svg+xml": "<?xml version=\"1.0\" encoding=\"utf-8\" standalone=\"no\"?>\n<!DOCTYPE svg PUBLIC \"-//W3C//DTD SVG 1.1//EN\"\n  \"http://www.w3.org/Graphics/SVG/1.1/DTD/svg11.dtd\">\n<svg height=\"262.19625pt\" version=\"1.1\" viewBox=\"0 0 410.378125 262.19625\" width=\"410.378125pt\" xmlns=\"http://www.w3.org/2000/svg\" xmlns:xlink=\"http://www.w3.org/1999/xlink\">\n <metadata>\n  <rdf:RDF xmlns:cc=\"http://creativecommons.org/ns#\" xmlns:dc=\"http://purl.org/dc/elements/1.1/\" xmlns:rdf=\"http://www.w3.org/1999/02/22-rdf-syntax-ns#\">\n   <cc:Work>\n    <dc:type rdf:resource=\"http://purl.org/dc/dcmitype/StillImage\"/>\n    <dc:date>2021-08-20T17:27:39.095368</dc:date>\n    <dc:format>image/svg+xml</dc:format>\n    <dc:creator>\n     <cc:Agent>\n      <dc:title>Matplotlib v3.4.3, https://matplotlib.org/</dc:title>\n     </cc:Agent>\n    </dc:creator>\n   </cc:Work>\n  </rdf:RDF>\n </metadata>\n <defs>\n  <style type=\"text/css\">*{stroke-linecap:butt;stroke-linejoin:round;}</style>\n </defs>\n <g id=\"figure_1\">\n  <g id=\"patch_1\">\n   <path d=\"M 0 262.19625 \nL 410.378125 262.19625 \nL 410.378125 0 \nL 0 0 \nz\n\" style=\"fill:none;\"/>\n  </g>\n  <g id=\"axes_1\">\n   <g id=\"patch_2\">\n    <path d=\"M 68.378125 224.64 \nL 403.178125 224.64 \nL 403.178125 7.2 \nL 68.378125 7.2 \nz\n\" style=\"fill:#ffffff;\"/>\n   </g>\n   <g id=\"matplotlib.axis_1\">\n    <g id=\"xtick_1\">\n     <g id=\"line2d_1\">\n      <defs>\n       <path d=\"M 0 0 \nL 0 3.5 \n\" id=\"m04ae0cb7cc\" style=\"stroke:#000000;stroke-width:0.8;\"/>\n      </defs>\n      <g>\n       <use style=\"stroke:#000000;stroke-width:0.8;\" x=\"83.596307\" xlink:href=\"#m04ae0cb7cc\" y=\"224.64\"/>\n      </g>\n     </g>\n     <g id=\"text_1\">\n      <!-- $\\mathdefault{10^{1}}$ -->\n      <g transform=\"translate(74.796307 239.238437)scale(0.1 -0.1)\">\n       <defs>\n        <path d=\"M 794 531 \nL 1825 531 \nL 1825 4091 \nL 703 3866 \nL 703 4441 \nL 1819 4666 \nL 2450 4666 \nL 2450 531 \nL 3481 531 \nL 3481 0 \nL 794 0 \nL 794 531 \nz\n\" id=\"DejaVuSans-31\" transform=\"scale(0.015625)\"/>\n        <path d=\"M 2034 4250 \nQ 1547 4250 1301 3770 \nQ 1056 3291 1056 2328 \nQ 1056 1369 1301 889 \nQ 1547 409 2034 409 \nQ 2525 409 2770 889 \nQ 3016 1369 3016 2328 \nQ 3016 3291 2770 3770 \nQ 2525 4250 2034 4250 \nz\nM 2034 4750 \nQ 2819 4750 3233 4129 \nQ 3647 3509 3647 2328 \nQ 3647 1150 3233 529 \nQ 2819 -91 2034 -91 \nQ 1250 -91 836 529 \nQ 422 1150 422 2328 \nQ 422 3509 836 4129 \nQ 1250 4750 2034 4750 \nz\n\" id=\"DejaVuSans-30\" transform=\"scale(0.015625)\"/>\n       </defs>\n       <use transform=\"translate(0 0.684375)\" xlink:href=\"#DejaVuSans-31\"/>\n       <use transform=\"translate(63.623047 0.684375)\" xlink:href=\"#DejaVuSans-30\"/>\n       <use transform=\"translate(128.203125 38.965625)scale(0.7)\" xlink:href=\"#DejaVuSans-31\"/>\n      </g>\n     </g>\n    </g>\n    <g id=\"xtick_2\">\n     <g id=\"line2d_2\">\n      <g>\n       <use style=\"stroke:#000000;stroke-width:0.8;\" x=\"134.32358\" xlink:href=\"#m04ae0cb7cc\" y=\"224.64\"/>\n      </g>\n     </g>\n     <g id=\"text_2\">\n      <!-- $\\mathdefault{10^{2}}$ -->\n      <g transform=\"translate(125.52358 239.238437)scale(0.1 -0.1)\">\n       <defs>\n        <path d=\"M 1228 531 \nL 3431 531 \nL 3431 0 \nL 469 0 \nL 469 531 \nQ 828 903 1448 1529 \nQ 2069 2156 2228 2338 \nQ 2531 2678 2651 2914 \nQ 2772 3150 2772 3378 \nQ 2772 3750 2511 3984 \nQ 2250 4219 1831 4219 \nQ 1534 4219 1204 4116 \nQ 875 4013 500 3803 \nL 500 4441 \nQ 881 4594 1212 4672 \nQ 1544 4750 1819 4750 \nQ 2544 4750 2975 4387 \nQ 3406 4025 3406 3419 \nQ 3406 3131 3298 2873 \nQ 3191 2616 2906 2266 \nQ 2828 2175 2409 1742 \nQ 1991 1309 1228 531 \nz\n\" id=\"DejaVuSans-32\" transform=\"scale(0.015625)\"/>\n       </defs>\n       <use transform=\"translate(0 0.765625)\" xlink:href=\"#DejaVuSans-31\"/>\n       <use transform=\"translate(63.623047 0.765625)\" xlink:href=\"#DejaVuSans-30\"/>\n       <use transform=\"translate(128.203125 39.046875)scale(0.7)\" xlink:href=\"#DejaVuSans-32\"/>\n      </g>\n     </g>\n    </g>\n    <g id=\"xtick_3\">\n     <g id=\"line2d_3\">\n      <g>\n       <use style=\"stroke:#000000;stroke-width:0.8;\" x=\"185.050852\" xlink:href=\"#m04ae0cb7cc\" y=\"224.64\"/>\n      </g>\n     </g>\n     <g id=\"text_3\">\n      <!-- $\\mathdefault{10^{3}}$ -->\n      <g transform=\"translate(176.250852 239.238437)scale(0.1 -0.1)\">\n       <defs>\n        <path d=\"M 2597 2516 \nQ 3050 2419 3304 2112 \nQ 3559 1806 3559 1356 \nQ 3559 666 3084 287 \nQ 2609 -91 1734 -91 \nQ 1441 -91 1130 -33 \nQ 819 25 488 141 \nL 488 750 \nQ 750 597 1062 519 \nQ 1375 441 1716 441 \nQ 2309 441 2620 675 \nQ 2931 909 2931 1356 \nQ 2931 1769 2642 2001 \nQ 2353 2234 1838 2234 \nL 1294 2234 \nL 1294 2753 \nL 1863 2753 \nQ 2328 2753 2575 2939 \nQ 2822 3125 2822 3475 \nQ 2822 3834 2567 4026 \nQ 2313 4219 1838 4219 \nQ 1578 4219 1281 4162 \nQ 984 4106 628 3988 \nL 628 4550 \nQ 988 4650 1302 4700 \nQ 1616 4750 1894 4750 \nQ 2613 4750 3031 4423 \nQ 3450 4097 3450 3541 \nQ 3450 3153 3228 2886 \nQ 3006 2619 2597 2516 \nz\n\" id=\"DejaVuSans-33\" transform=\"scale(0.015625)\"/>\n       </defs>\n       <use transform=\"translate(0 0.765625)\" xlink:href=\"#DejaVuSans-31\"/>\n       <use transform=\"translate(63.623047 0.765625)\" xlink:href=\"#DejaVuSans-30\"/>\n       <use transform=\"translate(128.203125 39.046875)scale(0.7)\" xlink:href=\"#DejaVuSans-33\"/>\n      </g>\n     </g>\n    </g>\n    <g id=\"xtick_4\">\n     <g id=\"line2d_4\">\n      <g>\n       <use style=\"stroke:#000000;stroke-width:0.8;\" x=\"235.778125\" xlink:href=\"#m04ae0cb7cc\" y=\"224.64\"/>\n      </g>\n     </g>\n     <g id=\"text_4\">\n      <!-- $\\mathdefault{10^{4}}$ -->\n      <g transform=\"translate(226.978125 239.238437)scale(0.1 -0.1)\">\n       <defs>\n        <path d=\"M 2419 4116 \nL 825 1625 \nL 2419 1625 \nL 2419 4116 \nz\nM 2253 4666 \nL 3047 4666 \nL 3047 1625 \nL 3713 1625 \nL 3713 1100 \nL 3047 1100 \nL 3047 0 \nL 2419 0 \nL 2419 1100 \nL 313 1100 \nL 313 1709 \nL 2253 4666 \nz\n\" id=\"DejaVuSans-34\" transform=\"scale(0.015625)\"/>\n       </defs>\n       <use transform=\"translate(0 0.684375)\" xlink:href=\"#DejaVuSans-31\"/>\n       <use transform=\"translate(63.623047 0.684375)\" xlink:href=\"#DejaVuSans-30\"/>\n       <use transform=\"translate(128.203125 38.965625)scale(0.7)\" xlink:href=\"#DejaVuSans-34\"/>\n      </g>\n     </g>\n    </g>\n    <g id=\"xtick_5\">\n     <g id=\"line2d_5\">\n      <g>\n       <use style=\"stroke:#000000;stroke-width:0.8;\" x=\"286.505398\" xlink:href=\"#m04ae0cb7cc\" y=\"224.64\"/>\n      </g>\n     </g>\n     <g id=\"text_5\">\n      <!-- $\\mathdefault{10^{5}}$ -->\n      <g transform=\"translate(277.705398 239.238437)scale(0.1 -0.1)\">\n       <defs>\n        <path d=\"M 691 4666 \nL 3169 4666 \nL 3169 4134 \nL 1269 4134 \nL 1269 2991 \nQ 1406 3038 1543 3061 \nQ 1681 3084 1819 3084 \nQ 2600 3084 3056 2656 \nQ 3513 2228 3513 1497 \nQ 3513 744 3044 326 \nQ 2575 -91 1722 -91 \nQ 1428 -91 1123 -41 \nQ 819 9 494 109 \nL 494 744 \nQ 775 591 1075 516 \nQ 1375 441 1709 441 \nQ 2250 441 2565 725 \nQ 2881 1009 2881 1497 \nQ 2881 1984 2565 2268 \nQ 2250 2553 1709 2553 \nQ 1456 2553 1204 2497 \nQ 953 2441 691 2322 \nL 691 4666 \nz\n\" id=\"DejaVuSans-35\" transform=\"scale(0.015625)\"/>\n       </defs>\n       <use transform=\"translate(0 0.684375)\" xlink:href=\"#DejaVuSans-31\"/>\n       <use transform=\"translate(63.623047 0.684375)\" xlink:href=\"#DejaVuSans-30\"/>\n       <use transform=\"translate(128.203125 38.965625)scale(0.7)\" xlink:href=\"#DejaVuSans-35\"/>\n      </g>\n     </g>\n    </g>\n    <g id=\"xtick_6\">\n     <g id=\"line2d_6\">\n      <g>\n       <use style=\"stroke:#000000;stroke-width:0.8;\" x=\"337.23267\" xlink:href=\"#m04ae0cb7cc\" y=\"224.64\"/>\n      </g>\n     </g>\n     <g id=\"text_6\">\n      <!-- $\\mathdefault{10^{6}}$ -->\n      <g transform=\"translate(328.43267 239.238437)scale(0.1 -0.1)\">\n       <defs>\n        <path d=\"M 2113 2584 \nQ 1688 2584 1439 2293 \nQ 1191 2003 1191 1497 \nQ 1191 994 1439 701 \nQ 1688 409 2113 409 \nQ 2538 409 2786 701 \nQ 3034 994 3034 1497 \nQ 3034 2003 2786 2293 \nQ 2538 2584 2113 2584 \nz\nM 3366 4563 \nL 3366 3988 \nQ 3128 4100 2886 4159 \nQ 2644 4219 2406 4219 \nQ 1781 4219 1451 3797 \nQ 1122 3375 1075 2522 \nQ 1259 2794 1537 2939 \nQ 1816 3084 2150 3084 \nQ 2853 3084 3261 2657 \nQ 3669 2231 3669 1497 \nQ 3669 778 3244 343 \nQ 2819 -91 2113 -91 \nQ 1303 -91 875 529 \nQ 447 1150 447 2328 \nQ 447 3434 972 4092 \nQ 1497 4750 2381 4750 \nQ 2619 4750 2861 4703 \nQ 3103 4656 3366 4563 \nz\n\" id=\"DejaVuSans-36\" transform=\"scale(0.015625)\"/>\n       </defs>\n       <use transform=\"translate(0 0.765625)\" xlink:href=\"#DejaVuSans-31\"/>\n       <use transform=\"translate(63.623047 0.765625)\" xlink:href=\"#DejaVuSans-30\"/>\n       <use transform=\"translate(128.203125 39.046875)scale(0.7)\" xlink:href=\"#DejaVuSans-36\"/>\n      </g>\n     </g>\n    </g>\n    <g id=\"xtick_7\">\n     <g id=\"line2d_7\">\n      <g>\n       <use style=\"stroke:#000000;stroke-width:0.8;\" x=\"387.959943\" xlink:href=\"#m04ae0cb7cc\" y=\"224.64\"/>\n      </g>\n     </g>\n     <g id=\"text_7\">\n      <!-- $\\mathdefault{10^{7}}$ -->\n      <g transform=\"translate(379.159943 239.238437)scale(0.1 -0.1)\">\n       <defs>\n        <path d=\"M 525 4666 \nL 3525 4666 \nL 3525 4397 \nL 1831 0 \nL 1172 0 \nL 2766 4134 \nL 525 4134 \nL 525 4666 \nz\n\" id=\"DejaVuSans-37\" transform=\"scale(0.015625)\"/>\n       </defs>\n       <use transform=\"translate(0 0.684375)\" xlink:href=\"#DejaVuSans-31\"/>\n       <use transform=\"translate(63.623047 0.684375)\" xlink:href=\"#DejaVuSans-30\"/>\n       <use transform=\"translate(128.203125 38.965625)scale(0.7)\" xlink:href=\"#DejaVuSans-37\"/>\n      </g>\n     </g>\n    </g>\n    <g id=\"xtick_8\">\n     <g id=\"line2d_8\">\n      <defs>\n       <path d=\"M 0 0 \nL 0 2 \n\" id=\"m1d4ee2e54e\" style=\"stroke:#000000;stroke-width:0.6;\"/>\n      </defs>\n      <g>\n       <use style=\"stroke:#000000;stroke-width:0.6;\" x=\"72.342525\" xlink:href=\"#m1d4ee2e54e\" y=\"224.64\"/>\n      </g>\n     </g>\n    </g>\n    <g id=\"xtick_9\">\n     <g id=\"line2d_9\">\n      <g>\n       <use style=\"stroke:#000000;stroke-width:0.6;\" x=\"75.738553\" xlink:href=\"#m1d4ee2e54e\" y=\"224.64\"/>\n      </g>\n     </g>\n    </g>\n    <g id=\"xtick_10\">\n     <g id=\"line2d_10\">\n      <g>\n       <use style=\"stroke:#000000;stroke-width:0.6;\" x=\"78.680326\" xlink:href=\"#m1d4ee2e54e\" y=\"224.64\"/>\n      </g>\n     </g>\n    </g>\n    <g id=\"xtick_11\">\n     <g id=\"line2d_11\">\n      <g>\n       <use style=\"stroke:#000000;stroke-width:0.6;\" x=\"81.275154\" xlink:href=\"#m1d4ee2e54e\" y=\"224.64\"/>\n      </g>\n     </g>\n    </g>\n    <g id=\"xtick_12\">\n     <g id=\"line2d_12\">\n      <g>\n       <use style=\"stroke:#000000;stroke-width:0.6;\" x=\"98.866738\" xlink:href=\"#m1d4ee2e54e\" y=\"224.64\"/>\n      </g>\n     </g>\n    </g>\n    <g id=\"xtick_13\">\n     <g id=\"line2d_13\">\n      <g>\n       <use style=\"stroke:#000000;stroke-width:0.6;\" x=\"107.799367\" xlink:href=\"#m1d4ee2e54e\" y=\"224.64\"/>\n      </g>\n     </g>\n    </g>\n    <g id=\"xtick_14\">\n     <g id=\"line2d_14\">\n      <g>\n       <use style=\"stroke:#000000;stroke-width:0.6;\" x=\"114.137168\" xlink:href=\"#m1d4ee2e54e\" y=\"224.64\"/>\n      </g>\n     </g>\n    </g>\n    <g id=\"xtick_15\">\n     <g id=\"line2d_15\">\n      <g>\n       <use style=\"stroke:#000000;stroke-width:0.6;\" x=\"119.053149\" xlink:href=\"#m1d4ee2e54e\" y=\"224.64\"/>\n      </g>\n     </g>\n    </g>\n    <g id=\"xtick_16\">\n     <g id=\"line2d_16\">\n      <g>\n       <use style=\"stroke:#000000;stroke-width:0.6;\" x=\"123.069798\" xlink:href=\"#m1d4ee2e54e\" y=\"224.64\"/>\n      </g>\n     </g>\n    </g>\n    <g id=\"xtick_17\">\n     <g id=\"line2d_17\">\n      <g>\n       <use style=\"stroke:#000000;stroke-width:0.6;\" x=\"126.465826\" xlink:href=\"#m1d4ee2e54e\" y=\"224.64\"/>\n      </g>\n     </g>\n    </g>\n    <g id=\"xtick_18\">\n     <g id=\"line2d_18\">\n      <g>\n       <use style=\"stroke:#000000;stroke-width:0.6;\" x=\"129.407599\" xlink:href=\"#m1d4ee2e54e\" y=\"224.64\"/>\n      </g>\n     </g>\n    </g>\n    <g id=\"xtick_19\">\n     <g id=\"line2d_19\">\n      <g>\n       <use style=\"stroke:#000000;stroke-width:0.6;\" x=\"132.002427\" xlink:href=\"#m1d4ee2e54e\" y=\"224.64\"/>\n      </g>\n     </g>\n    </g>\n    <g id=\"xtick_20\">\n     <g id=\"line2d_20\">\n      <g>\n       <use style=\"stroke:#000000;stroke-width:0.6;\" x=\"149.59401\" xlink:href=\"#m1d4ee2e54e\" y=\"224.64\"/>\n      </g>\n     </g>\n    </g>\n    <g id=\"xtick_21\">\n     <g id=\"line2d_21\">\n      <g>\n       <use style=\"stroke:#000000;stroke-width:0.6;\" x=\"158.52664\" xlink:href=\"#m1d4ee2e54e\" y=\"224.64\"/>\n      </g>\n     </g>\n    </g>\n    <g id=\"xtick_22\">\n     <g id=\"line2d_22\">\n      <g>\n       <use style=\"stroke:#000000;stroke-width:0.6;\" x=\"164.864441\" xlink:href=\"#m1d4ee2e54e\" y=\"224.64\"/>\n      </g>\n     </g>\n    </g>\n    <g id=\"xtick_23\">\n     <g id=\"line2d_23\">\n      <g>\n       <use style=\"stroke:#000000;stroke-width:0.6;\" x=\"169.780422\" xlink:href=\"#m1d4ee2e54e\" y=\"224.64\"/>\n      </g>\n     </g>\n    </g>\n    <g id=\"xtick_24\">\n     <g id=\"line2d_24\">\n      <g>\n       <use style=\"stroke:#000000;stroke-width:0.6;\" x=\"173.79707\" xlink:href=\"#m1d4ee2e54e\" y=\"224.64\"/>\n      </g>\n     </g>\n    </g>\n    <g id=\"xtick_25\">\n     <g id=\"line2d_25\">\n      <g>\n       <use style=\"stroke:#000000;stroke-width:0.6;\" x=\"177.193098\" xlink:href=\"#m1d4ee2e54e\" y=\"224.64\"/>\n      </g>\n     </g>\n    </g>\n    <g id=\"xtick_26\">\n     <g id=\"line2d_26\">\n      <g>\n       <use style=\"stroke:#000000;stroke-width:0.6;\" x=\"180.134872\" xlink:href=\"#m1d4ee2e54e\" y=\"224.64\"/>\n      </g>\n     </g>\n    </g>\n    <g id=\"xtick_27\">\n     <g id=\"line2d_27\">\n      <g>\n       <use style=\"stroke:#000000;stroke-width:0.6;\" x=\"182.7297\" xlink:href=\"#m1d4ee2e54e\" y=\"224.64\"/>\n      </g>\n     </g>\n    </g>\n    <g id=\"xtick_28\">\n     <g id=\"line2d_28\">\n      <g>\n       <use style=\"stroke:#000000;stroke-width:0.6;\" x=\"200.321283\" xlink:href=\"#m1d4ee2e54e\" y=\"224.64\"/>\n      </g>\n     </g>\n    </g>\n    <g id=\"xtick_29\">\n     <g id=\"line2d_29\">\n      <g>\n       <use style=\"stroke:#000000;stroke-width:0.6;\" x=\"209.253912\" xlink:href=\"#m1d4ee2e54e\" y=\"224.64\"/>\n      </g>\n     </g>\n    </g>\n    <g id=\"xtick_30\">\n     <g id=\"line2d_30\">\n      <g>\n       <use style=\"stroke:#000000;stroke-width:0.6;\" x=\"215.591714\" xlink:href=\"#m1d4ee2e54e\" y=\"224.64\"/>\n      </g>\n     </g>\n    </g>\n    <g id=\"xtick_31\">\n     <g id=\"line2d_31\">\n      <g>\n       <use style=\"stroke:#000000;stroke-width:0.6;\" x=\"220.507694\" xlink:href=\"#m1d4ee2e54e\" y=\"224.64\"/>\n      </g>\n     </g>\n    </g>\n    <g id=\"xtick_32\">\n     <g id=\"line2d_32\">\n      <g>\n       <use style=\"stroke:#000000;stroke-width:0.6;\" x=\"224.524343\" xlink:href=\"#m1d4ee2e54e\" y=\"224.64\"/>\n      </g>\n     </g>\n    </g>\n    <g id=\"xtick_33\">\n     <g id=\"line2d_33\">\n      <g>\n       <use style=\"stroke:#000000;stroke-width:0.6;\" x=\"227.920371\" xlink:href=\"#m1d4ee2e54e\" y=\"224.64\"/>\n      </g>\n     </g>\n    </g>\n    <g id=\"xtick_34\">\n     <g id=\"line2d_34\">\n      <g>\n       <use style=\"stroke:#000000;stroke-width:0.6;\" x=\"230.862144\" xlink:href=\"#m1d4ee2e54e\" y=\"224.64\"/>\n      </g>\n     </g>\n    </g>\n    <g id=\"xtick_35\">\n     <g id=\"line2d_35\">\n      <g>\n       <use style=\"stroke:#000000;stroke-width:0.6;\" x=\"233.456972\" xlink:href=\"#m1d4ee2e54e\" y=\"224.64\"/>\n      </g>\n     </g>\n    </g>\n    <g id=\"xtick_36\">\n     <g id=\"line2d_36\">\n      <g>\n       <use style=\"stroke:#000000;stroke-width:0.6;\" x=\"251.048556\" xlink:href=\"#m1d4ee2e54e\" y=\"224.64\"/>\n      </g>\n     </g>\n    </g>\n    <g id=\"xtick_37\">\n     <g id=\"line2d_37\">\n      <g>\n       <use style=\"stroke:#000000;stroke-width:0.6;\" x=\"259.981185\" xlink:href=\"#m1d4ee2e54e\" y=\"224.64\"/>\n      </g>\n     </g>\n    </g>\n    <g id=\"xtick_38\">\n     <g id=\"line2d_38\">\n      <g>\n       <use style=\"stroke:#000000;stroke-width:0.6;\" x=\"266.318986\" xlink:href=\"#m1d4ee2e54e\" y=\"224.64\"/>\n      </g>\n     </g>\n    </g>\n    <g id=\"xtick_39\">\n     <g id=\"line2d_39\">\n      <g>\n       <use style=\"stroke:#000000;stroke-width:0.6;\" x=\"271.234967\" xlink:href=\"#m1d4ee2e54e\" y=\"224.64\"/>\n      </g>\n     </g>\n    </g>\n    <g id=\"xtick_40\">\n     <g id=\"line2d_40\">\n      <g>\n       <use style=\"stroke:#000000;stroke-width:0.6;\" x=\"275.251616\" xlink:href=\"#m1d4ee2e54e\" y=\"224.64\"/>\n      </g>\n     </g>\n    </g>\n    <g id=\"xtick_41\">\n     <g id=\"line2d_41\">\n      <g>\n       <use style=\"stroke:#000000;stroke-width:0.6;\" x=\"278.647644\" xlink:href=\"#m1d4ee2e54e\" y=\"224.64\"/>\n      </g>\n     </g>\n    </g>\n    <g id=\"xtick_42\">\n     <g id=\"line2d_42\">\n      <g>\n       <use style=\"stroke:#000000;stroke-width:0.6;\" x=\"281.589417\" xlink:href=\"#m1d4ee2e54e\" y=\"224.64\"/>\n      </g>\n     </g>\n    </g>\n    <g id=\"xtick_43\">\n     <g id=\"line2d_43\">\n      <g>\n       <use style=\"stroke:#000000;stroke-width:0.6;\" x=\"284.184245\" xlink:href=\"#m1d4ee2e54e\" y=\"224.64\"/>\n      </g>\n     </g>\n    </g>\n    <g id=\"xtick_44\">\n     <g id=\"line2d_44\">\n      <g>\n       <use style=\"stroke:#000000;stroke-width:0.6;\" x=\"301.775828\" xlink:href=\"#m1d4ee2e54e\" y=\"224.64\"/>\n      </g>\n     </g>\n    </g>\n    <g id=\"xtick_45\">\n     <g id=\"line2d_45\">\n      <g>\n       <use style=\"stroke:#000000;stroke-width:0.6;\" x=\"310.708458\" xlink:href=\"#m1d4ee2e54e\" y=\"224.64\"/>\n      </g>\n     </g>\n    </g>\n    <g id=\"xtick_46\">\n     <g id=\"line2d_46\">\n      <g>\n       <use style=\"stroke:#000000;stroke-width:0.6;\" x=\"317.046259\" xlink:href=\"#m1d4ee2e54e\" y=\"224.64\"/>\n      </g>\n     </g>\n    </g>\n    <g id=\"xtick_47\">\n     <g id=\"line2d_47\">\n      <g>\n       <use style=\"stroke:#000000;stroke-width:0.6;\" x=\"321.96224\" xlink:href=\"#m1d4ee2e54e\" y=\"224.64\"/>\n      </g>\n     </g>\n    </g>\n    <g id=\"xtick_48\">\n     <g id=\"line2d_48\">\n      <g>\n       <use style=\"stroke:#000000;stroke-width:0.6;\" x=\"325.978888\" xlink:href=\"#m1d4ee2e54e\" y=\"224.64\"/>\n      </g>\n     </g>\n    </g>\n    <g id=\"xtick_49\">\n     <g id=\"line2d_49\">\n      <g>\n       <use style=\"stroke:#000000;stroke-width:0.6;\" x=\"329.374916\" xlink:href=\"#m1d4ee2e54e\" y=\"224.64\"/>\n      </g>\n     </g>\n    </g>\n    <g id=\"xtick_50\">\n     <g id=\"line2d_50\">\n      <g>\n       <use style=\"stroke:#000000;stroke-width:0.6;\" x=\"332.31669\" xlink:href=\"#m1d4ee2e54e\" y=\"224.64\"/>\n      </g>\n     </g>\n    </g>\n    <g id=\"xtick_51\">\n     <g id=\"line2d_51\">\n      <g>\n       <use style=\"stroke:#000000;stroke-width:0.6;\" x=\"334.911518\" xlink:href=\"#m1d4ee2e54e\" y=\"224.64\"/>\n      </g>\n     </g>\n    </g>\n    <g id=\"xtick_52\">\n     <g id=\"line2d_52\">\n      <g>\n       <use style=\"stroke:#000000;stroke-width:0.6;\" x=\"352.503101\" xlink:href=\"#m1d4ee2e54e\" y=\"224.64\"/>\n      </g>\n     </g>\n    </g>\n    <g id=\"xtick_53\">\n     <g id=\"line2d_53\">\n      <g>\n       <use style=\"stroke:#000000;stroke-width:0.6;\" x=\"361.43573\" xlink:href=\"#m1d4ee2e54e\" y=\"224.64\"/>\n      </g>\n     </g>\n    </g>\n    <g id=\"xtick_54\">\n     <g id=\"line2d_54\">\n      <g>\n       <use style=\"stroke:#000000;stroke-width:0.6;\" x=\"367.773532\" xlink:href=\"#m1d4ee2e54e\" y=\"224.64\"/>\n      </g>\n     </g>\n    </g>\n    <g id=\"xtick_55\">\n     <g id=\"line2d_55\">\n      <g>\n       <use style=\"stroke:#000000;stroke-width:0.6;\" x=\"372.689512\" xlink:href=\"#m1d4ee2e54e\" y=\"224.64\"/>\n      </g>\n     </g>\n    </g>\n    <g id=\"xtick_56\">\n     <g id=\"line2d_56\">\n      <g>\n       <use style=\"stroke:#000000;stroke-width:0.6;\" x=\"376.706161\" xlink:href=\"#m1d4ee2e54e\" y=\"224.64\"/>\n      </g>\n     </g>\n    </g>\n    <g id=\"xtick_57\">\n     <g id=\"line2d_57\">\n      <g>\n       <use style=\"stroke:#000000;stroke-width:0.6;\" x=\"380.102189\" xlink:href=\"#m1d4ee2e54e\" y=\"224.64\"/>\n      </g>\n     </g>\n    </g>\n    <g id=\"xtick_58\">\n     <g id=\"line2d_58\">\n      <g>\n       <use style=\"stroke:#000000;stroke-width:0.6;\" x=\"383.043963\" xlink:href=\"#m1d4ee2e54e\" y=\"224.64\"/>\n      </g>\n     </g>\n    </g>\n    <g id=\"xtick_59\">\n     <g id=\"line2d_59\">\n      <g>\n       <use style=\"stroke:#000000;stroke-width:0.6;\" x=\"385.63879\" xlink:href=\"#m1d4ee2e54e\" y=\"224.64\"/>\n      </g>\n     </g>\n    </g>\n    <g id=\"text_8\">\n     <!-- vocab size -->\n     <g transform=\"translate(209.488281 252.916562)scale(0.1 -0.1)\">\n      <defs>\n       <path d=\"M 191 3500 \nL 800 3500 \nL 1894 563 \nL 2988 3500 \nL 3597 3500 \nL 2284 0 \nL 1503 0 \nL 191 3500 \nz\n\" id=\"DejaVuSans-76\" transform=\"scale(0.015625)\"/>\n       <path d=\"M 1959 3097 \nQ 1497 3097 1228 2736 \nQ 959 2375 959 1747 \nQ 959 1119 1226 758 \nQ 1494 397 1959 397 \nQ 2419 397 2687 759 \nQ 2956 1122 2956 1747 \nQ 2956 2369 2687 2733 \nQ 2419 3097 1959 3097 \nz\nM 1959 3584 \nQ 2709 3584 3137 3096 \nQ 3566 2609 3566 1747 \nQ 3566 888 3137 398 \nQ 2709 -91 1959 -91 \nQ 1206 -91 779 398 \nQ 353 888 353 1747 \nQ 353 2609 779 3096 \nQ 1206 3584 1959 3584 \nz\n\" id=\"DejaVuSans-6f\" transform=\"scale(0.015625)\"/>\n       <path d=\"M 3122 3366 \nL 3122 2828 \nQ 2878 2963 2633 3030 \nQ 2388 3097 2138 3097 \nQ 1578 3097 1268 2742 \nQ 959 2388 959 1747 \nQ 959 1106 1268 751 \nQ 1578 397 2138 397 \nQ 2388 397 2633 464 \nQ 2878 531 3122 666 \nL 3122 134 \nQ 2881 22 2623 -34 \nQ 2366 -91 2075 -91 \nQ 1284 -91 818 406 \nQ 353 903 353 1747 \nQ 353 2603 823 3093 \nQ 1294 3584 2113 3584 \nQ 2378 3584 2631 3529 \nQ 2884 3475 3122 3366 \nz\n\" id=\"DejaVuSans-63\" transform=\"scale(0.015625)\"/>\n       <path d=\"M 2194 1759 \nQ 1497 1759 1228 1600 \nQ 959 1441 959 1056 \nQ 959 750 1161 570 \nQ 1363 391 1709 391 \nQ 2188 391 2477 730 \nQ 2766 1069 2766 1631 \nL 2766 1759 \nL 2194 1759 \nz\nM 3341 1997 \nL 3341 0 \nL 2766 0 \nL 2766 531 \nQ 2569 213 2275 61 \nQ 1981 -91 1556 -91 \nQ 1019 -91 701 211 \nQ 384 513 384 1019 \nQ 384 1609 779 1909 \nQ 1175 2209 1959 2209 \nL 2766 2209 \nL 2766 2266 \nQ 2766 2663 2505 2880 \nQ 2244 3097 1772 3097 \nQ 1472 3097 1187 3025 \nQ 903 2953 641 2809 \nL 641 3341 \nQ 956 3463 1253 3523 \nQ 1550 3584 1831 3584 \nQ 2591 3584 2966 3190 \nQ 3341 2797 3341 1997 \nz\n\" id=\"DejaVuSans-61\" transform=\"scale(0.015625)\"/>\n       <path d=\"M 3116 1747 \nQ 3116 2381 2855 2742 \nQ 2594 3103 2138 3103 \nQ 1681 3103 1420 2742 \nQ 1159 2381 1159 1747 \nQ 1159 1113 1420 752 \nQ 1681 391 2138 391 \nQ 2594 391 2855 752 \nQ 3116 1113 3116 1747 \nz\nM 1159 2969 \nQ 1341 3281 1617 3432 \nQ 1894 3584 2278 3584 \nQ 2916 3584 3314 3078 \nQ 3713 2572 3713 1747 \nQ 3713 922 3314 415 \nQ 2916 -91 2278 -91 \nQ 1894 -91 1617 61 \nQ 1341 213 1159 525 \nL 1159 0 \nL 581 0 \nL 581 4863 \nL 1159 4863 \nL 1159 2969 \nz\n\" id=\"DejaVuSans-62\" transform=\"scale(0.015625)\"/>\n       <path id=\"DejaVuSans-20\" transform=\"scale(0.015625)\"/>\n       <path d=\"M 2834 3397 \nL 2834 2853 \nQ 2591 2978 2328 3040 \nQ 2066 3103 1784 3103 \nQ 1356 3103 1142 2972 \nQ 928 2841 928 2578 \nQ 928 2378 1081 2264 \nQ 1234 2150 1697 2047 \nL 1894 2003 \nQ 2506 1872 2764 1633 \nQ 3022 1394 3022 966 \nQ 3022 478 2636 193 \nQ 2250 -91 1575 -91 \nQ 1294 -91 989 -36 \nQ 684 19 347 128 \nL 347 722 \nQ 666 556 975 473 \nQ 1284 391 1588 391 \nQ 1994 391 2212 530 \nQ 2431 669 2431 922 \nQ 2431 1156 2273 1281 \nQ 2116 1406 1581 1522 \nL 1381 1569 \nQ 847 1681 609 1914 \nQ 372 2147 372 2553 \nQ 372 3047 722 3315 \nQ 1072 3584 1716 3584 \nQ 2034 3584 2315 3537 \nQ 2597 3491 2834 3397 \nz\n\" id=\"DejaVuSans-73\" transform=\"scale(0.015625)\"/>\n       <path d=\"M 603 3500 \nL 1178 3500 \nL 1178 0 \nL 603 0 \nL 603 3500 \nz\nM 603 4863 \nL 1178 4863 \nL 1178 4134 \nL 603 4134 \nL 603 4863 \nz\n\" id=\"DejaVuSans-69\" transform=\"scale(0.015625)\"/>\n       <path d=\"M 353 3500 \nL 3084 3500 \nL 3084 2975 \nL 922 459 \nL 3084 459 \nL 3084 0 \nL 275 0 \nL 275 525 \nL 2438 3041 \nL 353 3041 \nL 353 3500 \nz\n\" id=\"DejaVuSans-7a\" transform=\"scale(0.015625)\"/>\n       <path d=\"M 3597 1894 \nL 3597 1613 \nL 953 1613 \nQ 991 1019 1311 708 \nQ 1631 397 2203 397 \nQ 2534 397 2845 478 \nQ 3156 559 3463 722 \nL 3463 178 \nQ 3153 47 2828 -22 \nQ 2503 -91 2169 -91 \nQ 1331 -91 842 396 \nQ 353 884 353 1716 \nQ 353 2575 817 3079 \nQ 1281 3584 2069 3584 \nQ 2775 3584 3186 3129 \nQ 3597 2675 3597 1894 \nz\nM 3022 2063 \nQ 3016 2534 2758 2815 \nQ 2500 3097 2075 3097 \nQ 1594 3097 1305 2825 \nQ 1016 2553 972 2059 \nL 3022 2063 \nz\n\" id=\"DejaVuSans-65\" transform=\"scale(0.015625)\"/>\n      </defs>\n      <use xlink:href=\"#DejaVuSans-76\"/>\n      <use x=\"59.179688\" xlink:href=\"#DejaVuSans-6f\"/>\n      <use x=\"120.361328\" xlink:href=\"#DejaVuSans-63\"/>\n      <use x=\"175.341797\" xlink:href=\"#DejaVuSans-61\"/>\n      <use x=\"236.621094\" xlink:href=\"#DejaVuSans-62\"/>\n      <use x=\"300.097656\" xlink:href=\"#DejaVuSans-20\"/>\n      <use x=\"331.884766\" xlink:href=\"#DejaVuSans-73\"/>\n      <use x=\"383.984375\" xlink:href=\"#DejaVuSans-69\"/>\n      <use x=\"411.767578\" xlink:href=\"#DejaVuSans-7a\"/>\n      <use x=\"464.257812\" xlink:href=\"#DejaVuSans-65\"/>\n     </g>\n    </g>\n   </g>\n   <g id=\"matplotlib.axis_2\">\n    <g id=\"ytick_1\">\n     <g id=\"line2d_60\">\n      <defs>\n       <path d=\"M 0 0 \nL -2 0 \n\" id=\"m64a0963169\" style=\"stroke:#000000;stroke-width:0.6;\"/>\n      </defs>\n      <g>\n       <use style=\"stroke:#000000;stroke-width:0.6;\" x=\"68.378125\" xlink:href=\"#m64a0963169\" y=\"184.585055\"/>\n      </g>\n     </g>\n     <g id=\"text_9\">\n      <!-- $\\mathdefault{5\\times10^{-2}}$ -->\n      <g transform=\"translate(20.878125 188.384273)scale(0.1 -0.1)\">\n       <defs>\n        <path d=\"M 4488 3438 \nL 3059 2003 \nL 4488 575 \nL 4116 197 \nL 2681 1631 \nL 1247 197 \nL 878 575 \nL 2303 2003 \nL 878 3438 \nL 1247 3816 \nL 2681 2381 \nL 4116 3816 \nL 4488 3438 \nz\n\" id=\"DejaVuSans-d7\" transform=\"scale(0.015625)\"/>\n        <path d=\"M 678 2272 \nL 4684 2272 \nL 4684 1741 \nL 678 1741 \nL 678 2272 \nz\n\" id=\"DejaVuSans-2212\" transform=\"scale(0.015625)\"/>\n       </defs>\n       <use transform=\"translate(0 0.765625)\" xlink:href=\"#DejaVuSans-35\"/>\n       <use transform=\"translate(83.105469 0.765625)\" xlink:href=\"#DejaVuSans-d7\"/>\n       <use transform=\"translate(186.376953 0.765625)\" xlink:href=\"#DejaVuSans-31\"/>\n       <use transform=\"translate(250 0.765625)\" xlink:href=\"#DejaVuSans-30\"/>\n       <use transform=\"translate(314.580078 39.046875)scale(0.7)\" xlink:href=\"#DejaVuSans-2212\"/>\n       <use transform=\"translate(373.232422 39.046875)scale(0.7)\" xlink:href=\"#DejaVuSans-32\"/>\n      </g>\n     </g>\n    </g>\n    <g id=\"ytick_2\">\n     <g id=\"line2d_61\">\n      <g>\n       <use style=\"stroke:#000000;stroke-width:0.6;\" x=\"68.378125\" xlink:href=\"#m64a0963169\" y=\"93.786784\"/>\n      </g>\n     </g>\n     <g id=\"text_10\">\n      <!-- $\\mathdefault{6\\times10^{-2}}$ -->\n      <g transform=\"translate(20.878125 97.586003)scale(0.1 -0.1)\">\n       <use transform=\"translate(0 0.765625)\" xlink:href=\"#DejaVuSans-36\"/>\n       <use transform=\"translate(83.105469 0.765625)\" xlink:href=\"#DejaVuSans-d7\"/>\n       <use transform=\"translate(186.376953 0.765625)\" xlink:href=\"#DejaVuSans-31\"/>\n       <use transform=\"translate(250 0.765625)\" xlink:href=\"#DejaVuSans-30\"/>\n       <use transform=\"translate(314.580078 39.046875)scale(0.7)\" xlink:href=\"#DejaVuSans-2212\"/>\n       <use transform=\"translate(373.232422 39.046875)scale(0.7)\" xlink:href=\"#DejaVuSans-32\"/>\n      </g>\n     </g>\n    </g>\n    <g id=\"ytick_3\">\n     <g id=\"line2d_62\">\n      <g>\n       <use style=\"stroke:#000000;stroke-width:0.6;\" x=\"68.378125\" xlink:href=\"#m64a0963169\" y=\"17.01794\"/>\n      </g>\n     </g>\n     <g id=\"text_11\">\n      <!-- $\\mathdefault{7\\times10^{-2}}$ -->\n      <g transform=\"translate(20.878125 20.817159)scale(0.1 -0.1)\">\n       <use transform=\"translate(0 0.765625)\" xlink:href=\"#DejaVuSans-37\"/>\n       <use transform=\"translate(83.105469 0.765625)\" xlink:href=\"#DejaVuSans-d7\"/>\n       <use transform=\"translate(186.376953 0.765625)\" xlink:href=\"#DejaVuSans-31\"/>\n       <use transform=\"translate(250 0.765625)\" xlink:href=\"#DejaVuSans-30\"/>\n       <use transform=\"translate(314.580078 39.046875)scale(0.7)\" xlink:href=\"#DejaVuSans-2212\"/>\n       <use transform=\"translate(373.232422 39.046875)scale(0.7)\" xlink:href=\"#DejaVuSans-32\"/>\n      </g>\n     </g>\n    </g>\n    <g id=\"text_12\">\n     <!-- OOV rate -->\n     <g transform=\"translate(14.798438 138.87)rotate(-90)scale(0.1 -0.1)\">\n      <defs>\n       <path d=\"M 2522 4238 \nQ 1834 4238 1429 3725 \nQ 1025 3213 1025 2328 \nQ 1025 1447 1429 934 \nQ 1834 422 2522 422 \nQ 3209 422 3611 934 \nQ 4013 1447 4013 2328 \nQ 4013 3213 3611 3725 \nQ 3209 4238 2522 4238 \nz\nM 2522 4750 \nQ 3503 4750 4090 4092 \nQ 4678 3434 4678 2328 \nQ 4678 1225 4090 567 \nQ 3503 -91 2522 -91 \nQ 1538 -91 948 565 \nQ 359 1222 359 2328 \nQ 359 3434 948 4092 \nQ 1538 4750 2522 4750 \nz\n\" id=\"DejaVuSans-4f\" transform=\"scale(0.015625)\"/>\n       <path d=\"M 1831 0 \nL 50 4666 \nL 709 4666 \nL 2188 738 \nL 3669 4666 \nL 4325 4666 \nL 2547 0 \nL 1831 0 \nz\n\" id=\"DejaVuSans-56\" transform=\"scale(0.015625)\"/>\n       <path d=\"M 2631 2963 \nQ 2534 3019 2420 3045 \nQ 2306 3072 2169 3072 \nQ 1681 3072 1420 2755 \nQ 1159 2438 1159 1844 \nL 1159 0 \nL 581 0 \nL 581 3500 \nL 1159 3500 \nL 1159 2956 \nQ 1341 3275 1631 3429 \nQ 1922 3584 2338 3584 \nQ 2397 3584 2469 3576 \nQ 2541 3569 2628 3553 \nL 2631 2963 \nz\n\" id=\"DejaVuSans-72\" transform=\"scale(0.015625)\"/>\n       <path d=\"M 1172 4494 \nL 1172 3500 \nL 2356 3500 \nL 2356 3053 \nL 1172 3053 \nL 1172 1153 \nQ 1172 725 1289 603 \nQ 1406 481 1766 481 \nL 2356 481 \nL 2356 0 \nL 1766 0 \nQ 1100 0 847 248 \nQ 594 497 594 1153 \nL 594 3053 \nL 172 3053 \nL 172 3500 \nL 594 3500 \nL 594 4494 \nL 1172 4494 \nz\n\" id=\"DejaVuSans-74\" transform=\"scale(0.015625)\"/>\n      </defs>\n      <use xlink:href=\"#DejaVuSans-4f\"/>\n      <use x=\"78.710938\" xlink:href=\"#DejaVuSans-4f\"/>\n      <use x=\"155.671875\" xlink:href=\"#DejaVuSans-56\"/>\n      <use x=\"224.080078\" xlink:href=\"#DejaVuSans-20\"/>\n      <use x=\"255.867188\" xlink:href=\"#DejaVuSans-72\"/>\n      <use x=\"296.980469\" xlink:href=\"#DejaVuSans-61\"/>\n      <use x=\"358.259766\" xlink:href=\"#DejaVuSans-74\"/>\n      <use x=\"397.46875\" xlink:href=\"#DejaVuSans-65\"/>\n     </g>\n    </g>\n   </g>\n   <g id=\"line2d_63\">\n    <path clip-path=\"url(#p80bec476d3)\" d=\"M 83.596307 17.083636 \nL 134.32358 17.083636 \nL 185.050852 17.083636 \nL 235.778125 21.041366 \nL 286.505398 35.828225 \nL 337.23267 107.619173 \nL 387.959943 214.756364 \n\" style=\"fill:none;stroke:#1f77b4;stroke-linecap:square;stroke-width:1.5;\"/>\n   </g>\n   <g id=\"patch_3\">\n    <path d=\"M 68.378125 224.64 \nL 68.378125 7.2 \n\" style=\"fill:none;stroke:#000000;stroke-linecap:square;stroke-linejoin:miter;stroke-width:0.8;\"/>\n   </g>\n   <g id=\"patch_4\">\n    <path d=\"M 403.178125 224.64 \nL 403.178125 7.2 \n\" style=\"fill:none;stroke:#000000;stroke-linecap:square;stroke-linejoin:miter;stroke-width:0.8;\"/>\n   </g>\n   <g id=\"patch_5\">\n    <path d=\"M 68.378125 224.64 \nL 403.178125 224.64 \n\" style=\"fill:none;stroke:#000000;stroke-linecap:square;stroke-linejoin:miter;stroke-width:0.8;\"/>\n   </g>\n   <g id=\"patch_6\">\n    <path d=\"M 68.378125 7.2 \nL 403.178125 7.2 \n\" style=\"fill:none;stroke:#000000;stroke-linecap:square;stroke-linejoin:miter;stroke-width:0.8;\"/>\n   </g>\n   <g id=\"legend_1\">\n    <g id=\"patch_7\">\n     <path d=\"M 392.178125 20.2 \nL 396.178125 20.2 \nQ 398.178125 20.2 398.178125 18.2 \nL 398.178125 14.2 \nQ 398.178125 12.2 396.178125 12.2 \nL 392.178125 12.2 \nQ 390.178125 12.2 390.178125 14.2 \nL 390.178125 18.2 \nQ 390.178125 20.2 392.178125 20.2 \nz\n\" style=\"fill:#ffffff;opacity:0.8;stroke:#cccccc;stroke-linejoin:miter;\"/>\n    </g>\n   </g>\n  </g>\n </g>\n <defs>\n  <clipPath id=\"p80bec476d3\">\n   <rect height=\"217.44\" width=\"334.8\" x=\"68.378125\" y=\"7.2\"/>\n  </clipPath>\n </defs>\n</svg>\n",
      "image/png": "[encoded data removed]"
     },
     "metadata": {
      "needs_background": "light"
     }
    }
   ],
   "metadata": {}
  },
  {
   "cell_type": "code",
   "execution_count": 7,
   "source": [
    "# comparer.plot_oov_rates({value[0]: value[1] for value in oov_rates[\"eng_model_lrg_base\"]})\n",
    "comparer.plot_oov_rates({value[0]: value[1] for value in oov_rates[\"eng_model_lrg_ft\"]})"
   ],
   "outputs": [
    {
     "output_type": "stream",
     "name": "stderr",
     "text": [
      "No handles with labels found to put in legend.\n"
     ]
    },
    {
     "output_type": "display_data",
     "data": {
      "text/plain": [
       "<Figure size 432x288 with 1 Axes>"
      ],
      "image/svg+xml": "<?xml version=\"1.0\" encoding=\"utf-8\" standalone=\"no\"?>\n<!DOCTYPE svg PUBLIC \"-//W3C//DTD SVG 1.1//EN\"\n  \"http://www.w3.org/Graphics/SVG/1.1/DTD/svg11.dtd\">\n<svg height=\"262.19625pt\" version=\"1.1\" viewBox=\"0 0 410.378125 262.19625\" width=\"410.378125pt\" xmlns=\"http://www.w3.org/2000/svg\" xmlns:xlink=\"http://www.w3.org/1999/xlink\">\n <metadata>\n  <rdf:RDF xmlns:cc=\"http://creativecommons.org/ns#\" xmlns:dc=\"http://purl.org/dc/elements/1.1/\" xmlns:rdf=\"http://www.w3.org/1999/02/22-rdf-syntax-ns#\">\n   <cc:Work>\n    <dc:type rdf:resource=\"http://purl.org/dc/dcmitype/StillImage\"/>\n    <dc:date>2021-08-20T17:27:45.700378</dc:date>\n    <dc:format>image/svg+xml</dc:format>\n    <dc:creator>\n     <cc:Agent>\n      <dc:title>Matplotlib v3.4.3, https://matplotlib.org/</dc:title>\n     </cc:Agent>\n    </dc:creator>\n   </cc:Work>\n  </rdf:RDF>\n </metadata>\n <defs>\n  <style type=\"text/css\">*{stroke-linecap:butt;stroke-linejoin:round;}</style>\n </defs>\n <g id=\"figure_1\">\n  <g id=\"patch_1\">\n   <path d=\"M 0 262.19625 \nL 410.378125 262.19625 \nL 410.378125 0 \nL 0 0 \nz\n\" style=\"fill:none;\"/>\n  </g>\n  <g id=\"axes_1\">\n   <g id=\"patch_2\">\n    <path d=\"M 68.378125 224.64 \nL 403.178125 224.64 \nL 403.178125 7.2 \nL 68.378125 7.2 \nz\n\" style=\"fill:#ffffff;\"/>\n   </g>\n   <g id=\"matplotlib.axis_1\">\n    <g id=\"xtick_1\">\n     <g id=\"line2d_1\">\n      <defs>\n       <path d=\"M 0 0 \nL 0 3.5 \n\" id=\"m2923a027c8\" style=\"stroke:#000000;stroke-width:0.8;\"/>\n      </defs>\n      <g>\n       <use style=\"stroke:#000000;stroke-width:0.8;\" x=\"83.596307\" xlink:href=\"#m2923a027c8\" y=\"224.64\"/>\n      </g>\n     </g>\n     <g id=\"text_1\">\n      <!-- $\\mathdefault{10^{1}}$ -->\n      <g transform=\"translate(74.796307 239.238438)scale(0.1 -0.1)\">\n       <defs>\n        <path d=\"M 794 531 \nL 1825 531 \nL 1825 4091 \nL 703 3866 \nL 703 4441 \nL 1819 4666 \nL 2450 4666 \nL 2450 531 \nL 3481 531 \nL 3481 0 \nL 794 0 \nL 794 531 \nz\n\" id=\"DejaVuSans-31\" transform=\"scale(0.015625)\"/>\n        <path d=\"M 2034 4250 \nQ 1547 4250 1301 3770 \nQ 1056 3291 1056 2328 \nQ 1056 1369 1301 889 \nQ 1547 409 2034 409 \nQ 2525 409 2770 889 \nQ 3016 1369 3016 2328 \nQ 3016 3291 2770 3770 \nQ 2525 4250 2034 4250 \nz\nM 2034 4750 \nQ 2819 4750 3233 4129 \nQ 3647 3509 3647 2328 \nQ 3647 1150 3233 529 \nQ 2819 -91 2034 -91 \nQ 1250 -91 836 529 \nQ 422 1150 422 2328 \nQ 422 3509 836 4129 \nQ 1250 4750 2034 4750 \nz\n\" id=\"DejaVuSans-30\" transform=\"scale(0.015625)\"/>\n       </defs>\n       <use transform=\"translate(0 0.684375)\" xlink:href=\"#DejaVuSans-31\"/>\n       <use transform=\"translate(63.623047 0.684375)\" xlink:href=\"#DejaVuSans-30\"/>\n       <use transform=\"translate(128.203125 38.965625)scale(0.7)\" xlink:href=\"#DejaVuSans-31\"/>\n      </g>\n     </g>\n    </g>\n    <g id=\"xtick_2\">\n     <g id=\"line2d_2\">\n      <g>\n       <use style=\"stroke:#000000;stroke-width:0.8;\" x=\"134.32358\" xlink:href=\"#m2923a027c8\" y=\"224.64\"/>\n      </g>\n     </g>\n     <g id=\"text_2\">\n      <!-- $\\mathdefault{10^{2}}$ -->\n      <g transform=\"translate(125.52358 239.238438)scale(0.1 -0.1)\">\n       <defs>\n        <path d=\"M 1228 531 \nL 3431 531 \nL 3431 0 \nL 469 0 \nL 469 531 \nQ 828 903 1448 1529 \nQ 2069 2156 2228 2338 \nQ 2531 2678 2651 2914 \nQ 2772 3150 2772 3378 \nQ 2772 3750 2511 3984 \nQ 2250 4219 1831 4219 \nQ 1534 4219 1204 4116 \nQ 875 4013 500 3803 \nL 500 4441 \nQ 881 4594 1212 4672 \nQ 1544 4750 1819 4750 \nQ 2544 4750 2975 4387 \nQ 3406 4025 3406 3419 \nQ 3406 3131 3298 2873 \nQ 3191 2616 2906 2266 \nQ 2828 2175 2409 1742 \nQ 1991 1309 1228 531 \nz\n\" id=\"DejaVuSans-32\" transform=\"scale(0.015625)\"/>\n       </defs>\n       <use transform=\"translate(0 0.765625)\" xlink:href=\"#DejaVuSans-31\"/>\n       <use transform=\"translate(63.623047 0.765625)\" xlink:href=\"#DejaVuSans-30\"/>\n       <use transform=\"translate(128.203125 39.046875)scale(0.7)\" xlink:href=\"#DejaVuSans-32\"/>\n      </g>\n     </g>\n    </g>\n    <g id=\"xtick_3\">\n     <g id=\"line2d_3\">\n      <g>\n       <use style=\"stroke:#000000;stroke-width:0.8;\" x=\"185.050852\" xlink:href=\"#m2923a027c8\" y=\"224.64\"/>\n      </g>\n     </g>\n     <g id=\"text_3\">\n      <!-- $\\mathdefault{10^{3}}$ -->\n      <g transform=\"translate(176.250852 239.238438)scale(0.1 -0.1)\">\n       <defs>\n        <path d=\"M 2597 2516 \nQ 3050 2419 3304 2112 \nQ 3559 1806 3559 1356 \nQ 3559 666 3084 287 \nQ 2609 -91 1734 -91 \nQ 1441 -91 1130 -33 \nQ 819 25 488 141 \nL 488 750 \nQ 750 597 1062 519 \nQ 1375 441 1716 441 \nQ 2309 441 2620 675 \nQ 2931 909 2931 1356 \nQ 2931 1769 2642 2001 \nQ 2353 2234 1838 2234 \nL 1294 2234 \nL 1294 2753 \nL 1863 2753 \nQ 2328 2753 2575 2939 \nQ 2822 3125 2822 3475 \nQ 2822 3834 2567 4026 \nQ 2313 4219 1838 4219 \nQ 1578 4219 1281 4162 \nQ 984 4106 628 3988 \nL 628 4550 \nQ 988 4650 1302 4700 \nQ 1616 4750 1894 4750 \nQ 2613 4750 3031 4423 \nQ 3450 4097 3450 3541 \nQ 3450 3153 3228 2886 \nQ 3006 2619 2597 2516 \nz\n\" id=\"DejaVuSans-33\" transform=\"scale(0.015625)\"/>\n       </defs>\n       <use transform=\"translate(0 0.765625)\" xlink:href=\"#DejaVuSans-31\"/>\n       <use transform=\"translate(63.623047 0.765625)\" xlink:href=\"#DejaVuSans-30\"/>\n       <use transform=\"translate(128.203125 39.046875)scale(0.7)\" xlink:href=\"#DejaVuSans-33\"/>\n      </g>\n     </g>\n    </g>\n    <g id=\"xtick_4\">\n     <g id=\"line2d_4\">\n      <g>\n       <use style=\"stroke:#000000;stroke-width:0.8;\" x=\"235.778125\" xlink:href=\"#m2923a027c8\" y=\"224.64\"/>\n      </g>\n     </g>\n     <g id=\"text_4\">\n      <!-- $\\mathdefault{10^{4}}$ -->\n      <g transform=\"translate(226.978125 239.238438)scale(0.1 -0.1)\">\n       <defs>\n        <path d=\"M 2419 4116 \nL 825 1625 \nL 2419 1625 \nL 2419 4116 \nz\nM 2253 4666 \nL 3047 4666 \nL 3047 1625 \nL 3713 1625 \nL 3713 1100 \nL 3047 1100 \nL 3047 0 \nL 2419 0 \nL 2419 1100 \nL 313 1100 \nL 313 1709 \nL 2253 4666 \nz\n\" id=\"DejaVuSans-34\" transform=\"scale(0.015625)\"/>\n       </defs>\n       <use transform=\"translate(0 0.684375)\" xlink:href=\"#DejaVuSans-31\"/>\n       <use transform=\"translate(63.623047 0.684375)\" xlink:href=\"#DejaVuSans-30\"/>\n       <use transform=\"translate(128.203125 38.965625)scale(0.7)\" xlink:href=\"#DejaVuSans-34\"/>\n      </g>\n     </g>\n    </g>\n    <g id=\"xtick_5\">\n     <g id=\"line2d_5\">\n      <g>\n       <use style=\"stroke:#000000;stroke-width:0.8;\" x=\"286.505398\" xlink:href=\"#m2923a027c8\" y=\"224.64\"/>\n      </g>\n     </g>\n     <g id=\"text_5\">\n      <!-- $\\mathdefault{10^{5}}$ -->\n      <g transform=\"translate(277.705398 239.238438)scale(0.1 -0.1)\">\n       <defs>\n        <path d=\"M 691 4666 \nL 3169 4666 \nL 3169 4134 \nL 1269 4134 \nL 1269 2991 \nQ 1406 3038 1543 3061 \nQ 1681 3084 1819 3084 \nQ 2600 3084 3056 2656 \nQ 3513 2228 3513 1497 \nQ 3513 744 3044 326 \nQ 2575 -91 1722 -91 \nQ 1428 -91 1123 -41 \nQ 819 9 494 109 \nL 494 744 \nQ 775 591 1075 516 \nQ 1375 441 1709 441 \nQ 2250 441 2565 725 \nQ 2881 1009 2881 1497 \nQ 2881 1984 2565 2268 \nQ 2250 2553 1709 2553 \nQ 1456 2553 1204 2497 \nQ 953 2441 691 2322 \nL 691 4666 \nz\n\" id=\"DejaVuSans-35\" transform=\"scale(0.015625)\"/>\n       </defs>\n       <use transform=\"translate(0 0.684375)\" xlink:href=\"#DejaVuSans-31\"/>\n       <use transform=\"translate(63.623047 0.684375)\" xlink:href=\"#DejaVuSans-30\"/>\n       <use transform=\"translate(128.203125 38.965625)scale(0.7)\" xlink:href=\"#DejaVuSans-35\"/>\n      </g>\n     </g>\n    </g>\n    <g id=\"xtick_6\">\n     <g id=\"line2d_6\">\n      <g>\n       <use style=\"stroke:#000000;stroke-width:0.8;\" x=\"337.23267\" xlink:href=\"#m2923a027c8\" y=\"224.64\"/>\n      </g>\n     </g>\n     <g id=\"text_6\">\n      <!-- $\\mathdefault{10^{6}}$ -->\n      <g transform=\"translate(328.43267 239.238438)scale(0.1 -0.1)\">\n       <defs>\n        <path d=\"M 2113 2584 \nQ 1688 2584 1439 2293 \nQ 1191 2003 1191 1497 \nQ 1191 994 1439 701 \nQ 1688 409 2113 409 \nQ 2538 409 2786 701 \nQ 3034 994 3034 1497 \nQ 3034 2003 2786 2293 \nQ 2538 2584 2113 2584 \nz\nM 3366 4563 \nL 3366 3988 \nQ 3128 4100 2886 4159 \nQ 2644 4219 2406 4219 \nQ 1781 4219 1451 3797 \nQ 1122 3375 1075 2522 \nQ 1259 2794 1537 2939 \nQ 1816 3084 2150 3084 \nQ 2853 3084 3261 2657 \nQ 3669 2231 3669 1497 \nQ 3669 778 3244 343 \nQ 2819 -91 2113 -91 \nQ 1303 -91 875 529 \nQ 447 1150 447 2328 \nQ 447 3434 972 4092 \nQ 1497 4750 2381 4750 \nQ 2619 4750 2861 4703 \nQ 3103 4656 3366 4563 \nz\n\" id=\"DejaVuSans-36\" transform=\"scale(0.015625)\"/>\n       </defs>\n       <use transform=\"translate(0 0.765625)\" xlink:href=\"#DejaVuSans-31\"/>\n       <use transform=\"translate(63.623047 0.765625)\" xlink:href=\"#DejaVuSans-30\"/>\n       <use transform=\"translate(128.203125 39.046875)scale(0.7)\" xlink:href=\"#DejaVuSans-36\"/>\n      </g>\n     </g>\n    </g>\n    <g id=\"xtick_7\">\n     <g id=\"line2d_7\">\n      <g>\n       <use style=\"stroke:#000000;stroke-width:0.8;\" x=\"387.959943\" xlink:href=\"#m2923a027c8\" y=\"224.64\"/>\n      </g>\n     </g>\n     <g id=\"text_7\">\n      <!-- $\\mathdefault{10^{7}}$ -->\n      <g transform=\"translate(379.159943 239.238438)scale(0.1 -0.1)\">\n       <defs>\n        <path d=\"M 525 4666 \nL 3525 4666 \nL 3525 4397 \nL 1831 0 \nL 1172 0 \nL 2766 4134 \nL 525 4134 \nL 525 4666 \nz\n\" id=\"DejaVuSans-37\" transform=\"scale(0.015625)\"/>\n       </defs>\n       <use transform=\"translate(0 0.684375)\" xlink:href=\"#DejaVuSans-31\"/>\n       <use transform=\"translate(63.623047 0.684375)\" xlink:href=\"#DejaVuSans-30\"/>\n       <use transform=\"translate(128.203125 38.965625)scale(0.7)\" xlink:href=\"#DejaVuSans-37\"/>\n      </g>\n     </g>\n    </g>\n    <g id=\"xtick_8\">\n     <g id=\"line2d_8\">\n      <defs>\n       <path d=\"M 0 0 \nL 0 2 \n\" id=\"mb36f478439\" style=\"stroke:#000000;stroke-width:0.6;\"/>\n      </defs>\n      <g>\n       <use style=\"stroke:#000000;stroke-width:0.6;\" x=\"72.342525\" xlink:href=\"#mb36f478439\" y=\"224.64\"/>\n      </g>\n     </g>\n    </g>\n    <g id=\"xtick_9\">\n     <g id=\"line2d_9\">\n      <g>\n       <use style=\"stroke:#000000;stroke-width:0.6;\" x=\"75.738553\" xlink:href=\"#mb36f478439\" y=\"224.64\"/>\n      </g>\n     </g>\n    </g>\n    <g id=\"xtick_10\">\n     <g id=\"line2d_10\">\n      <g>\n       <use style=\"stroke:#000000;stroke-width:0.6;\" x=\"78.680326\" xlink:href=\"#mb36f478439\" y=\"224.64\"/>\n      </g>\n     </g>\n    </g>\n    <g id=\"xtick_11\">\n     <g id=\"line2d_11\">\n      <g>\n       <use style=\"stroke:#000000;stroke-width:0.6;\" x=\"81.275154\" xlink:href=\"#mb36f478439\" y=\"224.64\"/>\n      </g>\n     </g>\n    </g>\n    <g id=\"xtick_12\">\n     <g id=\"line2d_12\">\n      <g>\n       <use style=\"stroke:#000000;stroke-width:0.6;\" x=\"98.866738\" xlink:href=\"#mb36f478439\" y=\"224.64\"/>\n      </g>\n     </g>\n    </g>\n    <g id=\"xtick_13\">\n     <g id=\"line2d_13\">\n      <g>\n       <use style=\"stroke:#000000;stroke-width:0.6;\" x=\"107.799367\" xlink:href=\"#mb36f478439\" y=\"224.64\"/>\n      </g>\n     </g>\n    </g>\n    <g id=\"xtick_14\">\n     <g id=\"line2d_14\">\n      <g>\n       <use style=\"stroke:#000000;stroke-width:0.6;\" x=\"114.137168\" xlink:href=\"#mb36f478439\" y=\"224.64\"/>\n      </g>\n     </g>\n    </g>\n    <g id=\"xtick_15\">\n     <g id=\"line2d_15\">\n      <g>\n       <use style=\"stroke:#000000;stroke-width:0.6;\" x=\"119.053149\" xlink:href=\"#mb36f478439\" y=\"224.64\"/>\n      </g>\n     </g>\n    </g>\n    <g id=\"xtick_16\">\n     <g id=\"line2d_16\">\n      <g>\n       <use style=\"stroke:#000000;stroke-width:0.6;\" x=\"123.069798\" xlink:href=\"#mb36f478439\" y=\"224.64\"/>\n      </g>\n     </g>\n    </g>\n    <g id=\"xtick_17\">\n     <g id=\"line2d_17\">\n      <g>\n       <use style=\"stroke:#000000;stroke-width:0.6;\" x=\"126.465826\" xlink:href=\"#mb36f478439\" y=\"224.64\"/>\n      </g>\n     </g>\n    </g>\n    <g id=\"xtick_18\">\n     <g id=\"line2d_18\">\n      <g>\n       <use style=\"stroke:#000000;stroke-width:0.6;\" x=\"129.407599\" xlink:href=\"#mb36f478439\" y=\"224.64\"/>\n      </g>\n     </g>\n    </g>\n    <g id=\"xtick_19\">\n     <g id=\"line2d_19\">\n      <g>\n       <use style=\"stroke:#000000;stroke-width:0.6;\" x=\"132.002427\" xlink:href=\"#mb36f478439\" y=\"224.64\"/>\n      </g>\n     </g>\n    </g>\n    <g id=\"xtick_20\">\n     <g id=\"line2d_20\">\n      <g>\n       <use style=\"stroke:#000000;stroke-width:0.6;\" x=\"149.59401\" xlink:href=\"#mb36f478439\" y=\"224.64\"/>\n      </g>\n     </g>\n    </g>\n    <g id=\"xtick_21\">\n     <g id=\"line2d_21\">\n      <g>\n       <use style=\"stroke:#000000;stroke-width:0.6;\" x=\"158.52664\" xlink:href=\"#mb36f478439\" y=\"224.64\"/>\n      </g>\n     </g>\n    </g>\n    <g id=\"xtick_22\">\n     <g id=\"line2d_22\">\n      <g>\n       <use style=\"stroke:#000000;stroke-width:0.6;\" x=\"164.864441\" xlink:href=\"#mb36f478439\" y=\"224.64\"/>\n      </g>\n     </g>\n    </g>\n    <g id=\"xtick_23\">\n     <g id=\"line2d_23\">\n      <g>\n       <use style=\"stroke:#000000;stroke-width:0.6;\" x=\"169.780422\" xlink:href=\"#mb36f478439\" y=\"224.64\"/>\n      </g>\n     </g>\n    </g>\n    <g id=\"xtick_24\">\n     <g id=\"line2d_24\">\n      <g>\n       <use style=\"stroke:#000000;stroke-width:0.6;\" x=\"173.79707\" xlink:href=\"#mb36f478439\" y=\"224.64\"/>\n      </g>\n     </g>\n    </g>\n    <g id=\"xtick_25\">\n     <g id=\"line2d_25\">\n      <g>\n       <use style=\"stroke:#000000;stroke-width:0.6;\" x=\"177.193098\" xlink:href=\"#mb36f478439\" y=\"224.64\"/>\n      </g>\n     </g>\n    </g>\n    <g id=\"xtick_26\">\n     <g id=\"line2d_26\">\n      <g>\n       <use style=\"stroke:#000000;stroke-width:0.6;\" x=\"180.134872\" xlink:href=\"#mb36f478439\" y=\"224.64\"/>\n      </g>\n     </g>\n    </g>\n    <g id=\"xtick_27\">\n     <g id=\"line2d_27\">\n      <g>\n       <use style=\"stroke:#000000;stroke-width:0.6;\" x=\"182.7297\" xlink:href=\"#mb36f478439\" y=\"224.64\"/>\n      </g>\n     </g>\n    </g>\n    <g id=\"xtick_28\">\n     <g id=\"line2d_28\">\n      <g>\n       <use style=\"stroke:#000000;stroke-width:0.6;\" x=\"200.321283\" xlink:href=\"#mb36f478439\" y=\"224.64\"/>\n      </g>\n     </g>\n    </g>\n    <g id=\"xtick_29\">\n     <g id=\"line2d_29\">\n      <g>\n       <use style=\"stroke:#000000;stroke-width:0.6;\" x=\"209.253912\" xlink:href=\"#mb36f478439\" y=\"224.64\"/>\n      </g>\n     </g>\n    </g>\n    <g id=\"xtick_30\">\n     <g id=\"line2d_30\">\n      <g>\n       <use style=\"stroke:#000000;stroke-width:0.6;\" x=\"215.591714\" xlink:href=\"#mb36f478439\" y=\"224.64\"/>\n      </g>\n     </g>\n    </g>\n    <g id=\"xtick_31\">\n     <g id=\"line2d_31\">\n      <g>\n       <use style=\"stroke:#000000;stroke-width:0.6;\" x=\"220.507694\" xlink:href=\"#mb36f478439\" y=\"224.64\"/>\n      </g>\n     </g>\n    </g>\n    <g id=\"xtick_32\">\n     <g id=\"line2d_32\">\n      <g>\n       <use style=\"stroke:#000000;stroke-width:0.6;\" x=\"224.524343\" xlink:href=\"#mb36f478439\" y=\"224.64\"/>\n      </g>\n     </g>\n    </g>\n    <g id=\"xtick_33\">\n     <g id=\"line2d_33\">\n      <g>\n       <use style=\"stroke:#000000;stroke-width:0.6;\" x=\"227.920371\" xlink:href=\"#mb36f478439\" y=\"224.64\"/>\n      </g>\n     </g>\n    </g>\n    <g id=\"xtick_34\">\n     <g id=\"line2d_34\">\n      <g>\n       <use style=\"stroke:#000000;stroke-width:0.6;\" x=\"230.862144\" xlink:href=\"#mb36f478439\" y=\"224.64\"/>\n      </g>\n     </g>\n    </g>\n    <g id=\"xtick_35\">\n     <g id=\"line2d_35\">\n      <g>\n       <use style=\"stroke:#000000;stroke-width:0.6;\" x=\"233.456972\" xlink:href=\"#mb36f478439\" y=\"224.64\"/>\n      </g>\n     </g>\n    </g>\n    <g id=\"xtick_36\">\n     <g id=\"line2d_36\">\n      <g>\n       <use style=\"stroke:#000000;stroke-width:0.6;\" x=\"251.048556\" xlink:href=\"#mb36f478439\" y=\"224.64\"/>\n      </g>\n     </g>\n    </g>\n    <g id=\"xtick_37\">\n     <g id=\"line2d_37\">\n      <g>\n       <use style=\"stroke:#000000;stroke-width:0.6;\" x=\"259.981185\" xlink:href=\"#mb36f478439\" y=\"224.64\"/>\n      </g>\n     </g>\n    </g>\n    <g id=\"xtick_38\">\n     <g id=\"line2d_38\">\n      <g>\n       <use style=\"stroke:#000000;stroke-width:0.6;\" x=\"266.318986\" xlink:href=\"#mb36f478439\" y=\"224.64\"/>\n      </g>\n     </g>\n    </g>\n    <g id=\"xtick_39\">\n     <g id=\"line2d_39\">\n      <g>\n       <use style=\"stroke:#000000;stroke-width:0.6;\" x=\"271.234967\" xlink:href=\"#mb36f478439\" y=\"224.64\"/>\n      </g>\n     </g>\n    </g>\n    <g id=\"xtick_40\">\n     <g id=\"line2d_40\">\n      <g>\n       <use style=\"stroke:#000000;stroke-width:0.6;\" x=\"275.251616\" xlink:href=\"#mb36f478439\" y=\"224.64\"/>\n      </g>\n     </g>\n    </g>\n    <g id=\"xtick_41\">\n     <g id=\"line2d_41\">\n      <g>\n       <use style=\"stroke:#000000;stroke-width:0.6;\" x=\"278.647644\" xlink:href=\"#mb36f478439\" y=\"224.64\"/>\n      </g>\n     </g>\n    </g>\n    <g id=\"xtick_42\">\n     <g id=\"line2d_42\">\n      <g>\n       <use style=\"stroke:#000000;stroke-width:0.6;\" x=\"281.589417\" xlink:href=\"#mb36f478439\" y=\"224.64\"/>\n      </g>\n     </g>\n    </g>\n    <g id=\"xtick_43\">\n     <g id=\"line2d_43\">\n      <g>\n       <use style=\"stroke:#000000;stroke-width:0.6;\" x=\"284.184245\" xlink:href=\"#mb36f478439\" y=\"224.64\"/>\n      </g>\n     </g>\n    </g>\n    <g id=\"xtick_44\">\n     <g id=\"line2d_44\">\n      <g>\n       <use style=\"stroke:#000000;stroke-width:0.6;\" x=\"301.775828\" xlink:href=\"#mb36f478439\" y=\"224.64\"/>\n      </g>\n     </g>\n    </g>\n    <g id=\"xtick_45\">\n     <g id=\"line2d_45\">\n      <g>\n       <use style=\"stroke:#000000;stroke-width:0.6;\" x=\"310.708458\" xlink:href=\"#mb36f478439\" y=\"224.64\"/>\n      </g>\n     </g>\n    </g>\n    <g id=\"xtick_46\">\n     <g id=\"line2d_46\">\n      <g>\n       <use style=\"stroke:#000000;stroke-width:0.6;\" x=\"317.046259\" xlink:href=\"#mb36f478439\" y=\"224.64\"/>\n      </g>\n     </g>\n    </g>\n    <g id=\"xtick_47\">\n     <g id=\"line2d_47\">\n      <g>\n       <use style=\"stroke:#000000;stroke-width:0.6;\" x=\"321.96224\" xlink:href=\"#mb36f478439\" y=\"224.64\"/>\n      </g>\n     </g>\n    </g>\n    <g id=\"xtick_48\">\n     <g id=\"line2d_48\">\n      <g>\n       <use style=\"stroke:#000000;stroke-width:0.6;\" x=\"325.978888\" xlink:href=\"#mb36f478439\" y=\"224.64\"/>\n      </g>\n     </g>\n    </g>\n    <g id=\"xtick_49\">\n     <g id=\"line2d_49\">\n      <g>\n       <use style=\"stroke:#000000;stroke-width:0.6;\" x=\"329.374916\" xlink:href=\"#mb36f478439\" y=\"224.64\"/>\n      </g>\n     </g>\n    </g>\n    <g id=\"xtick_50\">\n     <g id=\"line2d_50\">\n      <g>\n       <use style=\"stroke:#000000;stroke-width:0.6;\" x=\"332.31669\" xlink:href=\"#mb36f478439\" y=\"224.64\"/>\n      </g>\n     </g>\n    </g>\n    <g id=\"xtick_51\">\n     <g id=\"line2d_51\">\n      <g>\n       <use style=\"stroke:#000000;stroke-width:0.6;\" x=\"334.911518\" xlink:href=\"#mb36f478439\" y=\"224.64\"/>\n      </g>\n     </g>\n    </g>\n    <g id=\"xtick_52\">\n     <g id=\"line2d_52\">\n      <g>\n       <use style=\"stroke:#000000;stroke-width:0.6;\" x=\"352.503101\" xlink:href=\"#mb36f478439\" y=\"224.64\"/>\n      </g>\n     </g>\n    </g>\n    <g id=\"xtick_53\">\n     <g id=\"line2d_53\">\n      <g>\n       <use style=\"stroke:#000000;stroke-width:0.6;\" x=\"361.43573\" xlink:href=\"#mb36f478439\" y=\"224.64\"/>\n      </g>\n     </g>\n    </g>\n    <g id=\"xtick_54\">\n     <g id=\"line2d_54\">\n      <g>\n       <use style=\"stroke:#000000;stroke-width:0.6;\" x=\"367.773532\" xlink:href=\"#mb36f478439\" y=\"224.64\"/>\n      </g>\n     </g>\n    </g>\n    <g id=\"xtick_55\">\n     <g id=\"line2d_55\">\n      <g>\n       <use style=\"stroke:#000000;stroke-width:0.6;\" x=\"372.689512\" xlink:href=\"#mb36f478439\" y=\"224.64\"/>\n      </g>\n     </g>\n    </g>\n    <g id=\"xtick_56\">\n     <g id=\"line2d_56\">\n      <g>\n       <use style=\"stroke:#000000;stroke-width:0.6;\" x=\"376.706161\" xlink:href=\"#mb36f478439\" y=\"224.64\"/>\n      </g>\n     </g>\n    </g>\n    <g id=\"xtick_57\">\n     <g id=\"line2d_57\">\n      <g>\n       <use style=\"stroke:#000000;stroke-width:0.6;\" x=\"380.102189\" xlink:href=\"#mb36f478439\" y=\"224.64\"/>\n      </g>\n     </g>\n    </g>\n    <g id=\"xtick_58\">\n     <g id=\"line2d_58\">\n      <g>\n       <use style=\"stroke:#000000;stroke-width:0.6;\" x=\"383.043963\" xlink:href=\"#mb36f478439\" y=\"224.64\"/>\n      </g>\n     </g>\n    </g>\n    <g id=\"xtick_59\">\n     <g id=\"line2d_59\">\n      <g>\n       <use style=\"stroke:#000000;stroke-width:0.6;\" x=\"385.63879\" xlink:href=\"#mb36f478439\" y=\"224.64\"/>\n      </g>\n     </g>\n    </g>\n    <g id=\"text_8\">\n     <!-- vocab size -->\n     <g transform=\"translate(209.488281 252.916563)scale(0.1 -0.1)\">\n      <defs>\n       <path d=\"M 191 3500 \nL 800 3500 \nL 1894 563 \nL 2988 3500 \nL 3597 3500 \nL 2284 0 \nL 1503 0 \nL 191 3500 \nz\n\" id=\"DejaVuSans-76\" transform=\"scale(0.015625)\"/>\n       <path d=\"M 1959 3097 \nQ 1497 3097 1228 2736 \nQ 959 2375 959 1747 \nQ 959 1119 1226 758 \nQ 1494 397 1959 397 \nQ 2419 397 2687 759 \nQ 2956 1122 2956 1747 \nQ 2956 2369 2687 2733 \nQ 2419 3097 1959 3097 \nz\nM 1959 3584 \nQ 2709 3584 3137 3096 \nQ 3566 2609 3566 1747 \nQ 3566 888 3137 398 \nQ 2709 -91 1959 -91 \nQ 1206 -91 779 398 \nQ 353 888 353 1747 \nQ 353 2609 779 3096 \nQ 1206 3584 1959 3584 \nz\n\" id=\"DejaVuSans-6f\" transform=\"scale(0.015625)\"/>\n       <path d=\"M 3122 3366 \nL 3122 2828 \nQ 2878 2963 2633 3030 \nQ 2388 3097 2138 3097 \nQ 1578 3097 1268 2742 \nQ 959 2388 959 1747 \nQ 959 1106 1268 751 \nQ 1578 397 2138 397 \nQ 2388 397 2633 464 \nQ 2878 531 3122 666 \nL 3122 134 \nQ 2881 22 2623 -34 \nQ 2366 -91 2075 -91 \nQ 1284 -91 818 406 \nQ 353 903 353 1747 \nQ 353 2603 823 3093 \nQ 1294 3584 2113 3584 \nQ 2378 3584 2631 3529 \nQ 2884 3475 3122 3366 \nz\n\" id=\"DejaVuSans-63\" transform=\"scale(0.015625)\"/>\n       <path d=\"M 2194 1759 \nQ 1497 1759 1228 1600 \nQ 959 1441 959 1056 \nQ 959 750 1161 570 \nQ 1363 391 1709 391 \nQ 2188 391 2477 730 \nQ 2766 1069 2766 1631 \nL 2766 1759 \nL 2194 1759 \nz\nM 3341 1997 \nL 3341 0 \nL 2766 0 \nL 2766 531 \nQ 2569 213 2275 61 \nQ 1981 -91 1556 -91 \nQ 1019 -91 701 211 \nQ 384 513 384 1019 \nQ 384 1609 779 1909 \nQ 1175 2209 1959 2209 \nL 2766 2209 \nL 2766 2266 \nQ 2766 2663 2505 2880 \nQ 2244 3097 1772 3097 \nQ 1472 3097 1187 3025 \nQ 903 2953 641 2809 \nL 641 3341 \nQ 956 3463 1253 3523 \nQ 1550 3584 1831 3584 \nQ 2591 3584 2966 3190 \nQ 3341 2797 3341 1997 \nz\n\" id=\"DejaVuSans-61\" transform=\"scale(0.015625)\"/>\n       <path d=\"M 3116 1747 \nQ 3116 2381 2855 2742 \nQ 2594 3103 2138 3103 \nQ 1681 3103 1420 2742 \nQ 1159 2381 1159 1747 \nQ 1159 1113 1420 752 \nQ 1681 391 2138 391 \nQ 2594 391 2855 752 \nQ 3116 1113 3116 1747 \nz\nM 1159 2969 \nQ 1341 3281 1617 3432 \nQ 1894 3584 2278 3584 \nQ 2916 3584 3314 3078 \nQ 3713 2572 3713 1747 \nQ 3713 922 3314 415 \nQ 2916 -91 2278 -91 \nQ 1894 -91 1617 61 \nQ 1341 213 1159 525 \nL 1159 0 \nL 581 0 \nL 581 4863 \nL 1159 4863 \nL 1159 2969 \nz\n\" id=\"DejaVuSans-62\" transform=\"scale(0.015625)\"/>\n       <path id=\"DejaVuSans-20\" transform=\"scale(0.015625)\"/>\n       <path d=\"M 2834 3397 \nL 2834 2853 \nQ 2591 2978 2328 3040 \nQ 2066 3103 1784 3103 \nQ 1356 3103 1142 2972 \nQ 928 2841 928 2578 \nQ 928 2378 1081 2264 \nQ 1234 2150 1697 2047 \nL 1894 2003 \nQ 2506 1872 2764 1633 \nQ 3022 1394 3022 966 \nQ 3022 478 2636 193 \nQ 2250 -91 1575 -91 \nQ 1294 -91 989 -36 \nQ 684 19 347 128 \nL 347 722 \nQ 666 556 975 473 \nQ 1284 391 1588 391 \nQ 1994 391 2212 530 \nQ 2431 669 2431 922 \nQ 2431 1156 2273 1281 \nQ 2116 1406 1581 1522 \nL 1381 1569 \nQ 847 1681 609 1914 \nQ 372 2147 372 2553 \nQ 372 3047 722 3315 \nQ 1072 3584 1716 3584 \nQ 2034 3584 2315 3537 \nQ 2597 3491 2834 3397 \nz\n\" id=\"DejaVuSans-73\" transform=\"scale(0.015625)\"/>\n       <path d=\"M 603 3500 \nL 1178 3500 \nL 1178 0 \nL 603 0 \nL 603 3500 \nz\nM 603 4863 \nL 1178 4863 \nL 1178 4134 \nL 603 4134 \nL 603 4863 \nz\n\" id=\"DejaVuSans-69\" transform=\"scale(0.015625)\"/>\n       <path d=\"M 353 3500 \nL 3084 3500 \nL 3084 2975 \nL 922 459 \nL 3084 459 \nL 3084 0 \nL 275 0 \nL 275 525 \nL 2438 3041 \nL 353 3041 \nL 353 3500 \nz\n\" id=\"DejaVuSans-7a\" transform=\"scale(0.015625)\"/>\n       <path d=\"M 3597 1894 \nL 3597 1613 \nL 953 1613 \nQ 991 1019 1311 708 \nQ 1631 397 2203 397 \nQ 2534 397 2845 478 \nQ 3156 559 3463 722 \nL 3463 178 \nQ 3153 47 2828 -22 \nQ 2503 -91 2169 -91 \nQ 1331 -91 842 396 \nQ 353 884 353 1716 \nQ 353 2575 817 3079 \nQ 1281 3584 2069 3584 \nQ 2775 3584 3186 3129 \nQ 3597 2675 3597 1894 \nz\nM 3022 2063 \nQ 3016 2534 2758 2815 \nQ 2500 3097 2075 3097 \nQ 1594 3097 1305 2825 \nQ 1016 2553 972 2059 \nL 3022 2063 \nz\n\" id=\"DejaVuSans-65\" transform=\"scale(0.015625)\"/>\n      </defs>\n      <use xlink:href=\"#DejaVuSans-76\"/>\n      <use x=\"59.179688\" xlink:href=\"#DejaVuSans-6f\"/>\n      <use x=\"120.361328\" xlink:href=\"#DejaVuSans-63\"/>\n      <use x=\"175.341797\" xlink:href=\"#DejaVuSans-61\"/>\n      <use x=\"236.621094\" xlink:href=\"#DejaVuSans-62\"/>\n      <use x=\"300.097656\" xlink:href=\"#DejaVuSans-20\"/>\n      <use x=\"331.884766\" xlink:href=\"#DejaVuSans-73\"/>\n      <use x=\"383.984375\" xlink:href=\"#DejaVuSans-69\"/>\n      <use x=\"411.767578\" xlink:href=\"#DejaVuSans-7a\"/>\n      <use x=\"464.257812\" xlink:href=\"#DejaVuSans-65\"/>\n     </g>\n    </g>\n   </g>\n   <g id=\"matplotlib.axis_2\">\n    <g id=\"ytick_1\">\n     <g id=\"line2d_60\">\n      <defs>\n       <path d=\"M 0 0 \nL -2 0 \n\" id=\"m603e10f322\" style=\"stroke:#000000;stroke-width:0.6;\"/>\n      </defs>\n      <g>\n       <use style=\"stroke:#000000;stroke-width:0.6;\" x=\"68.378125\" xlink:href=\"#m603e10f322\" y=\"115.321217\"/>\n      </g>\n     </g>\n     <g id=\"text_9\">\n      <!-- $\\mathdefault{6\\times10^{-2}}$ -->\n      <g transform=\"translate(20.878125 119.120436)scale(0.1 -0.1)\">\n       <defs>\n        <path d=\"M 4488 3438 \nL 3059 2003 \nL 4488 575 \nL 4116 197 \nL 2681 1631 \nL 1247 197 \nL 878 575 \nL 2303 2003 \nL 878 3438 \nL 1247 3816 \nL 2681 2381 \nL 4116 3816 \nL 4488 3438 \nz\n\" id=\"DejaVuSans-d7\" transform=\"scale(0.015625)\"/>\n        <path d=\"M 678 2272 \nL 4684 2272 \nL 4684 1741 \nL 678 1741 \nL 678 2272 \nz\n\" id=\"DejaVuSans-2212\" transform=\"scale(0.015625)\"/>\n       </defs>\n       <use transform=\"translate(0 0.765625)\" xlink:href=\"#DejaVuSans-36\"/>\n       <use transform=\"translate(83.105469 0.765625)\" xlink:href=\"#DejaVuSans-d7\"/>\n       <use transform=\"translate(186.376953 0.765625)\" xlink:href=\"#DejaVuSans-31\"/>\n       <use transform=\"translate(250 0.765625)\" xlink:href=\"#DejaVuSans-30\"/>\n       <use transform=\"translate(314.580078 39.046875)scale(0.7)\" xlink:href=\"#DejaVuSans-2212\"/>\n       <use transform=\"translate(373.232422 39.046875)scale(0.7)\" xlink:href=\"#DejaVuSans-32\"/>\n      </g>\n     </g>\n    </g>\n    <g id=\"ytick_2\">\n     <g id=\"line2d_61\">\n      <g>\n       <use style=\"stroke:#000000;stroke-width:0.6;\" x=\"68.378125\" xlink:href=\"#m603e10f322\" y=\"16.999496\"/>\n      </g>\n     </g>\n     <g id=\"text_10\">\n      <!-- $\\mathdefault{7\\times10^{-2}}$ -->\n      <g transform=\"translate(20.878125 20.798714)scale(0.1 -0.1)\">\n       <use transform=\"translate(0 0.765625)\" xlink:href=\"#DejaVuSans-37\"/>\n       <use transform=\"translate(83.105469 0.765625)\" xlink:href=\"#DejaVuSans-d7\"/>\n       <use transform=\"translate(186.376953 0.765625)\" xlink:href=\"#DejaVuSans-31\"/>\n       <use transform=\"translate(250 0.765625)\" xlink:href=\"#DejaVuSans-30\"/>\n       <use transform=\"translate(314.580078 39.046875)scale(0.7)\" xlink:href=\"#DejaVuSans-2212\"/>\n       <use transform=\"translate(373.232422 39.046875)scale(0.7)\" xlink:href=\"#DejaVuSans-32\"/>\n      </g>\n     </g>\n    </g>\n    <g id=\"text_11\">\n     <!-- OOV rate -->\n     <g transform=\"translate(14.798438 138.87)rotate(-90)scale(0.1 -0.1)\">\n      <defs>\n       <path d=\"M 2522 4238 \nQ 1834 4238 1429 3725 \nQ 1025 3213 1025 2328 \nQ 1025 1447 1429 934 \nQ 1834 422 2522 422 \nQ 3209 422 3611 934 \nQ 4013 1447 4013 2328 \nQ 4013 3213 3611 3725 \nQ 3209 4238 2522 4238 \nz\nM 2522 4750 \nQ 3503 4750 4090 4092 \nQ 4678 3434 4678 2328 \nQ 4678 1225 4090 567 \nQ 3503 -91 2522 -91 \nQ 1538 -91 948 565 \nQ 359 1222 359 2328 \nQ 359 3434 948 4092 \nQ 1538 4750 2522 4750 \nz\n\" id=\"DejaVuSans-4f\" transform=\"scale(0.015625)\"/>\n       <path d=\"M 1831 0 \nL 50 4666 \nL 709 4666 \nL 2188 738 \nL 3669 4666 \nL 4325 4666 \nL 2547 0 \nL 1831 0 \nz\n\" id=\"DejaVuSans-56\" transform=\"scale(0.015625)\"/>\n       <path d=\"M 2631 2963 \nQ 2534 3019 2420 3045 \nQ 2306 3072 2169 3072 \nQ 1681 3072 1420 2755 \nQ 1159 2438 1159 1844 \nL 1159 0 \nL 581 0 \nL 581 3500 \nL 1159 3500 \nL 1159 2956 \nQ 1341 3275 1631 3429 \nQ 1922 3584 2338 3584 \nQ 2397 3584 2469 3576 \nQ 2541 3569 2628 3553 \nL 2631 2963 \nz\n\" id=\"DejaVuSans-72\" transform=\"scale(0.015625)\"/>\n       <path d=\"M 1172 4494 \nL 1172 3500 \nL 2356 3500 \nL 2356 3053 \nL 1172 3053 \nL 1172 1153 \nQ 1172 725 1289 603 \nQ 1406 481 1766 481 \nL 2356 481 \nL 2356 0 \nL 1766 0 \nQ 1100 0 847 248 \nQ 594 497 594 1153 \nL 594 3053 \nL 172 3053 \nL 172 3500 \nL 594 3500 \nL 594 4494 \nL 1172 4494 \nz\n\" id=\"DejaVuSans-74\" transform=\"scale(0.015625)\"/>\n      </defs>\n      <use xlink:href=\"#DejaVuSans-4f\"/>\n      <use x=\"78.710938\" xlink:href=\"#DejaVuSans-4f\"/>\n      <use x=\"155.671875\" xlink:href=\"#DejaVuSans-56\"/>\n      <use x=\"224.080078\" xlink:href=\"#DejaVuSans-20\"/>\n      <use x=\"255.867188\" xlink:href=\"#DejaVuSans-72\"/>\n      <use x=\"296.980469\" xlink:href=\"#DejaVuSans-61\"/>\n      <use x=\"358.259766\" xlink:href=\"#DejaVuSans-74\"/>\n      <use x=\"397.46875\" xlink:href=\"#DejaVuSans-65\"/>\n     </g>\n    </g>\n   </g>\n   <g id=\"line2d_62\">\n    <path clip-path=\"url(#p6fc0e25b28)\" d=\"M 83.596307 17.083636 \nL 134.32358 17.083636 \nL 185.050852 18.768786 \nL 235.778125 28.974262 \nL 286.505398 41.090775 \nL 337.23267 93.894181 \nL 387.959943 214.756364 \n\" style=\"fill:none;stroke:#1f77b4;stroke-linecap:square;stroke-width:1.5;\"/>\n   </g>\n   <g id=\"patch_3\">\n    <path d=\"M 68.378125 224.64 \nL 68.378125 7.2 \n\" style=\"fill:none;stroke:#000000;stroke-linecap:square;stroke-linejoin:miter;stroke-width:0.8;\"/>\n   </g>\n   <g id=\"patch_4\">\n    <path d=\"M 403.178125 224.64 \nL 403.178125 7.2 \n\" style=\"fill:none;stroke:#000000;stroke-linecap:square;stroke-linejoin:miter;stroke-width:0.8;\"/>\n   </g>\n   <g id=\"patch_5\">\n    <path d=\"M 68.378125 224.64 \nL 403.178125 224.64 \n\" style=\"fill:none;stroke:#000000;stroke-linecap:square;stroke-linejoin:miter;stroke-width:0.8;\"/>\n   </g>\n   <g id=\"patch_6\">\n    <path d=\"M 68.378125 7.2 \nL 403.178125 7.2 \n\" style=\"fill:none;stroke:#000000;stroke-linecap:square;stroke-linejoin:miter;stroke-width:0.8;\"/>\n   </g>\n   <g id=\"legend_1\">\n    <g id=\"patch_7\">\n     <path d=\"M 392.178125 20.2 \nL 396.178125 20.2 \nQ 398.178125 20.2 398.178125 18.2 \nL 398.178125 14.2 \nQ 398.178125 12.2 396.178125 12.2 \nL 392.178125 12.2 \nQ 390.178125 12.2 390.178125 14.2 \nL 390.178125 18.2 \nQ 390.178125 20.2 392.178125 20.2 \nz\n\" style=\"fill:#ffffff;opacity:0.8;stroke:#cccccc;stroke-linejoin:miter;\"/>\n    </g>\n   </g>\n  </g>\n </g>\n <defs>\n  <clipPath id=\"p6fc0e25b28\">\n   <rect height=\"217.44\" width=\"334.8\" x=\"68.378125\" y=\"7.2\"/>\n  </clipPath>\n </defs>\n</svg>\n",
      "image/png": "[encoded data removed]"
     },
     "metadata": {
      "needs_background": "light"
     }
    }
   ],
   "metadata": {}
  },
  {
   "cell_type": "markdown",
   "source": [
    "## Observations\n",
    "\n",
    "### baselines\n",
    "| Language |   Level   | Voc. size | Hyperparams | Perplexity | OOV rate BS: 7.00% |\n",
    "|:--------:|:---------:|:---------:|:-----------:|:----------:|:------------------:|\n",
    "|  English | Character |     68    |  40-9999-3  |  5.495792  |        4.95%       |\n",
    "|  English |   Small   |    100    |  40-9999-3  |  14.253632 |        4.73%       |\n",
    "|  English |   Large   |    2500   |  40-9999-3  |  63.051203 |        5.30%       |\n",
    "\n",
    "### tuned models \n",
    "| Language |   Level   | Voc. size | Hyperparams | Perplexity | OOV rate BS: 7.00% |\n",
    "|:--------:|:---------:|:---------:|:-----------:|:----------:|:------------------:|\n",
    "|  English | Character |     68    |   100-65-3  |  4.616152  |        4.71%       |\n",
    "|  English |   Small   |    100    |   80-90-5   |  13.368461 |        4.71%       |\n",
    "|  English |   Large   |    2500   |  60-2400-3  |  59.681927 |        5.13%       |\n",
    "\n",
    "It can be seen similar trends for each level. With closer look, for smaller granularities (character and small level), visible decreases start after 10^4 text length, while in case of large level a noticeable decrease can be seen after 10^3 text length. In a production, we would use small level model, since oov-rates between it and character level models are similar, but hidden size is higher with character level, thus, we might have overfitting to some degree. Also, with higher granularity words correctness and coherence of the text increase.\n",
    "\n",
    "\n",
    "\n",
    "## Inspection of 100.txts\n",
    "For fine-tuned character level: <br>\n",
    "`I Hatce'd SOMEy-can just bent-or,' wenter.'. Phear diender under.. `We cake something you was!. Th <br>\n",
    "\n",
    "For fine-tuned small level: <br>\n",
    "as larke quabling to said then treasnyed,' it half said to the door outcen, from once or taiced it. As quite scearst?' neal withow and at she stoo<br>\n",
    "\n",
    "\"For fine-tuned large level: <br>\n",
    "voice, before she hadme trouble puppyven its head. Alice waited in a great grunted fire on the firstched getting usu and howling high.. `They did you know up to this day,' with the March Turtle: she had al chill, with one of paw of the youth, which got the back of the distance, and said, `Speak be invit something will you, will you\\\" have at the right? grow gave, could,' said Alice: `aslled! shallen him\n",
    "\n",
    "## Analysis\n",
    "Character-level model is not able to generate grammatically correct words. On the other hand, with increased vocabulary size, like for small level the model starts to generate some words correctly, while for the large level model we can observe even some coherence in the text."
   ],
   "metadata": {}
  },
  {
   "cell_type": "markdown",
   "source": [
    "# Bengali"
   ],
   "metadata": {}
  },
  {
   "cell_type": "code",
   "execution_count": 3,
   "source": [
    "from importlib import reload\n",
    "import os"
   ],
   "outputs": [],
   "metadata": {}
  },
  {
   "cell_type": "code",
   "execution_count": 2,
   "source": [
    "import preprocessor\n",
    "preprocessor = reload(preprocessor)\n",
    "\n",
    "\n",
    "pp = preprocessor.Preprocessor(\"data/original/bengali_corpus.txt\", \"bng\")\n",
    "cleaned_corpus = pp.process()\n",
    "pp.split(cleaned_corpus)"
   ],
   "outputs": [
    {
     "output_type": "stream",
     "name": "stdout",
     "text": [
      "10861 2716\n"
     ]
    }
   ],
   "metadata": {}
  },
  {
   "cell_type": "markdown",
   "source": [
    "## Subword segmentation"
   ],
   "metadata": {}
  },
  {
   "cell_type": "code",
   "execution_count": 4,
   "source": [
    "import sentpiece\n",
    "sentpiece = reload(sentpiece)"
   ],
   "outputs": [],
   "metadata": {}
  },
  {
   "cell_type": "code",
   "execution_count": 4,
   "source": [
    "TRAIN_DATA_PATH = \"data/processed/bng_train.txt\"\n",
    "TEST_DATA_PATH = \"data/processed/bng_test.txt\"\n",
    "models, test_models = [], []\n",
    "seg_train_path, seg_test_path = [], []\n",
    "start=200\n",
    "stop=250\n",
    "step=50\n",
    "\n",
    "for vocab_size in range(start, stop, step):\n",
    "    train_model_name = \"bng_train_\"+str(vocab_size)\n",
    "    test_model_name = \"bng_test_\"+str(vocab_size)\n",
    "    tr_seg_data_path = f\"bng_tr_chr_{str(vocab_size)}.txt\"\n",
    "    te_seg_data_path = f\"bng_te_chr_{str(vocab_size)}.txt\"\n",
    "    \n",
    "    sentpiece.train_model(TRAIN_DATA_PATH, train_model_name, vocab_size, lang=\"bng\")\n",
    "    models.append(train_model_name)\n",
    "    seg_train_path.append(tr_seg_data_path)\n",
    "    \n",
    "    sentpiece.train_model(TEST_DATA_PATH, test_model_name, vocab_size, lang=\"bng\")\n",
    "    test_models.append(test_model_name)\n",
    "    seg_test_path.append(te_seg_data_path)\n",
    "    "
   ],
   "outputs": [],
   "metadata": {}
  },
  {
   "cell_type": "code",
   "execution_count": 5,
   "source": [
    "import shutil, glob, os\n",
    "\n",
    "for model in models+test_models:\n",
    "    for file in glob.glob(f'{model}*'):\n",
    "        cwd = os.getcwd() \n",
    "        src = cwd\n",
    "        dst = cwd + \"/spm_models/\"\n",
    "        shutil.move(os.path.join(src, file), os.path.join(dst, file))"
   ],
   "outputs": [],
   "metadata": {}
  },
  {
   "cell_type": "code",
   "execution_count": 6,
   "source": [
    "for model, seg_path in zip(models,seg_train_path):\n",
    "    sentpiece.segmentation(TRAIN_DATA_PATH, model, seg_path)\n",
    "\n",
    "for model, seg_path in zip(test_models,seg_test_path):\n",
    "    sentpiece.segmentation(TEST_DATA_PATH, model, seg_path)"
   ],
   "outputs": [],
   "metadata": {}
  },
  {
   "cell_type": "code",
   "execution_count": 11,
   "source": [
    "## a snippet of generated files\n",
    "selected_files = [\"data/segmented/bng_tr_chr_50.txt\", \"data/segmented/bng_tr_chr_200.txt\", \"data/segmented/bng_tr_wd_1500.txt\"]\n",
    "for path in selected_files:\n",
    "    with open(path) as f:\n",
    "        data = f.read()[:400]\n",
    "        print(f\"{path[path.rfind('_')+1:]} : {data}\")\n",
    "        print(\"\\n\")"
   ],
   "outputs": [
    {
     "output_type": "stream",
     "name": "stdout",
     "text": [
      "50.txt : ▁ য ত ্ ত স ব ▁ প া প ন ▁ শ া ল া র ▁ ফ া জ ল া ম ী ▁ প া প ন ▁ শ া ল া ▁ র ে ▁ র ি ম া ন ্ ড ে ▁ ন ে ও য ় া ▁ দ র ক া র জ ি ল ্ ল ু র ▁ র হ ম া ন ▁ স ্ য া র ে র ▁ ছ ে ল ে ▁ এ ত ো ▁ ব ড ় ▁ জ া র জ ▁ হ ব ে ▁ এ ট া ▁ এ ক ট া ▁ দ ে শ ে র ▁ ম া ন ু ষ ▁ ক ো ন ো ▁ দ ি ন ▁ ও ▁ ভ া ব ত ে ▁ প া র ে ন ি ▁ ধ ন ্ য ব া দ ▁ ত া হ স ি ন ▁ ভ া ই ▁ শ া ল া ▁ ল ু চ ্ চ া ▁ দ ে খ ত ে ▁ প া ঠ া র ▁ ম ত ▁ দ ে খ া \n",
      "\n",
      "\n",
      "200.txt : ▁য ত ্ত স ব ▁পা পন ▁শ াল ার ▁ফ া জ লা ম ী ▁পা পন ▁শ ালা ▁ রে ▁র ি ম ান ্ ড ে ▁ন ে ওয়া ▁দ র কার জ ি ল ্ ল ুর ▁র হ ম ান ▁স ্য ার ের ▁ ছে লে ▁এ তো ▁ব ড় ▁জ ার জ ▁হ বে ▁এ টা ▁একটা ▁দে শ ের ▁মান ুষ ▁কোন ো ▁দি ন ▁ও ▁ভ া ব তে ▁প ারে ন ি ▁ধ ন্য বা দ ▁তা হ স িন ▁ভাই ▁শ ালা ▁ল ু চ্চা ▁দেখ তে ▁পা ঠ ার ▁ম ত ▁দেখ া ▁য ায় ত ুই ▁তো ▁শ ালা ▁গ া জা ▁খ াই ছ চ ▁ত ুর ▁ম ার ▁হ ে ড ায় ▁খে ল বে ▁সা কি ব এ টা ▁ক ুন ▁দ\n",
      "\n",
      "\n",
      "1500.txt : ▁যত ্ত সব ▁পাপন ▁শালার ▁ফা জ লাম ী ▁পাপন ▁শালা ▁রে ▁রি মান ্ড ে ▁নে ওয়া ▁দরকার জি ল্ ল ুর ▁রহমান ▁স্যারের ▁ছেলে ▁এতো ▁বড় ▁জারজ ▁হবে ▁এটা ▁একটা ▁দেশের ▁মানুষ ▁কোনো ▁দিন ▁ও ▁ভাব তে ▁পারে নি ▁ধন্যবাদ ▁তাহ সিন ▁ভাই ▁শালা ▁লুচ্চা ▁দেখতে ▁পাঠ ার ▁মত ▁দেখা ▁যায় তুই ▁তো ▁শালা ▁গাজা ▁খাই ছ চ ▁তুর ▁মার ▁হে ড ায় ▁খেল বে ▁সাকিব এটা ▁ক ুন ▁দ র নের ▁কে লা ▁ফ াই জ লা মি ▁তা স্ কিন ▁রে ▁চ র ▁মারা ▁দরকার পাপন \n",
      "\n",
      "\n"
     ]
    }
   ],
   "metadata": {}
  },
  {
   "cell_type": "markdown",
   "source": [
    "### Observation in terms of word segmentation.\n",
    "In the character-level segmented file (with vocab size 50), we get distinct tokens for consonant and vowel symbols, whereas in small word level segmented file (with vocab size 200), we can see (almost) syllable level tokens with vowel symbols combined with their consonant counterparts, but one can also still find separate characters in this file. In the large word-level segmented file (with vocab size 1500), we see larger-sized tokens (with two or more syllables) and sometimes, even fully-formed words."
   ],
   "metadata": {}
  },
  {
   "cell_type": "markdown",
   "source": [
    "## Train LM"
   ],
   "metadata": {}
  },
  {
   "cell_type": "code",
   "execution_count": 9,
   "source": [
    "import subprocess\n",
    "\n",
    "NUM_LAYERS = [200] \n",
    "CLASS = [150,200,250]\n",
    "BPTT = [3]\n",
    "\n",
    "dir_path=\"data/segmented/\"\n",
    "\n",
    "for train_file, test_file in zip(seg_train_path, seg_test_path):\n",
    "    for hid in NUM_LAYERS:\n",
    "        for cl in CLASS:\n",
    "            for bp in BPTT:\n",
    "                fname=\"hd\"+str(hid)+\"_cl\"+str(cl)+\"_\"+str(bp)+\"_\"+train_file[train_file.rfind(\"/\")+1:train_file.rfind('.')]\n",
    "                print(fname)\n",
    "                args = ['bash', 'train_script.sh', dir_path+train_file, dir_path+test_file, fname, str(hid), str(cl), str(bp)]\n",
    "                p = subprocess.run(args)\n",
    "                print(p)\n"
   ],
   "outputs": [
    {
     "output_type": "stream",
     "name": "stdout",
     "text": [
      "hd200_cl150_3_bng_tr_chr_200\n",
      "CompletedProcess(args=['bash', 'train_script.sh', 'data/segmented/bng_tr_chr_200.txt', 'data/segmented/bng_te_chr_200.txt', 'hd200_cl150_3_bng_tr_chr_200', '200', '150', '3'], returncode=0)\n",
      "hd200_cl200_3_bng_tr_chr_200\n",
      "CompletedProcess(args=['bash', 'train_script.sh', 'data/segmented/bng_tr_chr_200.txt', 'data/segmented/bng_te_chr_200.txt', 'hd200_cl200_3_bng_tr_chr_200', '200', '200', '3'], returncode=0)\n",
      "hd200_cl250_3_bng_tr_chr_200\n",
      "CompletedProcess(args=['bash', 'train_script.sh', 'data/segmented/bng_tr_chr_200.txt', 'data/segmented/bng_te_chr_200.txt', 'hd200_cl250_3_bng_tr_chr_200', '200', '250', '3'], returncode=0)\n"
     ]
    }
   ],
   "metadata": {}
  },
  {
   "cell_type": "markdown",
   "source": [
    "Perplexities for the selected baselines and tuned-models are reported in the [table below with OOV-rates](#observations)"
   ],
   "metadata": {}
  },
  {
   "cell_type": "markdown",
   "source": [
    "## Data generation\n",
    "#### baseline character model"
   ],
   "metadata": {}
  },
  {
   "cell_type": "code",
   "execution_count": 7,
   "source": [
    "GEN_DATA_PATH = \"data/generated/bng_chr_50/\"\n",
    "MODEL_PATH = f\"./rnnlm_models/bng_chr_50\"\n",
    "\n",
    "from pathlib import Path\n",
    "Path(GEN_DATA_PATH).mkdir(parents=True, exist_ok=True)\n",
    "\n",
    "!bash gen_script.sh $GEN_DATA_PATH $MODEL_PATH"
   ],
   "outputs": [],
   "metadata": {}
  },
  {
   "cell_type": "code",
   "execution_count": 8,
   "source": [
    "# Decoding generated texts\n",
    "sentpiece.desegmentation(\"data/generated/bng_chr_50/100.txt\", \"bng_train_50\")"
   ],
   "outputs": [],
   "metadata": {}
  },
  {
   "cell_type": "markdown",
   "source": [
    "##### OOV comparison"
   ],
   "metadata": {}
  },
  {
   "cell_type": "code",
   "execution_count": 4,
   "source": [
    "import oov_bng\n",
    "oov = reload(oov_bng)"
   ],
   "outputs": [],
   "metadata": {}
  },
  {
   "cell_type": "code",
   "execution_count": 8,
   "source": [
    "# baseline \n",
    "TRAIN_DATA_PATH = \"data/processed/bng_train.txt\"\n",
    "TEST_DATA_PATH = \"data/processed/bng_test.txt\"\n",
    "\n",
    "train_vocab, test_vocab = oov.get_vocab(TRAIN_DATA_PATH), oov.get_vocab(TEST_DATA_PATH) \n",
    "print(oov.compute_oov_rate(train_vocab, test_vocab))"
   ],
   "outputs": [
    {
     "output_type": "stream",
     "name": "stdout",
     "text": [
      "0.13434656741108353\n"
     ]
    }
   ],
   "metadata": {}
  },
  {
   "cell_type": "code",
   "execution_count": 6,
   "source": [
    "# char-level baseline\n",
    "\n",
    "dir_path=\"data/generated/bng_chr_50/\"\n",
    "oov_rates = {}\n",
    "for i in range(1,8):\n",
    "    file=10**i\n",
    "    print(file)\n",
    "    if str(file)+\"_desegmented.txt\" not in os.listdir(dir_path):\n",
    "        sentpiece.desegmentation(dir_path+str(file)+\".txt\", \"bng_train_50\")\n",
    "        \n",
    "    add_vocab = oov.get_vocab(dir_path+str(file)+\"_desegmented.txt\")\n",
    "    oov_rates[file] = oov.compute_oov_rate(oov.augment_vocab(train_vocab, add_vocab), test_vocab)\n",
    "print(oov_rates)"
   ],
   "outputs": [
    {
     "output_type": "stream",
     "name": "stdout",
     "text": []
    }
   ],
   "metadata": {}
  },
  {
   "cell_type": "code",
   "execution_count": 7,
   "source": [
    "oov.plot_oov_rates(oov_rates)"
   ],
   "outputs": [
    {
     "output_type": "stream",
     "name": "stderr",
     "text": [
      "No handles with labels found to put in legend.\n"
     ]
    },
    {
     "output_type": "display_data",
     "data": {
      "text/plain": [
       "<Figure size 432x288 with 1 Axes>"
      ],
      "image/png": "[encoded data removed]"
     },
     "metadata": {}
    }
   ],
   "metadata": {}
  },
  {
   "cell_type": "markdown",
   "source": [
    "##### tuned char-model"
   ],
   "metadata": {}
  },
  {
   "cell_type": "code",
   "execution_count": 8,
   "source": [
    "GEN_DATA_PATH = \"data/generated/hd150_cl50_3_bng_tr_chr_50/\"\n",
    "MODEL_PATH = f\"./rnnlm_models/hd150_cl50_3_bng_tr_chr_50\"\n",
    "\n",
    "from pathlib import Path\n",
    "Path(GEN_DATA_PATH).mkdir(parents=True, exist_ok=True)\n",
    "\n",
    "!bash gen_script.sh $GEN_DATA_PATH $MODEL_PATH"
   ],
   "outputs": [],
   "metadata": {}
  },
  {
   "cell_type": "code",
   "execution_count": 10,
   "source": [
    "# Decoding generated texts\n",
    "sentpiece.desegmentation(\"data/generated/hd150_cl50_3_bng_tr_chr_50/100.txt\", \"bng_train_50\")"
   ],
   "outputs": [],
   "metadata": {}
  },
  {
   "cell_type": "code",
   "execution_count": 15,
   "source": [
    "dir_path=\"data/generated/hd150_cl50_3_bng_tr_chr_50/\"\n",
    "oov_rates = {}\n",
    "for i in range(1,8):\n",
    "    file=10**i\n",
    "    print(file)\n",
    "    if str(file)+\"_desegmented.txt\" not in os.listdir(dir_path):\n",
    "        sentpiece.desegmentation(dir_path+str(file)+\".txt\", \"bng_train_50\")\n",
    "        \n",
    "    add_vocab = oov.get_vocab(dir_path+str(file)+\"_desegmented.txt\")\n",
    "    oov_rates[file] = oov.compute_oov_rate(oov.augment_vocab(train_vocab, add_vocab), test_vocab)\n",
    "print(oov_rates)"
   ],
   "outputs": [
    {
     "output_type": "stream",
     "name": "stdout",
     "text": []
    }
   ],
   "metadata": {}
  },
  {
   "cell_type": "code",
   "execution_count": 14,
   "source": [
    "oov.plot_oov_rates(oov_rates)"
   ],
   "outputs": [
    {
     "output_type": "stream",
     "name": "stderr",
     "text": [
      "No handles with labels found to put in legend.\n"
     ]
    },
    {
     "output_type": "display_data",
     "data": {
      "text/plain": [
       "<Figure size 432x288 with 1 Axes>"
      ],
      "image/png": "[encoded data removed]"
     },
     "metadata": {}
    }
   ],
   "metadata": {}
  },
  {
   "cell_type": "markdown",
   "source": [
    "### baseline small word-level model"
   ],
   "metadata": {}
  },
  {
   "cell_type": "code",
   "execution_count": 14,
   "source": [
    "GEN_DATA_PATH = \"data/generated/bng_tr_chr_200/\" \n",
    "MODEL_PATH = f\"./rnnlm_models/bng_tr_chr_200\"\n",
    "\n",
    "from pathlib import Path\n",
    "Path(GEN_DATA_PATH).mkdir(parents=True, exist_ok=True)\n",
    "\n",
    "!bash gen_script.sh $GEN_DATA_PATH $MODEL_PATH"
   ],
   "outputs": [],
   "metadata": {}
  },
  {
   "cell_type": "code",
   "execution_count": 15,
   "source": [
    "# inspect 100.txt\n",
    "sentpiece.desegmentation(\"data/generated/bng_tr_chr_200/100.txt\", \"bng_train_200\")"
   ],
   "outputs": [],
   "metadata": {}
  },
  {
   "cell_type": "markdown",
   "source": [
    "##### OOV comparison"
   ],
   "metadata": {}
  },
  {
   "cell_type": "code",
   "execution_count": 20,
   "source": [
    "train_vocab, test_vocab = oov.get_vocab(TRAIN_DATA_PATH), oov.get_vocab(TEST_DATA_PATH) \n",
    "\n",
    "dir_path=\"data/generated/bng_tr_chr_200/\" \n",
    "oov_rates = {}\n",
    "for i in range(1,8):\n",
    "    file=10**i\n",
    "    print(file)\n",
    "    if str(file)+\"_desegmented.txt\" not in os.listdir(dir_path):\n",
    "        sentpiece.desegmentation(dir_path+str(file)+\".txt\", \"bng_train_200\")\n",
    "        \n",
    "    add_vocab = oov.get_vocab(dir_path+str(file)+\"_desegmented.txt\")\n",
    "    oov_rates[file] = oov.compute_oov_rate(oov.augment_vocab(train_vocab, add_vocab), test_vocab)\n",
    "print(oov_rates)"
   ],
   "outputs": [
    {
     "output_type": "stream",
     "name": "stdout",
     "text": []
    }
   ],
   "metadata": {}
  },
  {
   "cell_type": "code",
   "execution_count": 22,
   "source": [
    "oov.plot_oov_rates(oov_rates)"
   ],
   "outputs": [
    {
     "output_type": "stream",
     "name": "stderr",
     "text": [
      "No handles with labels found to put in legend.\n"
     ]
    },
    {
     "output_type": "display_data",
     "data": {
      "text/plain": [
       "<Figure size 432x288 with 1 Axes>"
      ],
      "image/png": "[encoded data removed]"
     },
     "metadata": {}
    }
   ],
   "metadata": {}
  },
  {
   "cell_type": "markdown",
   "source": [
    "### tuned small word-level model"
   ],
   "metadata": {}
  },
  {
   "cell_type": "code",
   "execution_count": 5,
   "source": [
    "GEN_DATA_PATH = \"data/generated/hd200_cl200_3_bng_tr_chr_200/\" \n",
    "MODEL_PATH = f\"./rnnlm_models/hd200_cl200_3_bng_tr_chr_200\" \n",
    "\n",
    "from pathlib import Path\n",
    "Path(GEN_DATA_PATH).mkdir(parents=True, exist_ok=True)\n",
    "\n",
    "!bash gen_script.sh $GEN_DATA_PATH $MODEL_PATH"
   ],
   "outputs": [],
   "metadata": {}
  },
  {
   "cell_type": "code",
   "execution_count": 6,
   "source": [
    "# inspect 100.txt\n",
    "sentpiece.desegmentation(\"data/generated/hd200_cl200_3_bng_tr_chr_200/100.txt\", \"bng_train_200\")"
   ],
   "outputs": [],
   "metadata": {}
  },
  {
   "cell_type": "markdown",
   "source": [
    "##### OOV comparison"
   ],
   "metadata": {}
  },
  {
   "cell_type": "code",
   "execution_count": 9,
   "source": [
    "train_vocab, test_vocab = oov.get_vocab(TRAIN_DATA_PATH), oov.get_vocab(TEST_DATA_PATH) \n",
    "\n",
    "dir_path=\"data/generated/hd200_cl200_3_bng_tr_chr_200/\"\n",
    "oov_rates = {}\n",
    "for i in range(1,8):\n",
    "    file=10**i\n",
    "    print(file)\n",
    "    if str(file)+\"_desegmented.txt\" not in os.listdir(dir_path):\n",
    "        sentpiece.desegmentation(dir_path+str(file)+\".txt\", \"bng_train_200\")\n",
    "        \n",
    "    add_vocab = oov.get_vocab(dir_path+str(file)+\"_desegmented.txt\")\n",
    "    oov_rates[file] = oov.compute_oov_rate(oov.augment_vocab(train_vocab, add_vocab), test_vocab)\n",
    "print(oov_rates)"
   ],
   "outputs": [
    {
     "output_type": "stream",
     "name": "stdout",
     "text": []
    }
   ],
   "metadata": {}
  },
  {
   "cell_type": "code",
   "execution_count": 10,
   "source": [
    "oov.plot_oov_rates(oov_rates)"
   ],
   "outputs": [
    {
     "output_type": "stream",
     "name": "stderr",
     "text": [
      "No handles with labels found to put in legend.\n"
     ]
    },
    {
     "output_type": "display_data",
     "data": {
      "text/plain": [
       "<Figure size 432x288 with 1 Axes>"
      ],
      "image/png": "[encoded data removed]"
     },
     "metadata": {}
    }
   ],
   "metadata": {}
  },
  {
   "cell_type": "markdown",
   "source": [
    "### large word-level model\n",
    "\n",
    "#### baseline"
   ],
   "metadata": {}
  },
  {
   "cell_type": "code",
   "execution_count": 9,
   "source": [
    "GEN_DATA_PATH = \"data/generated/bng_tr_wd_1500/\"\n",
    "MODEL_PATH = f\"./rnnlm_models/bng_tr_wd_1500\"\n",
    "\n",
    "from pathlib import Path\n",
    "Path(GEN_DATA_PATH).mkdir(parents=True, exist_ok=True)\n",
    "\n",
    "!bash gen_script.sh $GEN_DATA_PATH $MODEL_PATH"
   ],
   "outputs": [],
   "metadata": {}
  },
  {
   "cell_type": "code",
   "execution_count": 10,
   "source": [
    "# inspect 100.txt\n",
    "sentpiece.desegmentation(\"data/generated/bng_tr_wd_1500/100.txt\", \"bng_train_1500\")"
   ],
   "outputs": [],
   "metadata": {}
  },
  {
   "cell_type": "markdown",
   "source": [
    "##### OOV comparison"
   ],
   "metadata": {}
  },
  {
   "cell_type": "code",
   "execution_count": 11,
   "source": [
    "train_vocab, test_vocab = oov.get_vocab(TRAIN_DATA_PATH), oov.get_vocab(TEST_DATA_PATH) \n",
    "\n",
    "dir_path=\"data/generated/bng_tr_wd_1500/\"\n",
    "oov_rates = {}\n",
    "for i in range(1,8):\n",
    "    file=10**i\n",
    "    print(file)\n",
    "    if str(file)+\"_desegmented.txt\" not in os.listdir(dir_path):\n",
    "        sentpiece.desegmentation(dir_path+str(file)+\".txt\", \"bng_train_1500\")\n",
    "        \n",
    "    add_vocab = oov.get_vocab(dir_path+str(file)+\"_desegmented.txt\")\n",
    "    oov_rates[file] = oov.compute_oov_rate(oov.augment_vocab(train_vocab, add_vocab), test_vocab)\n",
    "print(oov_rates)"
   ],
   "outputs": [
    {
     "output_type": "stream",
     "name": "stdout",
     "text": []
    }
   ],
   "metadata": {}
  },
  {
   "cell_type": "code",
   "execution_count": 12,
   "source": [
    "oov.plot_oov_rates(oov_rates)"
   ],
   "outputs": [
    {
     "output_type": "stream",
     "name": "stderr",
     "text": [
      "No handles with labels found to put in legend.\n"
     ]
    },
    {
     "output_type": "display_data",
     "data": {
      "text/plain": [
       "<Figure size 432x288 with 1 Axes>"
      ],
      "image/png": "[encoded data removed]"
     },
     "metadata": {}
    }
   ],
   "metadata": {}
  },
  {
   "cell_type": "markdown",
   "source": [
    "### tuned large word model"
   ],
   "metadata": {}
  },
  {
   "cell_type": "code",
   "execution_count": 13,
   "source": [
    "GEN_DATA_PATH = \"data/generated/hid50_bng_tr_wd_1500/\"\n",
    "MODEL_PATH = f\"./rnnlm_models/hid50_bng_tr_wd_1500\"\n",
    "\n",
    "from pathlib import Path\n",
    "Path(GEN_DATA_PATH).mkdir(parents=True, exist_ok=True)\n",
    "\n",
    "!bash gen_script.sh $GEN_DATA_PATH $MODEL_PATH"
   ],
   "outputs": [],
   "metadata": {}
  },
  {
   "cell_type": "code",
   "execution_count": 14,
   "source": [
    "# inspect 100.txt\n",
    "sentpiece.desegmentation(\"data/generated/hid50_bng_tr_wd_1500/100.txt\", \"bng_train_1500\")"
   ],
   "outputs": [],
   "metadata": {}
  },
  {
   "cell_type": "markdown",
   "source": [
    "##### OOV comparison"
   ],
   "metadata": {}
  },
  {
   "cell_type": "code",
   "execution_count": 15,
   "source": [
    "train_vocab, test_vocab = oov.get_vocab(TRAIN_DATA_PATH), oov.get_vocab(TEST_DATA_PATH) \n",
    "\n",
    "dir_path=\"data/generated/hid50_bng_tr_wd_1500/\"\n",
    "oov_rates = {}\n",
    "for i in range(1,8):\n",
    "    file=10**i\n",
    "    print(file)\n",
    "    if str(file)+\"_desegmented.txt\" not in os.listdir(dir_path):\n",
    "        sentpiece.desegmentation(dir_path+str(file)+\".txt\", \"bng_train_1500\")\n",
    "        \n",
    "    add_vocab = oov.get_vocab(dir_path+str(file)+\"_desegmented.txt\")\n",
    "    oov_rates[file] = oov.compute_oov_rate(oov.augment_vocab(train_vocab, add_vocab), test_vocab)\n",
    "print(oov_rates)"
   ],
   "outputs": [
    {
     "output_type": "stream",
     "name": "stdout",
     "text": []
    }
   ],
   "metadata": {}
  },
  {
   "cell_type": "code",
   "execution_count": 16,
   "source": [
    "oov.plot_oov_rates(oov_rates)"
   ],
   "outputs": [
    {
     "output_type": "stream",
     "name": "stderr",
     "text": [
      "No handles with labels found to put in legend.\n"
     ]
    },
    {
     "output_type": "display_data",
     "data": {
      "text/plain": [
       "<Figure size 432x288 with 1 Axes>"
      ],
      "image/png": "[encoded data removed]"
     },
     "metadata": {}
    }
   ],
   "metadata": {}
  },
  {
   "cell_type": "markdown",
   "source": [
    "## Inspection of 100.txts"
   ],
   "metadata": {}
  },
  {
   "cell_type": "code",
   "execution_count": 5,
   "source": [
    "# Observations from generated LM\n",
    "sentpiece.show_desegmented_file(\"data/generated/bng_chr_50/100_desegmented.txt\")\n",
    "sentpiece.show_desegmented_file(\"data/generated/bng_tr_chr_200/100_desegmented.txt\")\n",
    "sentpiece.show_desegmented_file(\"data/generated/bng_tr_wd_1500/100_desegmented.txt\")\n",
    "sentpiece.show_desegmented_file(\"data/generated/hd150_cl50_3_bng_tr_chr_50/100_desegmented.txt\")\n",
    "sentpiece.show_desegmented_file(\"data/generated/hd200_cl200_3_bng_tr_chr_200/100_desegmented.txt\")\n",
    "sentpiece.show_desegmented_file(\"data/generated/hid50_bng_tr_wd_1500/100_desegmented.txt\")"
   ],
   "outputs": [
    {
     "output_type": "stream",
     "name": "stdout",
     "text": [
      "bng_chr_50\n",
      "প্রকার ভিলতে ৷ত্কার নায়মে সে বিচারা করে আজদেরকে বছর্তার হাকিবেশ সাস্তি দেশে অনেক হিচাই দলাম করিস্প\n",
      "bng_tr_chr_200\n",
      "ম হলে সোনি করলে ছিলো সব ভূত্ণে রাউয়ের একটা নায়িকা আমি সিরিত্যাগুলো কেউ আডিসি আমি হেড়ে ছেলেঁদ করেইতোনগার আপনি থুতে ছিসির না অনিটা করায় ভাইকে বেঁরার ভাই করা যাবেনল মনে হয় সকল করে\n",
      "bng_tr_wd_1500\n",
      "ষড়ই লেগে নিসে তার জনপনা মারতে আসেনাএই ধরনের মোম্ম্বালা মিন্নি সব সোযত তাই না এ সরকারী ডিসির পিছন আর একটা খারাপ আর কেন উঠেছে একজন ফাসি চাই ভাইআসলে গেম হলেও কে বলছি আনি লেয়েলতা হবে পতিতা আরেকটা জ্বলা আমার গু ম্যাজি রুবেলের সাথে সঝজব করুন তার বাজে গাঁ সবার মানুষগুলোরলিগার রিকামুর দৃত্যে কোন কথা কি চোখে\n",
      "hd150_cl50_3_bng_tr_chr_50\n",
      "তার মেয়ে চুবু,,আমার চাকরি অাবন্ধ করেতোর সাবের ছিব তাহেমিকের মত মতো বলে সবার জন্য জপ্রাটকন্যাবাদুকী\n",
      "hd200_cl200_3_bng_tr_chr_200\n",
      "রেখারএই হবে কেমনে হতে হবে বোঝেছ সেই শাস্তি দিয়া গেছে সব জাজাইবটে কি আর করুক একজন নয়নটা হাগারটাকে প্রথমেয়ে স্রেষ্ঠের আতাএসো কোথা হতে কেকভারতে গেয় এগিয়ে যাচ্ছে জীবনম দেখ\n",
      "hid50_bng_tr_wd_1500\n",
      "এঙ্গারছাগলএডরিভারতে চাই সে জীবন দেখেননাসে যিনি আদরত্যা করোআমি বলছি মনে হয় নারুবেল দিনের কোন মিডিয়ার বলতো অপুমিড়া ল‍্য করুন আর সম্পর্কে পরিস্টি অথবা কুঠ গরম ডিম উপরে আলো সব ড্রেযোগ করিসবসমায়রে বাংলাদেশের বাল জলে দেখলে খুলনার বুক নেত ভিডিওতে পািয়েছোসবা প্রেমী শরীতো ভাইএর কে\n"
     ]
    }
   ],
   "metadata": {}
  },
  {
   "cell_type": "markdown",
   "source": [
    "Due to our lack of understanding of texts in Bengali, we cannot exactly comment on the quality of generated data. It can be seen in the output of the tuned character-level model (hd150_cl50_3_bng_tr_chr_50 ) that two commas follow each other, so we assume the text generated by character-level model would lack coherence due to lack of context. However, the text generated by larger subword units would output a better quality text due to more context.\n"
   ],
   "metadata": {}
  },
  {
   "cell_type": "markdown",
   "source": [
    "### Observations\n",
    "\n",
    "\n",
    "#### baseline models\n",
    "\n",
    "| Language |   Level   | Voc. size | Hyperparams (hid-class-bptt) | Perplexity | OOV rate % (BS: 13.43%) |\n",
    "|:--------:|:---------:|:---------:|:--------------------------:|:----------:|:-------------------:|\n",
    "|  Bengali | Character |     50    |          40-9999-3         |  9.782082  |        11.53        |\n",
    "|  Bengali |   Small   |    200    |          40-9999-3         |  51.326691 |        10.96        |\n",
    "|  Bengali |   Large   |    1500   |          40-9999-3         | 319.937888 |        10.26        |\n",
    "\n",
    "#### tuned models \n",
    "| Language |   Level   | Voc. size | Hyperparams (hid-class-bptt) | Perplexity | OOV rate % (BS: 13.43%) |\n",
    "|:--------:|:---------:|:---------:|:--------------------------:|:----------:|:--------------------:|\n",
    "|  Bengali | Character |     50    |          150-50-3          |  7.537116  |         11.13        |\n",
    "|  **Bengali** |   **Small**   |    **200**    |          **200-200-3**         |  **40.404075** |         **10.57**        |\n",
    "|  Bengali |   Large   |    1500   |          50-9999-3         | 315.655359 |         10.21        |\n",
    "\n",
    "\n",
    "As expected, the added vocabulary from language models lowers the OOV rate. Across all models, the highest difference in oov rate is observed with the 10^7-sized LM generated text. So, for comparison with the baseline, we consider the OOV-rate corresponding to this augmentation. <br>\n",
    "The baseline OOV rate of 13.43% goes down to 11.13% with tuned character-level LM. It is further reduced to 10.57% and 10.21% with tuned small and large subword-level LMs, respectively. However, we can clearly observe that the reduced OOV rates come at the price of increasing perplexity. <br>\n",
    "As the vocab-size of the LM increases, perplexity increases at a much faster rate than OOV rate. Experiments with vocab size larger than 1500 (eg. with vocab size 2500) showed perplexities as high as 460.93 for baseline and 457.38 for the tuned model. But there wasn't a significant difference in its OOV rate as compared to the 1500-vocab-sized model (10.19% for baseline and 10.16% for tuned). <br>\n",
    "**For practical purposes, we would choose the the tuned small word-level model, since it gives both a decent perplexity and a decent OOV-rate as compared to the other models.**  "
   ],
   "metadata": {}
  },
  {
   "cell_type": "markdown",
   "source": [
    "# Analysis"
   ],
   "metadata": {}
  },
  {
   "cell_type": "markdown",
   "source": [
    "#### what we aimed to achieve\n",
    "The goal of this project was to find optimal subwords and train a language model over these subwords to alleviate the OOV problem in two morphologically distinct languages: English and Bengali. This was done by augmenting the train data with the data generated by trained language models and finding the optimal OOV rate on the test set using the augmented train corpora.  <br>\n",
    "\n",
    "#### summary of our observations for all tasks, hyperparameter tuning and ways to improve results\n",
    "1. Data Preparation: After manually inspecting both corpora, following preprocessing steps are done: \n",
    "\n",
    "    For English:\n",
    "        - Simple noise removal: asterisk (*) symbols are removed, sequences ‘_I_’ are substituted with the character ‘I’ and sequences ‘--’ are substituted with whitespaces.\n",
    "        - Lowercasing: In order to reduce vocabulary size, however, we should experiment and test results without lowercasing.\n",
    "        - Other methods (e.g. stemming, stopwords removal, expendin contractions) are not used since it is a language modeling task and we want to preserve language style.  \n",
    "\n",
    "    For Bengali, we split the sentences using html line break tags and punctuations such as \"।!?\".Furthermore, we remove English words/characters, numbers, other html tags and emoji flags. This gives us 10861 sentences in train and 2716 sentences in test. \n",
    "\n",
    "\n",
    "2. Subword Segmentation  \n",
    "Experiments for the subword-unit granulatiy levels for Bengali were conducted on the same range of vocab-size as given for English. Segmented files with vocab size >=300 were found to have more than two-syllable subword units. Therefore for closer-to-character granularity level, we chose 200 as the vocab size as it showed a good mix of single characters, one-syllable and two-syllable subword units.  \n",
    "As for closer-to-word granularity level, we choose 1500 as the vocab size because it gives a good mix of word-level tokens for shorter words and subword tokens for longer words. Beyond this value (1500), we see a higher proportion of word-level tokens in the segmented files. \n",
    "\n",
    "    For English:<br>\n",
    "    As expected, for the character-based model every word is chopped to character units, therefore, the whole file is a collection of characters separated by whitespaces.\n",
    "    Using vocabulary of size 100 tokens, overall sparse representation (words are still pretty much chopped into character units and small n-grams (e.g. bigrams)) can be observed. However, highly frequent words, like _and and _the, are now part of the vocabulary.\n",
    "    Lastly, when vocabulary size is increased to 2500, an increased number of whole words are present in the vocabulary, while OOV words are composed of multiple vocabulary words. For instance, absurd is composed of _abs ur d, since ur is an extremely frequent bigram (e.g. four, your, etc.), while _abs shows up a few times.\n",
    "    Furthermore, vocabulary size is determined using baseline setup (hyperparameters 40-9999-3) and running training on various vocabulary sizes. Selected ones for small and large instances had the lowest perplexities. Additionally, differences in vocabularies with similar scores were negligible, thus, those with the lowest perplexity scores were selected.\n",
    "\n",
    "\n",
    "3. LM Training  \n",
    "In Bengali, it was empirically seen that increasing the hidden layer size for smaller subword units (characters and closer-to-character subwords) lowered the perplexity at a faster rate. This makes sense because we have higher number of training tokens for these two granularity levels than that of closer-to-word subword units. Moreover, setting the `class` parameter=vocab size gave better perplexities for both models. <br>\n",
    "For closer-to-word granularity level, we found the optimal hidden layer size to be 50. Any value lower or higher than that gave higher perplexities with same `class` and `bptt` parameter. As for the class parameter, values <= vocab size performed worse than the given baseline value. Also, values > baseline `class` parameter gave higher perplexities. \n",
    "Finally, we also experimented with different `bptt` values (by fixing `class` and `hidden_layer_size`). The baseline `bptt` parameter outperformed consistently on all models, therefore, we do not change it.  \n",
    "\n",
    "    In English, increasing hidden layer size resulted in lower perplexity in general, however, selected values are produced the best OOV rates. Furthermore, the class parameter value was the best in neighbourhood of vocabulary size. Lastly, the bptt parameter was selected in the same manner as for Bengali.\n",
    "\n",
    "To further improve results, we would follow the suggestion for best accuracy as given in the [original paper](http://www.fit.vutbr.cz/~imikolov/rnnlm/rnnlm-demo.pdf).  \n",
    "\n",
    "\n",
    "#### whether our expectations were fulfilled  \n",
    "Yes, we achieved significantly lower OOV-rates than the baseline with all our models. \n",
    "\n",
    "#### takeaways from this project \n",
    "- We learnt how subword representations can be used to achieve a lower OOV rate in language models. How such representations give different results for morphologically diverse languages.\n",
    "- Morphologically richer languages, like Bengali, are harder to model which can be seen from the difference in OOV rates. Furthermore, we should have understanding of a language in order to better inspect the results and further improve the language model.\n",
    "\n",
    "#### how do results differ for English and Bengali\n",
    "We assumed the task of solving OOV word problem for the morpholoically richer language, Bengali, to be much harder than that for English. This can be seen emperically from the baseline OOV rate of the corpora of the two languages. As for the improvement of OOV rate from augmented data, we see both languages follow almost the same trend. That is, for smaller granularities (character and closer-to-character level), visible decrease starts after 10^4 text length in both the languages. However, in case of large subword level, a noticeable decrease can be seen in English after 10^3 text length but in Bengali from 10^4 onwards.\n"
   ],
   "metadata": {}
  }
 ]
}