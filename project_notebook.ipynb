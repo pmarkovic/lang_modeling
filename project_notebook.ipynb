{
 "cells": [
  {
   "cell_type": "markdown",
   "metadata": {},
   "source": [
    "# English - Alice in wonderland\n",
    "\n",
    "## Data preparation"
   ]
  },
  {
   "cell_type": "code",
   "execution_count": 1,
   "metadata": {},
   "outputs": [],
   "source": [
    "from importlib import reload\n",
    "import os"
   ]
  },
  {
   "cell_type": "code",
   "execution_count": 2,
   "metadata": {},
   "outputs": [
    {
     "name": "stdout",
     "output_type": "stream",
     "text": [
      "118597 29650\n"
     ]
    }
   ],
   "source": [
    "import preprocessor\n",
    "preprocessor = reload(preprocessor)\n",
    "\n",
    "\n",
    "pp = preprocessor.Preprocessor(\"data/original/alice_in_wonderland.txt\", \"eng\")\n",
    "cleaned_corpus = pp.process()\n",
    "pp.split(cleaned_corpus)"
   ]
  },
  {
   "cell_type": "markdown",
   "metadata": {},
   "source": [
    "## Subword segmentation"
   ]
  },
  {
   "cell_type": "code",
   "execution_count": 3,
   "metadata": {},
   "outputs": [],
   "source": [
    "import sentpiece\n",
    "sentpiece = reload(sentpiece)\n",
    "\n",
    "\n",
    "NUM_CHARS = 100\n",
    "TRAIN_DATA_PATH = \"data/processed/eng_train.txt\"\n",
    "MODEL_NAME = \"eng_model_sml\"\n",
    "SEG_DATA_PATH = \"eng_sml.txt\"\n",
    "\n",
    "\n",
    "sentpiece.train_model(TRAIN_DATA_PATH, MODEL_NAME, NUM_CHARS)"
   ]
  },
  {
   "cell_type": "code",
   "execution_count": 4,
   "metadata": {},
   "outputs": [],
   "source": [
    "!mv $MODEL_NAME* spm_models/"
   ]
  },
  {
   "cell_type": "code",
   "execution_count": 5,
   "metadata": {},
   "outputs": [],
   "source": [
    "sentpiece.segmentation(TRAIN_DATA_PATH, MODEL_NAME, SEG_DATA_PATH)"
   ]
  },
  {
   "cell_type": "markdown",
   "metadata": {},
   "source": [
    "## Train LM"
   ]
  },
  {
   "cell_type": "code",
   "execution_count": 18,
   "metadata": {},
   "outputs": [
    {
     "name": "stdout",
     "output_type": "stream",
     "text": [
      "rm: cannot remove 'rnnlm/models/model': No such file or directory\n",
      "rm: cannot remove 'rnnlm/models/model.output.txt': No such file or directory\n",
      "debug mode: 2\n",
      "train file: data/segmented/eng_sml.txt\n",
      "valid file: data/processed/eng_test.txt\n",
      "class size: 9999\n",
      "Hidden layer size: 40\n",
      "BPTT: 3\n",
      "Rand seed: 1\n",
      "rnnlm file: model\n",
      "Starting training using file data/segmented/eng_sml.txt\n",
      "Vocab size: 98\n",
      "Words in train file: 70003\n",
      "WARNING: number of classes exceeds vocabulary size!\n",
      "Iter:   0\tAlpha: 0.100000\t   TRAIN entropy: 4.9914    Words/sec: 1226.2   VALID entropy: 11.5537\n",
      "Iter:   1\tAlpha: 0.100000\t   TRAIN entropy: 4.1096    Words/sec: 1382.2   VALID entropy: 12.4125\n",
      "Iter:   2\tAlpha: 0.050000\t   TRAIN entropy: 4.0804    Words/sec: 1380.0   VALID entropy: 12.5771\n",
      "\n",
      "real\t2m43.524s\n",
      "user\t2m42.983s\n",
      "sys\t0m0.176s\n"
     ]
    }
   ],
   "source": [
    "TRAIN_SEG_DATA_PATH = \"data/segmented/eng_sml.txt\"\n",
    "NUM_LAYERS = 40\n",
    "CLASS = 9999\n",
    "BPTT = 3\n",
    "\n",
    "\n",
    "!bash train_script.sh $TRAIN_SEG_DATA_PATH \"data/processed/eng_test.txt\" $NUM_LAYERS $CLASS $BPTT"
   ]
  },
  {
   "cell_type": "code",
   "execution_count": 19,
   "metadata": {},
   "outputs": [],
   "source": [
    "MODEL_OUTPUT = MODEL_NAME + \".output.txt\"\n",
    "\n",
    "!mv model $MODEL_NAME\n",
    "!mv model.output.txt $MODEL_OUTPUT\n",
    "\n",
    "!mv $MODEL_NAME $MODEL_OUTPUT rnnlm_models/"
   ]
  },
  {
   "cell_type": "markdown",
   "metadata": {},
   "source": [
    "## Data generation"
   ]
  },
  {
   "cell_type": "code",
   "execution_count": 21,
   "metadata": {},
   "outputs": [
    {
     "name": "stdout",
     "output_type": "stream",
     "text": [
      "^C\n"
     ]
    }
   ],
   "source": [
    "GEN_DATA_PATH = \"data/generated/eng_model_sml/\"\n",
    "MODEL_PATH = f\"./rnnlm_models/{MODEL_NAME}\"\n",
    "\n",
    "!bash gen_script.sh $GEN_DATA_PATH $MODEL_PATH"
   ]
  },
  {
   "cell_type": "code",
   "execution_count": 22,
   "metadata": {},
   "outputs": [],
   "source": [
    "# Decoding generated texts\n",
    "\n",
    "sentpiece.desegmentation(\"data/generated/eng_model_sml/100.txt\", \"eng_model_chr\")"
   ]
  },
  {
   "cell_type": "markdown",
   "metadata": {},
   "source": [
    "# Bengali"
   ]
  },
  {
   "cell_type": "code",
   "execution_count": 1,
   "metadata": {},
   "outputs": [],
   "source": [
    "from importlib import reload\n",
    "import os"
   ]
  },
  {
   "cell_type": "code",
   "execution_count": 2,
   "metadata": {},
   "outputs": [
    {
     "name": "stdout",
     "output_type": "stream",
     "text": [
      "10861 2716\n"
     ]
    }
   ],
   "source": [
    "import preprocessor\n",
    "preprocessor = reload(preprocessor)\n",
    "\n",
    "\n",
    "pp = preprocessor.Preprocessor(\"data/original/bengali_corpus.txt\", \"bng\")\n",
    "cleaned_corpus = pp.process()\n",
    "pp.split(cleaned_corpus)"
   ]
  },
  {
   "cell_type": "markdown",
   "metadata": {},
   "source": [
    "## Subword segmentation"
   ]
  },
  {
   "cell_type": "code",
   "execution_count": 3,
   "metadata": {},
   "outputs": [],
   "source": [
    "import sentpiece\n",
    "sentpiece = reload(sentpiece)"
   ]
  },
  {
   "cell_type": "code",
   "execution_count": 5,
   "metadata": {},
   "outputs": [],
   "source": [
    "TRAIN_DATA_PATH = \"data/processed/bng_train.txt\"\n",
    "TEST_DATA_PATH = \"data/processed/bng_test.txt\"\n",
    "models, test_models = [], []\n",
    "seg_train_path, seg_test_path = [], []\n",
    "start=2500\n",
    "stop=2550\n",
    "step=50\n",
    "\n",
    "for vocab_size in range(start, stop, step):\n",
    "    train_model_name = \"bng_train_\"+str(vocab_size)\n",
    "    test_model_name = \"bng_test_\"+str(vocab_size)\n",
    "    tr_seg_data_path = f\"bng_tr_wd_{str(vocab_size)}.txt\"\n",
    "    te_seg_data_path = f\"bng_te_wd_{str(vocab_size)}.txt\"\n",
    "    \n",
    "    sentpiece.train_model(TRAIN_DATA_PATH, train_model_name, vocab_size, lang=\"bng\")\n",
    "    models.append(train_model_name)\n",
    "    seg_train_path.append(tr_seg_data_path)\n",
    "    \n",
    "    sentpiece.train_model(TEST_DATA_PATH, test_model_name, vocab_size, lang=\"bng\")\n",
    "    test_models.append(test_model_name)\n",
    "    seg_test_path.append(te_seg_data_path)\n",
    "    "
   ]
  },
  {
   "cell_type": "code",
   "execution_count": 6,
   "metadata": {},
   "outputs": [],
   "source": [
    "import shutil, glob, os\n",
    "\n",
    "for model in models+test_models:\n",
    "    for file in glob.glob(f'{model}*'):\n",
    "        cwd = os.getcwd() \n",
    "        src = cwd\n",
    "        dst = cwd + \"/spm_models/\"\n",
    "        shutil.move(os.path.join(src, file), os.path.join(dst, file))"
   ]
  },
  {
   "cell_type": "code",
   "execution_count": 7,
   "metadata": {},
   "outputs": [],
   "source": [
    "for model, seg_path in zip(models,seg_train_path):\n",
    "    sentpiece.segmentation(TRAIN_DATA_PATH, model, seg_path)\n",
    "\n",
    "for model, seg_path in zip(test_models,seg_test_path):\n",
    "    sentpiece.segmentation(TEST_DATA_PATH, model, seg_path)"
   ]
  },
  {
   "cell_type": "markdown",
   "metadata": {},
   "source": [
    "## Train LM"
   ]
  },
  {
   "cell_type": "code",
   "execution_count": 8,
   "metadata": {},
   "outputs": [
    {
     "name": "stdout",
     "output_type": "stream",
     "text": [
      "bng_tr_wd_2500.txt\n"
     ]
    }
   ],
   "source": [
    "for model, seg_path in zip(models,seg_train_path):\n",
    "    print(seg_path)"
   ]
  },
  {
   "cell_type": "code",
   "execution_count": 9,
   "metadata": {},
   "outputs": [
    {
     "name": "stdout",
     "output_type": "stream",
     "text": [
      "hd100_cl2500_3_bng_tr_wd_2500\n",
      "CompletedProcess(args=['bash', 'train_script.sh', 'data/segmented/bng_tr_wd_2500.txt', 'data/segmented/bng_te_wd_2500.txt', 'hd100_cl2500_3_bng_tr_wd_2500', '100', '2500', '3'], returncode=0)\n",
      "hd120_cl2500_3_bng_tr_wd_2500\n",
      "CompletedProcess(args=['bash', 'train_script.sh', 'data/segmented/bng_tr_wd_2500.txt', 'data/segmented/bng_te_wd_2500.txt', 'hd120_cl2500_3_bng_tr_wd_2500', '120', '2500', '3'], returncode=0)\n"
     ]
    }
   ],
   "source": [
    "import subprocess\n",
    "\n",
    "NUM_LAYERS = [100,120]\n",
    "CLASS = [2500]\n",
    "BPTT = [3]\n",
    "\n",
    "dir_path=\"data/segmented/\"\n",
    "\n",
    "for train_file, test_file in zip(seg_train_path, seg_test_path):\n",
    "    for hid in NUM_LAYERS:\n",
    "        for cl in CLASS:\n",
    "            for bp in BPTT:\n",
    "                fname=\"hd\"+str(hid)+\"_cl\"+str(cl)+\"_\"+str(bp)+\"_\"+train_file[train_file.rfind(\"/\")+1:train_file.rfind('.')]\n",
    "                print(fname)\n",
    "                args = ['bash', 'train_script.sh', dir_path+train_file, dir_path+test_file, fname, str(hid), str(cl), str(bp)]\n",
    "                p = subprocess.run(args)\n",
    "                print(p)\n"
   ]
  },
  {
   "cell_type": "markdown",
   "metadata": {},
   "source": [
    "## Data generation\n",
    "#### baseline character model"
   ]
  },
  {
   "cell_type": "code",
   "execution_count": 16,
   "metadata": {},
   "outputs": [],
   "source": [
    "GEN_DATA_PATH = \"data/generated/bng_chr_50/\"\n",
    "MODEL_PATH = f\"./rnnlm_models/bng_chr_50\"\n",
    "\n",
    "from pathlib import Path\n",
    "Path(GEN_DATA_PATH).mkdir(parents=True, exist_ok=True)\n",
    "\n",
    "!bash gen_script.sh $GEN_DATA_PATH $MODEL_PATH"
   ]
  },
  {
   "cell_type": "code",
   "execution_count": 17,
   "metadata": {},
   "outputs": [],
   "source": [
    "# Decoding generated texts\n",
    "sentpiece.desegmentation(\"data/generated/bng_chr_50/100.txt\", \"bng_train_50\")"
   ]
  },
  {
   "cell_type": "markdown",
   "metadata": {},
   "source": [
    "##### OOV comparison"
   ]
  },
  {
   "cell_type": "code",
   "execution_count": 4,
   "metadata": {},
   "outputs": [],
   "source": [
    "import oov\n",
    "oov = reload(oov)"
   ]
  },
  {
   "cell_type": "code",
   "execution_count": 5,
   "metadata": {},
   "outputs": [
    {
     "name": "stdout",
     "output_type": "stream",
     "text": [
      "0.13434656741108353\n"
     ]
    }
   ],
   "source": [
    "# baseline \n",
    "TRAIN_DATA_PATH = \"data/processed/bng_train.txt\"\n",
    "TEST_DATA_PATH = \"data/processed/bng_test.txt\"\n",
    "\n",
    "ov = oov.OOV()\n",
    "train_vocab, test_vocab = ov.get_vocab(TRAIN_DATA_PATH), ov.get_vocab(TEST_DATA_PATH) \n",
    "print(ov.compute_oov_rate(train_vocab, test_vocab))"
   ]
  },
  {
   "cell_type": "code",
   "execution_count": 6,
   "metadata": {},
   "outputs": [
    {
     "name": "stdout",
     "output_type": "stream",
     "text": [
      "10\n",
      "100\n",
      "1000\n",
      "10000\n",
      "100000\n",
      "1000000\n",
      "10000000\n",
      "{10: 0.13434656741108353, 100: 0.13434656741108353, 1000: 0.13434656741108353, 10000: 0.13409842845326717, 100000: 0.1326095947063689, 1000000: 0.1272125723738627, 10000000: 0.1153225806451613}\n"
     ]
    }
   ],
   "source": [
    "# char-level baseline\n",
    "\n",
    "dir_path=\"data/generated/bng_chr_50/\"\n",
    "oov_rates = {}\n",
    "for i in range(1,8):\n",
    "    file=10**i\n",
    "    print(file)\n",
    "    if str(file)+\"_desegmented.txt\" not in os.listdir(dir_path):\n",
    "        sentpiece.desegmentation(dir_path+str(file)+\".txt\", \"bng_train_50\")\n",
    "        \n",
    "    add_vocab = ov.get_vocab(dir_path+str(file)+\"_desegmented.txt\")\n",
    "    oov_rates[file] = ov.compute_oov_rate(ov.augment_vocab(train_vocab, add_vocab), test_vocab)\n",
    "print(oov_rates)"
   ]
  },
  {
   "cell_type": "code",
   "execution_count": 7,
   "metadata": {},
   "outputs": [
    {
     "name": "stderr",
     "output_type": "stream",
     "text": [
      "No handles with labels found to put in legend.\n"
     ]
    },
    {
     "data": {
      "image/png": "[encoded data removed]",
      "text/plain": [
       "<Figure size 432x288 with 1 Axes>"
      ]
     },
     "metadata": {},
     "output_type": "display_data"
    }
   ],
   "source": [
    "ov.plot_oov_rates(oov_rates)"
   ]
  },
  {
   "cell_type": "markdown",
   "metadata": {},
   "source": [
    "##### tuned char-model"
   ]
  },
  {
   "cell_type": "code",
   "execution_count": 8,
   "metadata": {},
   "outputs": [],
   "source": [
    "GEN_DATA_PATH = \"data/generated/hd150_cl50_3_bng_tr_chr_50/\"\n",
    "MODEL_PATH = f\"./rnnlm_models/hd150_cl50_3_bng_tr_chr_50\"\n",
    "\n",
    "from pathlib import Path\n",
    "Path(GEN_DATA_PATH).mkdir(parents=True, exist_ok=True)\n",
    "\n",
    "!bash gen_script.sh $GEN_DATA_PATH $MODEL_PATH"
   ]
  },
  {
   "cell_type": "code",
   "execution_count": 9,
   "metadata": {},
   "outputs": [],
   "source": [
    "# Decoding generated texts\n",
    "sentpiece.desegmentation(\"data/generated/hd150_cl50_3_bng_tr_chr_50/100.txt\", \"bng_train_50\")"
   ]
  },
  {
   "cell_type": "code",
   "execution_count": 15,
   "metadata": {},
   "outputs": [
    {
     "name": "stdout",
     "output_type": "stream",
     "text": [
      "10\n",
      "100\n",
      "1000\n",
      "10000\n",
      "100000\n",
      "1000000\n",
      "10000000\n",
      "{10: 0.13434656741108353, 100: 0.13434656741108353, 1000: 0.13434656741108353, 10000: 0.13424317617866005, 100000: 0.13306451612903225, 1000000: 0.1260545905707196, 10000000: 0.11126964433416046}\n"
     ]
    }
   ],
   "source": [
    "dir_path=\"data/generated/hd150_cl50_3_bng_tr_chr_50/\"\n",
    "oov_rates = {}\n",
    "for i in range(1,8):\n",
    "    file=10**i\n",
    "    print(file)\n",
    "    if str(file)+\"_desegmented.txt\" not in os.listdir(dir_path):\n",
    "        sentpiece.desegmentation(dir_path+str(file)+\".txt\", \"bng_train_50\")\n",
    "        \n",
    "    add_vocab = ov.get_vocab(dir_path+str(file)+\"_desegmented.txt\")\n",
    "    oov_rates[file] = ov.compute_oov_rate(ov.augment_vocab(train_vocab, add_vocab), test_vocab)\n",
    "print(oov_rates)"
   ]
  },
  {
   "cell_type": "code",
   "execution_count": 14,
   "metadata": {},
   "outputs": [
    {
     "name": "stderr",
     "output_type": "stream",
     "text": [
      "No handles with labels found to put in legend.\n"
     ]
    },
    {
     "data": {
      "image/png": "[encoded data removed]",
      "text/plain": [
       "<Figure size 432x288 with 1 Axes>"
      ]
     },
     "metadata": {},
     "output_type": "display_data"
    }
   ],
   "source": [
    "ov.plot_oov_rates(oov_rates)"
   ]
  },
  {
   "cell_type": "markdown",
   "metadata": {},
   "source": [
    "### baseline small word-level model"
   ]
  },
  {
   "cell_type": "code",
   "execution_count": 8,
   "metadata": {},
   "outputs": [],
   "source": [
    "GEN_DATA_PATH = \"data/generated/hd40_cl9999_3_bng_tr_chr_600/\"\n",
    "MODEL_PATH = f\"./rnnlm_models/hd40_cl9999_3_bng_tr_chr_600\"\n",
    "\n",
    "from pathlib import Path\n",
    "Path(GEN_DATA_PATH).mkdir(parents=True, exist_ok=True)\n",
    "\n",
    "!bash gen_script.sh $GEN_DATA_PATH $MODEL_PATH"
   ]
  },
  {
   "cell_type": "code",
   "execution_count": 9,
   "metadata": {},
   "outputs": [],
   "source": [
    "# inspect 100.txt\n",
    "sentpiece.desegmentation(\"data/generated/hd40_cl9999_3_bng_tr_chr_600/100.txt\", \"bng_train_600\")"
   ]
  },
  {
   "cell_type": "markdown",
   "metadata": {},
   "source": [
    "##### OOV comparison"
   ]
  },
  {
   "cell_type": "code",
   "execution_count": 10,
   "metadata": {},
   "outputs": [
    {
     "name": "stdout",
     "output_type": "stream",
     "text": [
      "10\n",
      "100\n",
      "1000\n",
      "10000\n",
      "100000\n",
      "1000000\n",
      "10000000\n",
      "{10: 0.13434656741108353, 100: 0.13434656741108353, 1000: 0.13430521091811415, 10000: 0.13407775020678248, 100000: 0.13114143920595533, 1000000: 0.12210504549214227, 10000000: 0.10483870967741936}\n"
     ]
    }
   ],
   "source": [
    "train_vocab, test_vocab = ov.get_vocab(TRAIN_DATA_PATH), ov.get_vocab(TEST_DATA_PATH) \n",
    "\n",
    "dir_path=\"data/generated/hd40_cl9999_3_bng_tr_chr_600/\"\n",
    "oov_rates = {}\n",
    "for i in range(1,8):\n",
    "    file=10**i\n",
    "    print(file)\n",
    "    if str(file)+\"_desegmented.txt\" not in os.listdir(dir_path):\n",
    "        sentpiece.desegmentation(dir_path+str(file)+\".txt\", \"bng_train_600\")\n",
    "        \n",
    "    add_vocab = ov.get_vocab(dir_path+str(file)+\"_desegmented.txt\")\n",
    "    oov_rates[file] = ov.compute_oov_rate(ov.augment_vocab(train_vocab, add_vocab), test_vocab)\n",
    "print(oov_rates)"
   ]
  },
  {
   "cell_type": "code",
   "execution_count": 11,
   "metadata": {},
   "outputs": [
    {
     "name": "stderr",
     "output_type": "stream",
     "text": [
      "No handles with labels found to put in legend.\n"
     ]
    },
    {
     "data": {
      "image/png": "[encoded data removed]",
      "text/plain": [
       "<Figure size 432x288 with 1 Axes>"
      ]
     },
     "metadata": {},
     "output_type": "display_data"
    }
   ],
   "source": [
    "ov.plot_oov_rates(oov_rates)"
   ]
  },
  {
   "cell_type": "markdown",
   "metadata": {},
   "source": [
    "### tuned small word-level model"
   ]
  },
  {
   "cell_type": "code",
   "execution_count": 6,
   "metadata": {},
   "outputs": [],
   "source": [
    "GEN_DATA_PATH = \"data/generated/hd200_cl600_3_bng_tr_chr_600/\"\n",
    "MODEL_PATH = f\"./rnnlm_models/hd200_cl600_3_bng_tr_chr_600\"\n",
    "\n",
    "from pathlib import Path\n",
    "Path(GEN_DATA_PATH).mkdir(parents=True, exist_ok=True)\n",
    "\n",
    "!bash gen_script.sh $GEN_DATA_PATH $MODEL_PATH"
   ]
  },
  {
   "cell_type": "code",
   "execution_count": 7,
   "metadata": {},
   "outputs": [],
   "source": [
    "# inspect 100.txt\n",
    "sentpiece.desegmentation(\"data/generated/hd200_cl600_3_bng_tr_chr_600/100.txt\", \"bng_train_600\")"
   ]
  },
  {
   "cell_type": "markdown",
   "metadata": {},
   "source": [
    "##### OOV comparison"
   ]
  },
  {
   "cell_type": "code",
   "execution_count": 10,
   "metadata": {},
   "outputs": [
    {
     "name": "stdout",
     "output_type": "stream",
     "text": [
      "10\n",
      "100\n",
      "1000\n",
      "10000\n",
      "100000\n",
      "1000000\n",
      "10000000\n",
      "{10: 0.13434656741108353, 100: 0.13434656741108353, 1000: 0.13430521091811415, 10000: 0.13397435897435897, 100000: 0.13112076095947064, 1000000: 0.12074028122415219, 10000000: 0.1032051282051282}\n"
     ]
    }
   ],
   "source": [
    "train_vocab, test_vocab = ov.get_vocab(TRAIN_DATA_PATH), ov.get_vocab(TEST_DATA_PATH) \n",
    "\n",
    "dir_path=\"data/generated/hd200_cl600_3_bng_tr_chr_600/\"\n",
    "oov_rates = {}\n",
    "for i in range(1,8):\n",
    "    file=10**i\n",
    "    print(file)\n",
    "    if str(file)+\"_desegmented.txt\" not in os.listdir(dir_path):\n",
    "        sentpiece.desegmentation(dir_path+str(file)+\".txt\", \"bng_train_600\")\n",
    "        \n",
    "    add_vocab = ov.get_vocab(dir_path+str(file)+\"_desegmented.txt\")\n",
    "    oov_rates[file] = ov.compute_oov_rate(ov.augment_vocab(train_vocab, add_vocab), test_vocab)\n",
    "print(oov_rates)"
   ]
  },
  {
   "cell_type": "code",
   "execution_count": 11,
   "metadata": {},
   "outputs": [
    {
     "name": "stderr",
     "output_type": "stream",
     "text": [
      "No handles with labels found to put in legend.\n"
     ]
    },
    {
     "data": {
      "image/png": "[encoded data removed]",
      "text/plain": [
       "<Figure size 432x288 with 1 Axes>"
      ]
     },
     "metadata": {},
     "output_type": "display_data"
    }
   ],
   "source": [
    "ov.plot_oov_rates(oov_rates)"
   ]
  },
  {
   "cell_type": "markdown",
   "metadata": {},
   "source": [
    "### large word-level model\n",
    "\n",
    "#### baseline"
   ]
  },
  {
   "cell_type": "code",
   "execution_count": 6,
   "metadata": {},
   "outputs": [],
   "source": [
    "GEN_DATA_PATH = \"data/generated/bng_tr_wd_2500/\"\n",
    "MODEL_PATH = f\"./rnnlm_models/bng_tr_wd_2500\"\n",
    "\n",
    "from pathlib import Path\n",
    "Path(GEN_DATA_PATH).mkdir(parents=True, exist_ok=True)\n",
    "\n",
    "!bash gen_script.sh $GEN_DATA_PATH $MODEL_PATH"
   ]
  },
  {
   "cell_type": "code",
   "execution_count": 7,
   "metadata": {},
   "outputs": [],
   "source": [
    "# inspect 100.txt\n",
    "sentpiece.desegmentation(\"data/generated/bng_tr_wd_2500/100.txt\", \"bng_train_2500\")"
   ]
  },
  {
   "cell_type": "markdown",
   "metadata": {},
   "source": [
    "##### OOV comparison"
   ]
  },
  {
   "cell_type": "code",
   "execution_count": 8,
   "metadata": {},
   "outputs": [
    {
     "name": "stdout",
     "output_type": "stream",
     "text": [
      "10\n",
      "100\n",
      "1000\n",
      "10000\n",
      "100000\n",
      "1000000\n",
      "10000000\n",
      "{10: 0.13434656741108353, 100: 0.13434656741108353, 1000: 0.13432588916459884, 10000: 0.1339330024813896, 100000: 0.13078990901571547, 1000000: 0.12024400330851943, 10000000: 0.10186104218362282}\n"
     ]
    }
   ],
   "source": [
    "train_vocab, test_vocab = ov.get_vocab(TRAIN_DATA_PATH), ov.get_vocab(TEST_DATA_PATH) \n",
    "\n",
    "dir_path=\"data/generated/bng_tr_wd_2500/\"\n",
    "oov_rates = {}\n",
    "for i in range(1,8):\n",
    "    file=10**i\n",
    "    print(file)\n",
    "    if str(file)+\"_desegmented.txt\" not in os.listdir(dir_path):\n",
    "        sentpiece.desegmentation(dir_path+str(file)+\".txt\", \"bng_train_2500\")\n",
    "        \n",
    "    add_vocab = ov.get_vocab(dir_path+str(file)+\"_desegmented.txt\")\n",
    "    oov_rates[file] = ov.compute_oov_rate(ov.augment_vocab(train_vocab, add_vocab), test_vocab)\n",
    "print(oov_rates)"
   ]
  },
  {
   "cell_type": "code",
   "execution_count": 9,
   "metadata": {},
   "outputs": [
    {
     "name": "stderr",
     "output_type": "stream",
     "text": [
      "No handles with labels found to put in legend.\n"
     ]
    },
    {
     "data": {
      "image/png": "[encoded data removed]",
      "text/plain": [
       "<Figure size 432x288 with 1 Axes>"
      ]
     },
     "metadata": {},
     "output_type": "display_data"
    }
   ],
   "source": [
    "ov.plot_oov_rates(oov_rates)"
   ]
  },
  {
   "cell_type": "markdown",
   "metadata": {},
   "source": [
    "### tuned large word model"
   ]
  },
  {
   "cell_type": "code",
   "execution_count": null,
   "metadata": {},
   "outputs": [],
   "source": [
    "GEN_DATA_PATH = \"data/generated/hid50_bng_tr_wd_1500/\"\n",
    "MODEL_PATH = f\"./rnnlm_models/hid50_bng_tr_wd_1500\"\n",
    "\n",
    "from pathlib import Path\n",
    "Path(GEN_DATA_PATH).mkdir(parents=True, exist_ok=True)\n",
    "\n",
    "!bash gen_script.sh $GEN_DATA_PATH $MODEL_PATH"
   ]
  },
  {
   "cell_type": "code",
   "execution_count": null,
   "metadata": {},
   "outputs": [],
   "source": [
    "# inspect 100.txt\n",
    "sentpiece.desegmentation(\"data/generated/hid50_bng_tr_wd_1500/100.txt\", \"bng_train_1500\")"
   ]
  },
  {
   "cell_type": "markdown",
   "metadata": {},
   "source": [
    "##### OOV comparison"
   ]
  },
  {
   "cell_type": "code",
   "execution_count": 6,
   "metadata": {},
   "outputs": [
    {
     "name": "stdout",
     "output_type": "stream",
     "text": [
      "10\n",
      "100\n",
      "1000\n",
      "10000\n",
      "100000\n",
      "1000000\n",
      "10000000\n",
      "{10: 0.13434656741108353, 100: 0.13434656741108353, 1000: 0.13434656741108353, 10000: 0.13409842845326717, 100000: 0.1326095947063689, 1000000: 0.1272125723738627, 10000000: 0.1153225806451613}\n"
     ]
    }
   ],
   "source": [
    "train_vocab, test_vocab = ov.get_vocab(TRAIN_DATA_PATH), ov.get_vocab(TEST_DATA_PATH) \n",
    "\n",
    "dir_path=\"data/generated/hid50_bng_tr_wd_1500/\"\n",
    "oov_rates = {}\n",
    "for i in range(1,8):\n",
    "    file=10**i\n",
    "    print(file)\n",
    "    if str(file)+\"_desegmented.txt\" not in os.listdir(dir_path):\n",
    "        sentpiece.desegmentation(dir_path+str(file)+\".txt\", \"bng_train_1500\")\n",
    "        \n",
    "    add_vocab = ov.get_vocab(dir_path+str(file)+\"_desegmented.txt\")\n",
    "    oov_rates[file] = ov.compute_oov_rate(ov.augment_vocab(train_vocab, add_vocab), test_vocab)\n",
    "print(oov_rates)"
   ]
  },
  {
   "cell_type": "code",
   "execution_count": 7,
   "metadata": {},
   "outputs": [
    {
     "name": "stderr",
     "output_type": "stream",
     "text": [
      "No handles with labels found to put in legend.\n"
     ]
    },
    {
     "data": {
      "image/png": "[encoded data removed]",
      "text/plain": [
       "<Figure size 432x288 with 1 Axes>"
      ]
     },
     "metadata": {},
     "output_type": "display_data"
    }
   ],
   "source": [
    "ov.plot_oov_rates(oov_rates)"
   ]
  },
  {
   "cell_type": "markdown",
   "metadata": {},
   "source": [
    "# Analysis"
   ]
  },
  {
   "cell_type": "code",
   "execution_count": null,
   "metadata": {},
   "outputs": [],
   "source": []
  }
 ],
 "metadata": {
  "kernelspec": {
   "display_name": "Python 3",
   "language": "python",
   "name": "python3"
  },
  "language_info": {
   "codemirror_mode": {
    "name": "ipython",
    "version": 3
   },
   "file_extension": ".py",
   "mimetype": "text/x-python",
   "name": "python",
   "nbconvert_exporter": "python",
   "pygments_lexer": "ipython3",
   "version": "3.6.9"
  }
 },
 "nbformat": 4,
 "nbformat_minor": 2
}
