{
 "metadata": {
  "language_info": {
   "codemirror_mode": {
    "name": "ipython",
    "version": 3
   },
   "file_extension": ".py",
   "mimetype": "text/x-python",
   "name": "python",
   "nbconvert_exporter": "python",
   "pygments_lexer": "ipython3",
   "version": "3.7.10"
  },
  "orig_nbformat": 2,
  "kernelspec": {
   "name": "python3",
   "display_name": "Python 3.7.10 64-bit ('snlp': conda)",
   "metadata": {
    "interpreter": {
     "hash": "2ff9090dfdad0989f1bba43fdc84eca73f850cacb0ad7e457a2bb7d28546cc9f"
    }
   }
  }
 },
 "nbformat": 4,
 "nbformat_minor": 2,
 "cells": [
  {
   "source": [
    "# English - Alice in wonderland\n",
    "\n",
    "## Data preparation"
   ],
   "cell_type": "markdown",
   "metadata": {}
  },
  {
   "cell_type": "code",
   "execution_count": 1,
   "metadata": {},
   "outputs": [],
   "source": [
    "from importlib import reload\n",
    "\n",
    "import preprocessor\n",
    "preprocessor = reload(preprocessor)\n",
    "\n",
    "\n",
    "pp = preprocessor.Preprocessor(\"data/original/alice_in_wonderland.txt\", \"eng\")\n",
    "cleaned_corpus = pp.process()\n",
    "pp.split(cleaned_corpus)"
   ]
  },
  {
   "source": [
    "## Subword segmentation"
   ],
   "cell_type": "markdown",
   "metadata": {}
  },
  {
   "cell_type": "code",
   "execution_count": 5,
   "metadata": {},
   "outputs": [],
   "source": [
    "import sentpiece\n",
    "sentpiece = reload(sentpiece)\n",
    "\n",
    "\n",
    "NUM_CHARS = 44\n",
    "TRAIN_DATA_PATH = \"data/processed/eng_train.txt\"\n",
    "MODEL_NAME = \"eng_model_chr\"\n",
    "SEG_DATA_PATH = \"eng_chr.txt\"\n",
    "\n",
    "\n",
    "sentpiece.train_model(TRAIN_DATA_PATH, MODEL_NAME, NUM_CHARS)"
   ]
  },
  {
   "cell_type": "code",
   "execution_count": 6,
   "metadata": {},
   "outputs": [],
   "source": [
    "!mv $MODEL_NAME* spm_models/"
   ]
  },
  {
   "cell_type": "code",
   "execution_count": 7,
   "metadata": {},
   "outputs": [],
   "source": [
    "sentpiece.segmentation(TRAIN_DATA_PATH, MODEL_NAME, SEG_DATA_PATH)"
   ]
  },
  {
   "source": [
    "## Train LM"
   ],
   "cell_type": "markdown",
   "metadata": {}
  },
  {
   "cell_type": "code",
   "execution_count": 14,
   "metadata": {},
   "outputs": [
    {
     "output_type": "stream",
     "name": "stdout",
     "text": [
      "rm: cannot remove 'rnnlm/models/model': No such file or directory\n",
      "rm: cannot remove 'rnnlm/models/model.output.txt': No such file or directory\n",
      "debug mode: 2\n",
      "train file: data/segmented/eng_chr.txt\n",
      "valid file: data/processed/eng_test.txt\n",
      "class size: 9999\n",
      "Hidden layer size: 40\n",
      "BPTT: 3\n",
      "Rand seed: 1\n",
      "rnnlm file: model\n",
      "Starting training using file data/segmented/eng_chr.txt\n",
      "Vocab size: 42\n",
      "Words in train file: 113695\n",
      "WARNING: number of classes exceeds vocabulary size!\n",
      "Iter:   0\tAlpha: 0.100000\t   TRAIN entropy: 3.0615    Words/sec: 571.7   VALID entropy: 12.5994\n",
      "Iter:   1\tAlpha: 0.100000\t   TRAIN entropy: 2.6278    Words/sec: 511.4   VALID entropy: 13.6886\n",
      "Iter:   2\tAlpha: 0.050000\t   TRAIN entropy: 2.5822    Words/sec: 493.1   VALID entropy: 13.6706\n",
      "\n",
      "real\t11m4.928s\n",
      "user\t11m2.247s\n",
      "sys\t0m0.222s\n"
     ]
    }
   ],
   "source": [
    "TRAIN_SEG_DATA_PATH = \"data/segmented/eng_chr.txt\"\n",
    "NUM_LAYERS = 40\n",
    "CLASS = 9999\n",
    "BPTT = 3\n",
    "\n",
    "\n",
    "!bash train_script.sh $TRAIN_SEG_DATA_PATH \"data/processed/eng_test.txt\" $NUM_LAYERS $CLASS $BPTT"
   ]
  },
  {
   "cell_type": "code",
   "execution_count": 15,
   "metadata": {},
   "outputs": [
    {
     "output_type": "stream",
     "name": "stdout",
     "text": [
      "mv: target 'rnnlm_models/' is not a directory\n"
     ]
    }
   ],
   "source": [
    "MODEL_OUTPUT = MODEL_NAME + \".output.txt\"\n",
    "\n",
    "!mv model $MODEL_NAME\n",
    "!mv model.output.txt $MODEL_OUTPUT\n",
    "\n",
    "!mv $MODEL_NAME $MODEL_OUTPUT rnnlm_models/"
   ]
  },
  {
   "source": [
    "## Data generation"
   ],
   "cell_type": "markdown",
   "metadata": {}
  },
  {
   "cell_type": "code",
   "execution_count": 16,
   "metadata": {},
   "outputs": [],
   "source": [
    "GEN_DATA_PATH = \"data/generated/eng_model_chr/\"\n",
    "MODEL_PATH = f\"./rnnlm_models/{MODEL_NAME}\"\n",
    "\n",
    "!bash gen_script.sh $GEN_DATA_PATH $MODEL_PATH"
   ]
  },
  {
   "source": [
    "# Bengali"
   ],
   "cell_type": "markdown",
   "metadata": {}
  },
  {
   "cell_type": "code",
   "execution_count": null,
   "metadata": {},
   "outputs": [],
   "source": []
  },
  {
   "source": [
    "# Analysis"
   ],
   "cell_type": "markdown",
   "metadata": {}
  },
  {
   "cell_type": "code",
   "execution_count": null,
   "metadata": {},
   "outputs": [],
   "source": []
  }
 ]
}