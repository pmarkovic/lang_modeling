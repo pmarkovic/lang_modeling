{
 "cells": [
  {
   "cell_type": "markdown",
   "metadata": {},
   "source": [
    "# English - Alice in wonderland\n",
    "\n",
    "## Data preparation"
   ]
  },
  {
   "cell_type": "code",
   "execution_count": 1,
   "metadata": {},
   "outputs": [],
   "source": [
    "from importlib import reload\n",
    "import os"
   ]
  },
  {
   "cell_type": "code",
   "execution_count": 2,
   "metadata": {},
   "outputs": [
    {
     "name": "stdout",
     "output_type": "stream",
     "text": [
      "118597 29650\n"
     ]
    }
   ],
   "source": [
    "import preprocessor\n",
    "preprocessor = reload(preprocessor)\n",
    "\n",
    "\n",
    "pp = preprocessor.Preprocessor(\"data/original/alice_in_wonderland.txt\", \"eng\")\n",
    "cleaned_corpus = pp.process()\n",
    "pp.split(cleaned_corpus)"
   ]
  },
  {
   "cell_type": "markdown",
   "metadata": {},
   "source": [
    "## Subword segmentation"
   ]
  },
  {
   "cell_type": "code",
   "execution_count": 3,
   "metadata": {},
   "outputs": [],
   "source": [
    "import sentpiece\n",
    "sentpiece = reload(sentpiece)\n",
    "\n",
    "\n",
    "NUM_CHARS = 100\n",
    "TRAIN_DATA_PATH = \"data/processed/eng_train.txt\"\n",
    "MODEL_NAME = \"eng_model_sml\"\n",
    "SEG_DATA_PATH = \"eng_sml.txt\"\n",
    "\n",
    "\n",
    "sentpiece.train_model(TRAIN_DATA_PATH, MODEL_NAME, NUM_CHARS)"
   ]
  },
  {
   "cell_type": "code",
   "execution_count": 4,
   "metadata": {},
   "outputs": [],
   "source": [
    "!mv $MODEL_NAME* spm_models/"
   ]
  },
  {
   "cell_type": "code",
   "execution_count": 5,
   "metadata": {},
   "outputs": [],
   "source": [
    "sentpiece.segmentation(TRAIN_DATA_PATH, MODEL_NAME, SEG_DATA_PATH)"
   ]
  },
  {
   "cell_type": "markdown",
   "metadata": {},
   "source": [
    "## Train LM"
   ]
  },
  {
   "cell_type": "code",
   "execution_count": 18,
   "metadata": {},
   "outputs": [
    {
     "name": "stdout",
     "output_type": "stream",
     "text": [
      "rm: cannot remove 'rnnlm/models/model': No such file or directory\n",
      "rm: cannot remove 'rnnlm/models/model.output.txt': No such file or directory\n",
      "debug mode: 2\n",
      "train file: data/segmented/eng_sml.txt\n",
      "valid file: data/processed/eng_test.txt\n",
      "class size: 9999\n",
      "Hidden layer size: 40\n",
      "BPTT: 3\n",
      "Rand seed: 1\n",
      "rnnlm file: model\n",
      "Starting training using file data/segmented/eng_sml.txt\n",
      "Vocab size: 98\n",
      "Words in train file: 70003\n",
      "WARNING: number of classes exceeds vocabulary size!\n",
      "Iter:   0\tAlpha: 0.100000\t   TRAIN entropy: 4.9914    Words/sec: 1226.2   VALID entropy: 11.5537\n",
      "Iter:   1\tAlpha: 0.100000\t   TRAIN entropy: 4.1096    Words/sec: 1382.2   VALID entropy: 12.4125\n",
      "Iter:   2\tAlpha: 0.050000\t   TRAIN entropy: 4.0804    Words/sec: 1380.0   VALID entropy: 12.5771\n",
      "\n",
      "real\t2m43.524s\n",
      "user\t2m42.983s\n",
      "sys\t0m0.176s\n"
     ]
    }
   ],
   "source": [
    "TRAIN_SEG_DATA_PATH = \"data/segmented/eng_sml.txt\"\n",
    "NUM_LAYERS = 40\n",
    "CLASS = 9999\n",
    "BPTT = 3\n",
    "\n",
    "\n",
    "!bash train_script.sh $TRAIN_SEG_DATA_PATH \"data/processed/eng_test.txt\" $NUM_LAYERS $CLASS $BPTT"
   ]
  },
  {
   "cell_type": "code",
   "execution_count": 19,
   "metadata": {},
   "outputs": [],
   "source": [
    "MODEL_OUTPUT = MODEL_NAME + \".output.txt\"\n",
    "\n",
    "!mv model $MODEL_NAME\n",
    "!mv model.output.txt $MODEL_OUTPUT\n",
    "\n",
    "!mv $MODEL_NAME $MODEL_OUTPUT rnnlm_models/"
   ]
  },
  {
   "cell_type": "markdown",
   "metadata": {},
   "source": [
    "## Data generation"
   ]
  },
  {
   "cell_type": "code",
   "execution_count": 21,
   "metadata": {},
   "outputs": [
    {
     "name": "stdout",
     "output_type": "stream",
     "text": [
      "^C\n"
     ]
    }
   ],
   "source": [
    "GEN_DATA_PATH = \"data/generated/eng_model_sml/\"\n",
    "MODEL_PATH = f\"./rnnlm_models/{MODEL_NAME}\"\n",
    "\n",
    "!bash gen_script.sh $GEN_DATA_PATH $MODEL_PATH"
   ]
  },
  {
   "cell_type": "code",
   "execution_count": 22,
   "metadata": {},
   "outputs": [],
   "source": [
    "# Decoding generated texts\n",
    "\n",
    "sentpiece.desegmentation(\"data/generated/eng_model_sml/100.txt\", \"eng_model_chr\")"
   ]
  },
  {
   "cell_type": "markdown",
   "metadata": {},
   "source": [
    "# Bengali"
   ]
  },
  {
   "cell_type": "code",
   "execution_count": 1,
   "metadata": {},
   "outputs": [],
   "source": [
    "from importlib import reload\n",
    "import os"
   ]
  },
  {
   "cell_type": "code",
   "execution_count": 2,
   "metadata": {},
   "outputs": [
    {
     "name": "stdout",
     "output_type": "stream",
     "text": [
      "10861 2716\n"
     ]
    }
   ],
   "source": [
    "import preprocessor\n",
    "preprocessor = reload(preprocessor)\n",
    "\n",
    "\n",
    "pp = preprocessor.Preprocessor(\"data/original/bengali_corpus.txt\", \"bng\")\n",
    "cleaned_corpus = pp.process()\n",
    "pp.split(cleaned_corpus)"
   ]
  },
  {
   "cell_type": "markdown",
   "metadata": {},
   "source": [
    "## Subword segmentation"
   ]
  },
  {
   "cell_type": "code",
   "execution_count": 14,
   "metadata": {},
   "outputs": [],
   "source": [
    "import sentpiece\n",
    "sentpiece = reload(sentpiece)"
   ]
  },
  {
   "cell_type": "code",
   "execution_count": 19,
   "metadata": {},
   "outputs": [],
   "source": [
    "TRAIN_DATA_PATH = \"data/processed/bng_train.txt\"\n",
    "TEST_DATA_PATH = \"data/processed/bng_test.txt\"\n",
    "models, test_models = [], []\n",
    "seg_train_path, seg_test_path = [], []\n",
    "start=100\n",
    "stop=150\n",
    "step=50\n",
    "\n",
    "for vocab_size in range(start, stop, step):\n",
    "    train_model_name = \"bng_train_\"+str(vocab_size)\n",
    "    test_model_name = \"bng_test_\"+str(vocab_size)\n",
    "    tr_seg_data_path = f\"bng_tr_wd_{str(vocab_size)}.txt\"\n",
    "    te_seg_data_path = f\"bng_te_wd_{str(vocab_size)}.txt\"\n",
    "    \n",
    "    sentpiece.train_model(TRAIN_DATA_PATH, train_model_name, vocab_size, lang=\"bng\")\n",
    "    models.append(train_model_name)\n",
    "    seg_train_path.append(tr_seg_data_path)\n",
    "    \n",
    "    sentpiece.train_model(TEST_DATA_PATH, test_model_name, vocab_size, lang=\"bng\")\n",
    "    test_models.append(test_model_name)\n",
    "    seg_test_path.append(te_seg_data_path)\n",
    "    "
   ]
  },
  {
   "cell_type": "code",
   "execution_count": 5,
   "metadata": {},
   "outputs": [],
   "source": [
    "import shutil, glob, os\n",
    "\n",
    "for model in models+test_models:\n",
    "    for file in glob.glob(f'{model}*'):\n",
    "        cwd = os.getcwd() \n",
    "        src = cwd\n",
    "        dst = cwd + \"/spm_models/\"\n",
    "        shutil.move(os.path.join(src, file), os.path.join(dst, file))"
   ]
  },
  {
   "cell_type": "code",
   "execution_count": 6,
   "metadata": {},
   "outputs": [],
   "source": [
    "for model, seg_path in zip(models,seg_train_path):\n",
    "    sentpiece.segmentation(TRAIN_DATA_PATH, model, seg_path)\n",
    "\n",
    "for model, seg_path in zip(test_models,seg_test_path):\n",
    "    sentpiece.segmentation(TEST_DATA_PATH, model, seg_path)"
   ]
  },
  {
   "cell_type": "code",
   "execution_count": 29,
   "metadata": {},
   "outputs": [
    {
     "name": "stdout",
     "output_type": "stream",
     "text": [
      "50.txt : ▁ য ত ্ ত স ব ▁ প া প ন ▁ শ া ল া র ▁ ফ া জ ল া ম ী ▁ প া প ন ▁ শ া ল া ▁ র ে ▁ র ি ম া ন ্ ড ে ▁ ন ে ও য ় া ▁ দ র ক া র জ ি ল ্ ল ু র ▁ র হ ম া ন ▁ \n",
      "\n",
      "\n",
      "100.txt : ▁য ত ্ ত স ব ▁প া প ন ▁শ াল ার ▁ ফ া জ লা ম ী ▁প া প ন ▁শ াল া ▁ র ে ▁ র ি ম ান ্ ড ে ▁ন ে ও য়া ▁দ র ক ার জ ি ল ্ ল ু র ▁ র হ ম ান ▁স ্য ার ের ▁ ছে ল\n",
      "\n",
      "\n",
      "1500.txt : ▁যত ্ত সব ▁পাপন ▁শালার ▁ফা জ লাম ী ▁পাপন ▁শালা ▁রে ▁রি মান ্ড ে ▁নে ওয়া ▁দরকার জি ল্ ল ুর ▁রহমান ▁স্যারের ▁ছেলে ▁এতো ▁বড় ▁জারজ ▁হবে ▁এটা ▁একটা ▁দেশে\n",
      "\n",
      "\n"
     ]
    }
   ],
   "source": [
    "## a snippet of generated files\n",
    "selected_files = [\"data/segmented/bng_tr_chr_50.txt\", \"data/segmented/bng_tr_chr_100.txt\", \"data/segmented/bng_tr_wd_1500.txt\"]\n",
    "for path in selected_files:\n",
    "    with open(path) as f:\n",
    "        data = f.read()[:150]\n",
    "        print(f\"{path[path.rfind('_')+1:]} : {data}\")\n",
    "        print(\"\\n\")"
   ]
  },
  {
   "cell_type": "markdown",
   "metadata": {},
   "source": [
    "### Observation in terms of word segmentation.\n",
    "In the character-level segmented file (with vocab size 50), we get distinct tokens for consonant and vowel symbols, whereas in small word level segmented file (with vocab size 100), we can see (almost) syllable level tokens with vowel symbols combined with their consonant counterparts, but one can also still find separate characters in this file. In the large word-level segmented file (with vocab size 1500), we see larger-sized tokens (with two or more syllables) and sometimes, even fully-formed words. "
   ]
  },
  {
   "cell_type": "markdown",
   "metadata": {},
   "source": [
    "## Train LM"
   ]
  },
  {
   "cell_type": "code",
   "execution_count": 7,
   "metadata": {},
   "outputs": [
    {
     "name": "stdout",
     "output_type": "stream",
     "text": [
      "bng_tr_wd_1500.txt\n"
     ]
    }
   ],
   "source": [
    "for model, seg_path in zip(models,seg_train_path):\n",
    "    print(seg_path)"
   ]
  },
  {
   "cell_type": "code",
   "execution_count": null,
   "metadata": {},
   "outputs": [
    {
     "name": "stdout",
     "output_type": "stream",
     "text": [
      "hd50_cl10000_3_bng_tr_wd_1500\n"
     ]
    }
   ],
   "source": [
    "import subprocess\n",
    "\n",
    "NUM_LAYERS = [50] \n",
    "CLASS = [10000, 11000]\n",
    "BPTT = [3]\n",
    "\n",
    "dir_path=\"data/segmented/\"\n",
    "\n",
    "for train_file, test_file in zip(seg_train_path, seg_test_path):\n",
    "    for hid in NUM_LAYERS:\n",
    "        for cl in CLASS:\n",
    "            for bp in BPTT:\n",
    "                fname=\"hd\"+str(hid)+\"_cl\"+str(cl)+\"_\"+str(bp)+\"_\"+train_file[train_file.rfind(\"/\")+1:train_file.rfind('.')]\n",
    "                print(fname)\n",
    "                args = ['bash', 'train_script.sh', dir_path+train_file, dir_path+test_file, fname, str(hid), str(cl), str(bp)]\n",
    "                p = subprocess.run(args)\n",
    "                print(p)\n"
   ]
  },
  {
   "cell_type": "markdown",
   "metadata": {},
   "source": [
    "Perplexities for the selected baselines and tuned-models are reported in the [table below with OOV-rates](#observations)"
   ]
  },
  {
   "cell_type": "markdown",
   "metadata": {},
   "source": [
    "## Data generation\n",
    "#### baseline character model"
   ]
  },
  {
   "cell_type": "code",
   "execution_count": 7,
   "metadata": {},
   "outputs": [],
   "source": [
    "GEN_DATA_PATH = \"data/generated/bng_chr_50/\"\n",
    "MODEL_PATH = f\"./rnnlm_models/bng_chr_50\"\n",
    "\n",
    "from pathlib import Path\n",
    "Path(GEN_DATA_PATH).mkdir(parents=True, exist_ok=True)\n",
    "\n",
    "!bash gen_script.sh $GEN_DATA_PATH $MODEL_PATH"
   ]
  },
  {
   "cell_type": "code",
   "execution_count": 8,
   "metadata": {},
   "outputs": [],
   "source": [
    "# Decoding generated texts\n",
    "sentpiece.desegmentation(\"data/generated/bng_chr_50/100.txt\", \"bng_train_50\")"
   ]
  },
  {
   "cell_type": "markdown",
   "metadata": {},
   "source": [
    "##### OOV comparison"
   ]
  },
  {
   "cell_type": "code",
   "execution_count": 3,
   "metadata": {},
   "outputs": [],
   "source": [
    "import oov\n",
    "oov = reload(oov)"
   ]
  },
  {
   "cell_type": "code",
   "execution_count": 4,
   "metadata": {},
   "outputs": [
    {
     "name": "stdout",
     "output_type": "stream",
     "text": [
      "0.13434656741108353\n"
     ]
    }
   ],
   "source": [
    "# baseline \n",
    "TRAIN_DATA_PATH = \"data/processed/bng_train.txt\"\n",
    "TEST_DATA_PATH = \"data/processed/bng_test.txt\"\n",
    "\n",
    "ov = oov.OOV()\n",
    "train_vocab, test_vocab = ov.get_vocab(TRAIN_DATA_PATH), ov.get_vocab(TEST_DATA_PATH) \n",
    "print(ov.compute_oov_rate(train_vocab, test_vocab))"
   ]
  },
  {
   "cell_type": "code",
   "execution_count": 6,
   "metadata": {},
   "outputs": [
    {
     "name": "stdout",
     "output_type": "stream",
     "text": [
      "10\n",
      "100\n",
      "1000\n",
      "10000\n",
      "100000\n",
      "1000000\n",
      "10000000\n",
      "{10: 0.13434656741108353, 100: 0.13434656741108353, 1000: 0.13434656741108353, 10000: 0.13409842845326717, 100000: 0.1326095947063689, 1000000: 0.1272125723738627, 10000000: 0.1153225806451613}\n"
     ]
    }
   ],
   "source": [
    "# char-level baseline\n",
    "\n",
    "dir_path=\"data/generated/bng_chr_50/\"\n",
    "oov_rates = {}\n",
    "for i in range(1,8):\n",
    "    file=10**i\n",
    "    print(file)\n",
    "    if str(file)+\"_desegmented.txt\" not in os.listdir(dir_path):\n",
    "        sentpiece.desegmentation(dir_path+str(file)+\".txt\", \"bng_train_50\")\n",
    "        \n",
    "    add_vocab = ov.get_vocab(dir_path+str(file)+\"_desegmented.txt\")\n",
    "    oov_rates[file] = ov.compute_oov_rate(ov.augment_vocab(train_vocab, add_vocab), test_vocab)\n",
    "print(oov_rates)"
   ]
  },
  {
   "cell_type": "code",
   "execution_count": 7,
   "metadata": {},
   "outputs": [
    {
     "name": "stderr",
     "output_type": "stream",
     "text": [
      "No handles with labels found to put in legend.\n"
     ]
    },
    {
     "data": {
      "image/png": "[encoded data removed]",
      "text/plain": [
       "<Figure size 432x288 with 1 Axes>"
      ]
     },
     "metadata": {},
     "output_type": "display_data"
    }
   ],
   "source": [
    "ov.plot_oov_rates(oov_rates)"
   ]
  },
  {
   "cell_type": "markdown",
   "metadata": {},
   "source": [
    "##### tuned char-model"
   ]
  },
  {
   "cell_type": "code",
   "execution_count": 8,
   "metadata": {},
   "outputs": [],
   "source": [
    "GEN_DATA_PATH = \"data/generated/hd150_cl50_3_bng_tr_chr_50/\"\n",
    "MODEL_PATH = f\"./rnnlm_models/hd150_cl50_3_bng_tr_chr_50\"\n",
    "\n",
    "from pathlib import Path\n",
    "Path(GEN_DATA_PATH).mkdir(parents=True, exist_ok=True)\n",
    "\n",
    "!bash gen_script.sh $GEN_DATA_PATH $MODEL_PATH"
   ]
  },
  {
   "cell_type": "code",
   "execution_count": 10,
   "metadata": {},
   "outputs": [],
   "source": [
    "# Decoding generated texts\n",
    "sentpiece.desegmentation(\"data/generated/hd150_cl50_3_bng_tr_chr_50/100.txt\", \"bng_train_50\")"
   ]
  },
  {
   "cell_type": "code",
   "execution_count": 15,
   "metadata": {},
   "outputs": [
    {
     "name": "stdout",
     "output_type": "stream",
     "text": [
      "10\n",
      "100\n",
      "1000\n",
      "10000\n",
      "100000\n",
      "1000000\n",
      "10000000\n",
      "{10: 0.13434656741108353, 100: 0.13434656741108353, 1000: 0.13434656741108353, 10000: 0.13424317617866005, 100000: 0.13306451612903225, 1000000: 0.1260545905707196, 10000000: 0.11126964433416046}\n"
     ]
    }
   ],
   "source": [
    "dir_path=\"data/generated/hd150_cl50_3_bng_tr_chr_50/\"\n",
    "oov_rates = {}\n",
    "for i in range(1,8):\n",
    "    file=10**i\n",
    "    print(file)\n",
    "    if str(file)+\"_desegmented.txt\" not in os.listdir(dir_path):\n",
    "        sentpiece.desegmentation(dir_path+str(file)+\".txt\", \"bng_train_50\")\n",
    "        \n",
    "    add_vocab = ov.get_vocab(dir_path+str(file)+\"_desegmented.txt\")\n",
    "    oov_rates[file] = ov.compute_oov_rate(ov.augment_vocab(train_vocab, add_vocab), test_vocab)\n",
    "print(oov_rates)"
   ]
  },
  {
   "cell_type": "code",
   "execution_count": 14,
   "metadata": {},
   "outputs": [
    {
     "name": "stderr",
     "output_type": "stream",
     "text": [
      "No handles with labels found to put in legend.\n"
     ]
    },
    {
     "data": {
      "image/png": "[encoded data removed]",
      "text/plain": [
       "<Figure size 432x288 with 1 Axes>"
      ]
     },
     "metadata": {},
     "output_type": "display_data"
    }
   ],
   "source": [
    "ov.plot_oov_rates(oov_rates)"
   ]
  },
  {
   "cell_type": "markdown",
   "metadata": {},
   "source": [
    "### baseline small word-level model"
   ]
  },
  {
   "cell_type": "code",
   "execution_count": 5,
   "metadata": {},
   "outputs": [],
   "source": [
    "GEN_DATA_PATH = \"data/generated/bng_tr_chr_100\"#\"data/generated/hd40_cl9999_3_bng_tr_chr_600/\"\n",
    "MODEL_PATH = f\"./rnnlm_models/bng_tr_chr_100\"\n",
    "\n",
    "from pathlib import Pat5                                                                                                                        h\n",
    "Path(GEN_DATA_PATH).mkdir(parents=True, exist_ok=True)\n",
    "\n",
    "!bash gen_script.sh $GEN_DATA_PATH $MODEL_PATH"
   ]
  },
  {
   "cell_type": "code",
   "execution_count": 9,
   "metadata": {},
   "outputs": [],
   "source": [
    "# inspect 100.txt\n",
    "sentpiece.desegmentation(\"data/generated/bng_tr_chr_100/100.txt\", \"bng_train_100\")"
   ]
  },
  {
   "cell_type": "markdown",
   "metadata": {},
   "source": [
    "##### OOV comparison"
   ]
  },
  {
   "cell_type": "code",
   "execution_count": 11,
   "metadata": {},
   "outputs": [
    {
     "name": "stdout",
     "output_type": "stream",
     "text": [
      "10\n",
      "100\n",
      "1000\n",
      "10000\n",
      "100000\n",
      "1000000\n",
      "10000000\n",
      "{10: 0.13434656741108353, 100: 0.13430521091811415, 1000: 0.13428453267162946, 10000: 0.13409842845326717, 100000: 0.13221670802315963, 1000000: 0.1248759305210918, 10000000: 0.11226220016542597}\n"
     ]
    }
   ],
   "source": [
    "train_vocab, test_vocab = ov.get_vocab(TRAIN_DATA_PATH), ov.get_vocab(TEST_DATA_PATH) \n",
    "\n",
    "dir_path=\"data/generated/bng_tr_chr_100/\" #\"data/generated/hd40_cl9999_3_bng_tr_chr_600/\"\n",
    "oov_rates = {}\n",
    "for i in range(1,8):\n",
    "    file=10**i\n",
    "    print(file)\n",
    "    if str(file)+\"_desegmented.txt\" not in os.listdir(dir_path):\n",
    "        sentpiece.desegmentation(dir_path+str(file)+\".txt\", \"bng_train_100\")\n",
    "        \n",
    "    add_vocab = ov.get_vocab(dir_path+str(file)+\"_desegmented.txt\")\n",
    "    oov_rates[file] = ov.compute_oov_rate(ov.augment_vocab(train_vocab, add_vocab), test_vocab)\n",
    "print(oov_rates)"
   ]
  },
  {
   "cell_type": "code",
   "execution_count": 12,
   "metadata": {},
   "outputs": [
    {
     "name": "stderr",
     "output_type": "stream",
     "text": [
      "No handles with labels found to put in legend.\n"
     ]
    },
    {
     "data": {
      "image/png": "[encoded data removed]",
      "text/plain": [
       "<Figure size 432x288 with 1 Axes>"
      ]
     },
     "metadata": {},
     "output_type": "display_data"
    }
   ],
   "source": [
    "ov.plot_oov_rates(oov_rates)"
   ]
  },
  {
   "cell_type": "markdown",
   "metadata": {},
   "source": [
    "### tuned small word-level model"
   ]
  },
  {
   "cell_type": "code",
   "execution_count": 13,
   "metadata": {},
   "outputs": [],
   "source": [
    "GEN_DATA_PATH = \"data/generated/hd200_cl100_3_bng_tr_chr_100/\" #hd200_cl600_3_bng_tr_chr_600/\"\n",
    "MODEL_PATH = f\"./rnnlm_models/hd200_cl100_3_bng_tr_chr_100\" #hd200_cl600_3_bng_tr_chr_600\"\n",
    "\n",
    "from pathlib import Path\n",
    "Path(GEN_DATA_PATH).mkdir(parents=True, exist_ok=True)\n",
    "\n",
    "!bash gen_script.sh $GEN_DATA_PATH $MODEL_PATH"
   ]
  },
  {
   "cell_type": "code",
   "execution_count": 14,
   "metadata": {},
   "outputs": [],
   "source": [
    "# inspect 100.txt\n",
    "sentpiece.desegmentation(\"data/generated/hd200_cl100_3_bng_tr_chr_100/100.txt\", \"bng_train_100\")"
   ]
  },
  {
   "cell_type": "markdown",
   "metadata": {},
   "source": [
    "##### OOV comparison"
   ]
  },
  {
   "cell_type": "code",
   "execution_count": 15,
   "metadata": {},
   "outputs": [
    {
     "name": "stdout",
     "output_type": "stream",
     "text": [
      "10\n",
      "100\n",
      "1000\n",
      "10000\n",
      "100000\n",
      "1000000\n",
      "10000000\n",
      "{10: 0.13434656741108353, 100: 0.13432588916459884, 1000: 0.13426385442514474, 10000: 0.13399503722084366, 100000: 0.13194789081885855, 1000000: 0.12334574028122415, 10000000: 0.1065136476426799}\n"
     ]
    }
   ],
   "source": [
    "train_vocab, test_vocab = ov.get_vocab(TRAIN_DATA_PATH), ov.get_vocab(TEST_DATA_PATH) \n",
    "\n",
    "dir_path=\"data/generated/hd200_cl100_3_bng_tr_chr_100/\"\n",
    "oov_rates = {}\n",
    "for i in range(1,8):\n",
    "    file=10**i\n",
    "    print(file)\n",
    "    if str(file)+\"_desegmented.txt\" not in os.listdir(dir_path):\n",
    "        sentpiece.desegmentation(dir_path+str(file)+\".txt\", \"bng_train_100\")\n",
    "        \n",
    "    add_vocab = ov.get_vocab(dir_path+str(file)+\"_desegmented.txt\")\n",
    "    oov_rates[file] = ov.compute_oov_rate(ov.augment_vocab(train_vocab, add_vocab), test_vocab)\n",
    "print(oov_rates)"
   ]
  },
  {
   "cell_type": "code",
   "execution_count": 16,
   "metadata": {},
   "outputs": [
    {
     "name": "stderr",
     "output_type": "stream",
     "text": [
      "No handles with labels found to put in legend.\n"
     ]
    },
    {
     "data": {
      "image/png": "[encoded data removed]",
      "text/plain": [
       "<Figure size 432x288 with 1 Axes>"
      ]
     },
     "metadata": {},
     "output_type": "display_data"
    }
   ],
   "source": [
    "ov.plot_oov_rates(oov_rates)"
   ]
  },
  {
   "cell_type": "markdown",
   "metadata": {},
   "source": [
    "### large word-level model\n",
    "\n",
    "#### baseline"
   ]
  },
  {
   "cell_type": "code",
   "execution_count": 9,
   "metadata": {},
   "outputs": [],
   "source": [
    "GEN_DATA_PATH = \"data/generated/bng_tr_wd_1500/\"\n",
    "MODEL_PATH = f\"./rnnlm_models/bng_tr_wd_1500\"\n",
    "\n",
    "from pathlib import Path\n",
    "Path(GEN_DATA_PATH).mkdir(parents=True, exist_ok=True)\n",
    "\n",
    "!bash gen_script.sh $GEN_DATA_PATH $MODEL_PATH"
   ]
  },
  {
   "cell_type": "code",
   "execution_count": 10,
   "metadata": {},
   "outputs": [],
   "source": [
    "# inspect 100.txt\n",
    "sentpiece.desegmentation(\"data/generated/bng_tr_wd_1500/100.txt\", \"bng_train_1500\")"
   ]
  },
  {
   "cell_type": "markdown",
   "metadata": {},
   "source": [
    "##### OOV comparison"
   ]
  },
  {
   "cell_type": "code",
   "execution_count": 11,
   "metadata": {},
   "outputs": [
    {
     "name": "stdout",
     "output_type": "stream",
     "text": [
      "10\n",
      "100\n",
      "1000\n",
      "10000\n",
      "100000\n",
      "1000000\n",
      "10000000\n",
      "{10: 0.13434656741108353, 100: 0.13434656741108353, 1000: 0.13432588916459884, 10000: 0.13395368072787428, 100000: 0.13091397849462366, 1000000: 0.12022332506203474, 10000000: 0.10256410256410256}\n"
     ]
    }
   ],
   "source": [
    "train_vocab, test_vocab = ov.get_vocab(TRAIN_DATA_PATH), ov.get_vocab(TEST_DATA_PATH) \n",
    "\n",
    "dir_path=\"data/generated/bng_tr_wd_1500/\"\n",
    "oov_rates = {}\n",
    "for i in range(1,8):\n",
    "    file=10**i\n",
    "    print(file)\n",
    "    if str(file)+\"_desegmented.txt\" not in os.listdir(dir_path):\n",
    "        sentpiece.desegmentation(dir_path+str(file)+\".txt\", \"bng_train_1500\")\n",
    "        \n",
    "    add_vocab = ov.get_vocab(dir_path+str(file)+\"_desegmented.txt\")\n",
    "    oov_rates[file] = ov.compute_oov_rate(ov.augment_vocab(train_vocab, add_vocab), test_vocab)\n",
    "print(oov_rates)"
   ]
  },
  {
   "cell_type": "code",
   "execution_count": 12,
   "metadata": {},
   "outputs": [
    {
     "name": "stderr",
     "output_type": "stream",
     "text": [
      "No handles with labels found to put in legend.\n"
     ]
    },
    {
     "data": {
      "image/png": "[encoded data removed]",
      "text/plain": [
       "<Figure size 432x288 with 1 Axes>"
      ]
     },
     "metadata": {},
     "output_type": "display_data"
    }
   ],
   "source": [
    "ov.plot_oov_rates(oov_rates)"
   ]
  },
  {
   "cell_type": "markdown",
   "metadata": {},
   "source": [
    "### tuned large word model"
   ]
  },
  {
   "cell_type": "code",
   "execution_count": 13,
   "metadata": {},
   "outputs": [],
   "source": [
    "GEN_DATA_PATH = \"data/generated/hid50_bng_tr_wd_1500/\"\n",
    "MODEL_PATH = f\"./rnnlm_models/hid50_bng_tr_wd_1500\"\n",
    "\n",
    "from pathlib import Path\n",
    "Path(GEN_DATA_PATH).mkdir(parents=True, exist_ok=True)\n",
    "\n",
    "!bash gen_script.sh $GEN_DATA_PATH $MODEL_PATH"
   ]
  },
  {
   "cell_type": "code",
   "execution_count": 14,
   "metadata": {},
   "outputs": [],
   "source": [
    "# inspect 100.txt\n",
    "sentpiece.desegmentation(\"data/generated/hid50_bng_tr_wd_1500/100.txt\", \"bng_train_1500\")"
   ]
  },
  {
   "cell_type": "markdown",
   "metadata": {},
   "source": [
    "##### OOV comparison"
   ]
  },
  {
   "cell_type": "code",
   "execution_count": 15,
   "metadata": {},
   "outputs": [
    {
     "name": "stdout",
     "output_type": "stream",
     "text": [
      "10\n",
      "100\n",
      "1000\n",
      "10000\n",
      "100000\n",
      "1000000\n",
      "10000000\n",
      "{10: 0.13434656741108353, 100: 0.13434656741108353, 1000: 0.13430521091811415, 10000: 0.13391232423490487, 100000: 0.13122415219189412, 1000000: 0.12107113316790737, 10000000: 0.10206782464846981}\n"
     ]
    }
   ],
   "source": [
    "train_vocab, test_vocab = ov.get_vocab(TRAIN_DATA_PATH), ov.get_vocab(TEST_DATA_PATH) \n",
    "\n",
    "dir_path=\"data/generated/hid50_bng_tr_wd_1500/\"\n",
    "oov_rates = {}\n",
    "for i in range(1,8):\n",
    "    file=10**i\n",
    "    print(file)\n",
    "    if str(file)+\"_desegmented.txt\" not in os.listdir(dir_path):\n",
    "        sentpiece.desegmentation(dir_path+str(file)+\".txt\", \"bng_train_1500\")\n",
    "        \n",
    "    add_vocab = ov.get_vocab(dir_path+str(file)+\"_desegmented.txt\")\n",
    "    oov_rates[file] = ov.compute_oov_rate(ov.augment_vocab(train_vocab, add_vocab), test_vocab)\n",
    "print(oov_rates)"
   ]
  },
  {
   "cell_type": "code",
   "execution_count": 16,
   "metadata": {},
   "outputs": [
    {
     "name": "stderr",
     "output_type": "stream",
     "text": [
      "No handles with labels found to put in legend.\n"
     ]
    },
    {
     "data": {
      "image/png": "[encoded data removed]",
      "text/plain": [
       "<Figure size 432x288 with 1 Axes>"
      ]
     },
     "metadata": {},
     "output_type": "display_data"
    }
   ],
   "source": [
    "ov.plot_oov_rates(oov_rates)"
   ]
  },
  {
   "cell_type": "code",
   "execution_count": 15,
   "metadata": {},
   "outputs": [
    {
     "name": "stdout",
     "output_type": "stream",
     "text": [
      "bng_chr_50\n",
      "প্রকার ভিলতে ৷ত্কার নায়মে সে বিচারা করে আজদেরকে বছর্তার হাকিবেশ সাস্তি দেশে অনেক হিচাই দলাম করিস্প\n",
      "bng_tr_chr_100\n",
      "ঘরনা করতে বাংলাদে ভিপূরুভা দেহএবং গোতের বাসাল আইপ্রমাজ এম নাম রাষ্যা খুবি ধদি করবেন কার্র ১০০স্ডার জরে নাইট দায়ের কোনযতবার ও হুখা যাতে পিতে মায়া নি\n",
      "bng_tr_wd_1500\n",
      "ষড়ই লেগে নিসে তার জনপনা মারতে আসেনাএই ধরনের মোম্ম্বালা মিন্নি সব সোযত তাই না এ সরকারী ডিসির পিছন আর একটা খারাপ আর কেন উঠেছে একজন ফাসি চাই ভাইআসলে গেম হলেও কে বলছি আনি লেয়েলতা হবে পতিতা আরেকটা জ্বলা আমার গু ম্যাজি রুবেলের সাথে সঝজব করুন তার বাজে গাঁ সবার মানুষগুলোরলিগার রিকামুর দৃত্যে কোন কথা কি চোখে\n",
      "hd150_cl50_3_bng_tr_chr_50\n",
      "তার মেয়ে চুবু,,আমার চাকরি অাবন্ধ করেতোর সাবের ছিব তাহেমিকের মত মতো বলে সবার জন্য জপ্রাটকন্যাবাদুকী\n",
      "hd200_cl100_3_bng_tr_chr_100\n",
      "কাজলাথ ছিনো আছি আপনার প্লদ আছে এটিকে রাজ না এর সাথে ও এত ছিলো..._ক্ষে আড়ালি সুরাত কাজ করে ও ঘোটা দেখা খুশি প্রাণী ফুটবল যখন রোপো\n",
      "hid50_bng_tr_wd_1500\n",
      "এঙ্গারছাগলএডরিভারতে চাই সে জীবন দেখেননাসে যিনি আদরত্যা করোআমি বলছি মনে হয় নারুবেল দিনের কোন মিডিয়ার বলতো অপুমিড়া ল‍্য করুন আর সম্পর্কে পরিস্টি অথবা কুঠ গরম ডিম উপরে আলো সব ড্রেযোগ করিসবসমায়রে বাংলাদেশের বাল জলে দেখলে খুলনার বুক নেত ভিডিওতে পািয়েছোসবা প্রেমী শরীতো ভাইএর কে\n"
     ]
    }
   ],
   "source": [
    "# Observations from generated LM\n",
    "sentpiece.show_desegmented_file(\"data/generated/bng_chr_50/100_desegmented.txt\")\n",
    "sentpiece.show_desegmented_file(\"data/generated/bng_tr_chr_100/100_desegmented.txt\")\n",
    "sentpiece.show_desegmented_file(\"data/generated/bng_tr_wd_1500/100_desegmented.txt\")\n",
    "sentpiece.show_desegmented_file(\"data/generated/hd150_cl50_3_bng_tr_chr_50/100_desegmented.txt\")\n",
    "sentpiece.show_desegmented_file(\"data/generated/hd200_cl100_3_bng_tr_chr_100/100_desegmented.txt\")\n",
    "sentpiece.show_desegmented_file(\"data/generated/hid50_bng_tr_wd_1500/100_desegmented.txt\")"
   ]
  },
  {
   "cell_type": "markdown",
   "metadata": {},
   "source": [
    "##Do you see a difference in the quality of the generated data? Why could that be?"
   ]
  },
  {
   "cell_type": "markdown",
   "metadata": {},
   "source": [
    "### Observations\n",
    "\n",
    "\n",
    "#### baseline models\n",
    "\n",
    "| Language |   Level   | Voc. size | Hyperparams (hid-class-bptt) | Perplexity | OOV rate % (BS: 13.43%) |\n",
    "|:--------:|:---------:|:---------:|:--------------------------:|:----------:|:-------------------:|\n",
    "|  Bengali | Character |     50    |          40-9999-3         |  9.782082  |        11.53        |\n",
    "|  Bengali |   Small   |    100    |          40-9999-3         |  23.861190 |        11.22        |\n",
    "|  Bengali |   Large   |    1500   |          40-9999-3         | 319.937888 |        10.26        |\n",
    "\n",
    "#### tuned models \n",
    "| Language |   Level   | Voc. size | Hyperparams (hid-class-bptt) | Perplexity | OOV rate % (BS: 13.43%) |\n",
    "|:--------:|:---------:|:---------:|:--------------------------:|:----------:|:--------------------:|\n",
    "|  Bengali | Character |     50    |          150-50-3          |  7.537116  |         11.13        |\n",
    "|  **Bengali** |   **Small**   |    **100**    |          **200-100-3**         |  **17.242739** |         **10.65**        |\n",
    "|  Bengali |   Large   |    1500   |          50-9999-3         | 315.655359 |         10.21        |\n",
    "\n",
    "\n",
    "As expected, the added vocabulary from language models lowers the OOV rate. Across all models, the highest difference in oov rate is observed with the 10^7-sized LM generated output. So, for comparison with the baseline, we consider the OOV-rate corresponding to this augmentation. <br>\n",
    "The baseline OOV rate of 13.43% goes down to 11.13% with character-level tuned LM. It is further reduced to 10.65% and 10.21% with tuned small and large word-level LMs, respectively. However, we can clearly observe that the reduced OOV rates come at the price of increasing perplexity. <br>\n",
    "As the vocab-size of the LM increases, perplexity increases at a much faster rate than OOV rate. Experiments with vocab size larger than 1500 (eg. with vocab size 2500) showed perplexities as high as 460.93 for baseline and 457.38 for the tuned model. But there wasn't a significant difference in its OOV rate as compared to the 1500-vocab-sized model (10.19% for baseline and 10.16% for tuned). <br>\n",
    "**For practical purposes, we would choose the the tuned small word-level model, since it gives both a decent perplexity and a decent OOV-rate as compared to the other models.**  "
   ]
  },
  {
   "cell_type": "markdown",
   "metadata": {},
   "source": [
    "# Analysis"
   ]
  },
  {
   "cell_type": "markdown",
   "metadata": {},
   "source": [
    "##### what we aimed to achieve\n",
    "The goal of this project was to find optimal subwords and train a language model over these subwords to alleviate the OOV problem in two morphologically distinct languages: English and Bengali. This was done by augmenting the train data with the data generated by trained language models and finding the optimal OOV rate on the test set using the augmented train corpora.  <br>\n",
    "\n",
    "###### summary of our observations for all tasks \n",
    "1. Data Preparation: After manually inspecting both corpora, following preprocessing steps are done: \n",
    "\n",
    "    For English:\n",
    "        - Simple noise removal: asterisk (*) symbols are removed, sequences ‘_I_’ are substituted with the character ‘I’ and sequences ‘--’ are substituted with whitespaces.\n",
    "        - Lowercasing: In order to reduce vocabulary size, however, we should experiment and test results without lowercasing.\n",
    "        - Other methods (e.g. stemming, stopwords removal, expendin contractions) are not used since it is a language modeling task and we want to preserve language style.  \n",
    "\n",
    "    For Bengali:\n",
    "        - Line break html tags are used to segment text, which is further broken down into smaller sentences using punctuations \"।!?\".\n",
    "        - Simple noise removal from sentences: English words/characters, numbers, html tags and emoji flags are removed. \n",
    "\n",
    "\n",
    "2. Subword Segmentation  \n",
    "For Bengali, \n",
    "\n",
    "3. LM Training\n",
    "\n",
    "\n",
    "###### whether our expectations were fulfilled  \n",
    "Yes, we achieved significantly lower OOV-rates than the baseline with our models. \n",
    "\n",
    "##### takeaways from this project \n",
    "\n",
    "\n",
    "##### how do results differ for English and Bengali\n",
    "\n",
    "\n",
    "##### hyperparameters we use to optimize the OOV rates \n",
    "\n",
    "\n",
    "\n",
    "##### ways to further improve results "
   ]
  },
  {
   "cell_type": "code",
   "execution_count": null,
   "metadata": {},
   "outputs": [],
   "source": []
  }
 ],
 "metadata": {
  "kernelspec": {
   "display_name": "Python 3",
   "language": "python",
   "name": "python3"
  },
  "language_info": {
   "codemirror_mode": {
    "name": "ipython",
    "version": 3
   },
   "file_extension": ".py",
   "mimetype": "text/x-python",
   "name": "python",
   "nbconvert_exporter": "python",
   "pygments_lexer": "ipython3",
   "version": "3.6.9"
  }
 },
 "nbformat": 4,
 "nbformat_minor": 2
}
